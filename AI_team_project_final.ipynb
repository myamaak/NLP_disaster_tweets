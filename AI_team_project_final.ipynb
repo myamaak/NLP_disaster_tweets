{
  "nbformat": 4,
  "nbformat_minor": 0,
  "metadata": {
    "colab": {
      "name": "AI team project_final",
      "provenance": [],
      "collapsed_sections": [],
      "include_colab_link": true
    },
    "kernelspec": {
      "display_name": "Python 3",
      "name": "python3"
    },
    "accelerator": "GPU"
  },
  "cells": [
    {
      "cell_type": "markdown",
      "metadata": {
        "id": "view-in-github",
        "colab_type": "text"
      },
      "source": [
        "<a href=\"https://colab.research.google.com/github/myamaak/NLP_disaster_tweets/blob/master/AI_team_project_final.ipynb\" target=\"_parent\"><img src=\"https://colab.research.google.com/assets/colab-badge.svg\" alt=\"Open In Colab\"/></a>"
      ]
    },
    {
      "cell_type": "markdown",
      "metadata": {
        "id": "uJ5T9ZlbMKW-"
      },
      "source": [
        "#Team #7 - Final presentation"
      ]
    },
    {
      "cell_type": "markdown",
      "metadata": {
        "id": "u3TAXr3nQG8v"
      },
      "source": [
        "#Explanation"
      ]
    },
    {
      "cell_type": "markdown",
      "metadata": {
        "id": "44AABiguMdqx"
      },
      "source": [
        "Motivation & Explanation of problem"
      ]
    },
    {
      "cell_type": "markdown",
      "metadata": {
        "id": "4QKEpWXWMsTT"
      },
      "source": [
        "- Topic : Real or Not? NLP with Disaster Tweets (Kaggle)\r\n",
        "\r\n",
        "- Motivation : Our team choose the topic dealing with NLP. The importance of NLP is increasing and the market for NLP is growing very fast. According to a report released by Research & Market, the market will grow from 10.2 billion dollars in 2019 up to 26.4 billion dollars in 2024 with 21.0% CAGR during the forecast period.\r\n",
        "Furthermore, among many topics in Kaggle that deal with NLP technology, we choose the topic dealing with the data from Twitter. In These days, Twitter has become an important communication channel.\r\n",
        "\r\n",
        "- Problem : Not always clear whether a person`s words are announcing a disaster for real!"
      ]
    },
    {
      "cell_type": "markdown",
      "metadata": {
        "id": "oCFfGLudNvDd"
      },
      "source": [
        "All Precess"
      ]
    },
    {
      "cell_type": "markdown",
      "metadata": {
        "id": "9ZwSVJZKNxdg"
      },
      "source": [
        "![image.png](data:image/png;base64,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)"
      ]
    },
    {
      "cell_type": "code",
      "metadata": {
        "id": "lyculuRiSuE9"
      },
      "source": [
        "import os\n",
        "from google.colab import drive\n",
        "import numpy as np \n",
        "import pandas as pd\n",
        "import string  \n",
        "import re   \n",
        "import json\n",
        "from sklearn.model_selection import train_test_split\n",
        "from sklearn.metrics import classification_report, accuracy_score\n",
        "import nltk\n",
        "from nltk.tokenize import word_tokenize\n",
        "from keras.preprocessing.text import Tokenizer\n",
        "from keras.preprocessing.sequence import pad_sequences\n",
        "from keras.layers import Dense, Flatten, LSTM, Conv1D, MaxPooling1D, Dropout, Activation, GlobalMaxPooling1D, MaxPool1D, Conv2D, Input, Embedding, Reshape, MaxPool2D, Concatenate\n",
        "from keras.layers.embeddings import Embedding\n",
        "from keras.layers import MaxPool1D\n",
        "from keras.models import Model\n",
        "from keras import regularizers\n",
        "from sklearn.model_selection import GridSearchCV\n",
        "from keras.wrappers.scikit_learn import KerasClassifier\n",
        "from keras.models import Sequential\n",
        "from tensorflow import keras\n",
        "from keras.models import load_model\n",
        "from sklearn.linear_model import SGDClassifier\n",
        "from sklearn import svm\n",
        "from sklearn.metrics import accuracy_score\n",
        "from sklearn.metrics import classification_report\n",
        "import pickle\n",
        "from sklearn.neighbors import KNeighborsClassifier\n",
        "from keras.utils import plot_model\n",
        "import matplotlib.pyplot as plt\n",
        "from sklearn.metrics import precision_score\n",
        "from sklearn.metrics import recall_score\n",
        "from sklearn.metrics import f1_score"
      ],
      "execution_count": 1,
      "outputs": []
    },
    {
      "cell_type": "markdown",
      "metadata": {
        "id": "J9KGXWT2QK9H"
      },
      "source": [
        "#1.Input data"
      ]
    },
    {
      "cell_type": "markdown",
      "metadata": {
        "id": "DnfnXiQ5QPve"
      },
      "source": [
        "(1) Download the data"
      ]
    },
    {
      "cell_type": "code",
      "metadata": {
        "colab": {
          "base_uri": "https://localhost:8080/"
        },
        "id": "xGsipTQhONOp",
        "outputId": "5ab0f7ff-e28b-439f-e23b-e7392cf84589"
      },
      "source": [
        "#mount to gdrive\n",
        "\n",
        "drive.mount('/content/gdrive')"
      ],
      "execution_count": 91,
      "outputs": [
        {
          "output_type": "stream",
          "text": [
            "Drive already mounted at /content/gdrive; to attempt to forcibly remount, call drive.mount(\"/content/gdrive\", force_remount=True).\n"
          ],
          "name": "stdout"
        }
      ]
    },
    {
      "cell_type": "code",
      "metadata": {
        "id": "fSnIj6KiObjP",
        "colab": {
          "base_uri": "https://localhost:8080/",
          "height": 198
        },
        "outputId": "f85cb41a-a085-4563-a0c5-040d733afa6c"
      },
      "source": [
        "train_data = pd.read_csv('/content/gdrive/My Drive/AI Lecture/kaggle/train.csv')\n",
        "test_data = pd.read_csv('/content/gdrive/My Drive/AI Lecture/kaggle/test.csv')\n",
        "train_data.head(5)"
      ],
      "execution_count": 103,
      "outputs": [
        {
          "output_type": "execute_result",
          "data": {
            "text/html": [
              "<div>\n",
              "<style scoped>\n",
              "    .dataframe tbody tr th:only-of-type {\n",
              "        vertical-align: middle;\n",
              "    }\n",
              "\n",
              "    .dataframe tbody tr th {\n",
              "        vertical-align: top;\n",
              "    }\n",
              "\n",
              "    .dataframe thead th {\n",
              "        text-align: right;\n",
              "    }\n",
              "</style>\n",
              "<table border=\"1\" class=\"dataframe\">\n",
              "  <thead>\n",
              "    <tr style=\"text-align: right;\">\n",
              "      <th></th>\n",
              "      <th>id</th>\n",
              "      <th>keyword</th>\n",
              "      <th>location</th>\n",
              "      <th>text</th>\n",
              "      <th>target</th>\n",
              "    </tr>\n",
              "  </thead>\n",
              "  <tbody>\n",
              "    <tr>\n",
              "      <th>0</th>\n",
              "      <td>1</td>\n",
              "      <td>NaN</td>\n",
              "      <td>NaN</td>\n",
              "      <td>Our Deeds are the Reason of this #earthquake M...</td>\n",
              "      <td>1</td>\n",
              "    </tr>\n",
              "    <tr>\n",
              "      <th>1</th>\n",
              "      <td>4</td>\n",
              "      <td>NaN</td>\n",
              "      <td>NaN</td>\n",
              "      <td>Forest fire near La Ronge Sask. Canada</td>\n",
              "      <td>1</td>\n",
              "    </tr>\n",
              "    <tr>\n",
              "      <th>2</th>\n",
              "      <td>5</td>\n",
              "      <td>NaN</td>\n",
              "      <td>NaN</td>\n",
              "      <td>All residents asked to 'shelter in place' are ...</td>\n",
              "      <td>1</td>\n",
              "    </tr>\n",
              "    <tr>\n",
              "      <th>3</th>\n",
              "      <td>6</td>\n",
              "      <td>NaN</td>\n",
              "      <td>NaN</td>\n",
              "      <td>13,000 people receive #wildfires evacuation or...</td>\n",
              "      <td>1</td>\n",
              "    </tr>\n",
              "    <tr>\n",
              "      <th>4</th>\n",
              "      <td>7</td>\n",
              "      <td>NaN</td>\n",
              "      <td>NaN</td>\n",
              "      <td>Just got sent this photo from Ruby #Alaska as ...</td>\n",
              "      <td>1</td>\n",
              "    </tr>\n",
              "  </tbody>\n",
              "</table>\n",
              "</div>"
            ],
            "text/plain": [
              "   id keyword  ...                                               text target\n",
              "0   1     NaN  ...  Our Deeds are the Reason of this #earthquake M...      1\n",
              "1   4     NaN  ...             Forest fire near La Ronge Sask. Canada      1\n",
              "2   5     NaN  ...  All residents asked to 'shelter in place' are ...      1\n",
              "3   6     NaN  ...  13,000 people receive #wildfires evacuation or...      1\n",
              "4   7     NaN  ...  Just got sent this photo from Ruby #Alaska as ...      1\n",
              "\n",
              "[5 rows x 5 columns]"
            ]
          },
          "metadata": {
            "tags": []
          },
          "execution_count": 103
        }
      ]
    },
    {
      "cell_type": "code",
      "metadata": {
        "id": "VYGbdo6Wkb7F",
        "colab": {
          "base_uri": "https://localhost:8080/",
          "height": 198
        },
        "outputId": "5888f535-e181-4862-aec4-aaca90803a55"
      },
      "source": [
        "test_data.head(5)"
      ],
      "execution_count": 4,
      "outputs": [
        {
          "output_type": "execute_result",
          "data": {
            "text/html": [
              "<div>\n",
              "<style scoped>\n",
              "    .dataframe tbody tr th:only-of-type {\n",
              "        vertical-align: middle;\n",
              "    }\n",
              "\n",
              "    .dataframe tbody tr th {\n",
              "        vertical-align: top;\n",
              "    }\n",
              "\n",
              "    .dataframe thead th {\n",
              "        text-align: right;\n",
              "    }\n",
              "</style>\n",
              "<table border=\"1\" class=\"dataframe\">\n",
              "  <thead>\n",
              "    <tr style=\"text-align: right;\">\n",
              "      <th></th>\n",
              "      <th>id</th>\n",
              "      <th>keyword</th>\n",
              "      <th>location</th>\n",
              "      <th>text</th>\n",
              "    </tr>\n",
              "  </thead>\n",
              "  <tbody>\n",
              "    <tr>\n",
              "      <th>0</th>\n",
              "      <td>0</td>\n",
              "      <td>NaN</td>\n",
              "      <td>NaN</td>\n",
              "      <td>Just happened a terrible car crash</td>\n",
              "    </tr>\n",
              "    <tr>\n",
              "      <th>1</th>\n",
              "      <td>2</td>\n",
              "      <td>NaN</td>\n",
              "      <td>NaN</td>\n",
              "      <td>Heard about #earthquake is different cities, s...</td>\n",
              "    </tr>\n",
              "    <tr>\n",
              "      <th>2</th>\n",
              "      <td>3</td>\n",
              "      <td>NaN</td>\n",
              "      <td>NaN</td>\n",
              "      <td>there is a forest fire at spot pond, geese are...</td>\n",
              "    </tr>\n",
              "    <tr>\n",
              "      <th>3</th>\n",
              "      <td>9</td>\n",
              "      <td>NaN</td>\n",
              "      <td>NaN</td>\n",
              "      <td>Apocalypse lighting. #Spokane #wildfires</td>\n",
              "    </tr>\n",
              "    <tr>\n",
              "      <th>4</th>\n",
              "      <td>11</td>\n",
              "      <td>NaN</td>\n",
              "      <td>NaN</td>\n",
              "      <td>Typhoon Soudelor kills 28 in China and Taiwan</td>\n",
              "    </tr>\n",
              "  </tbody>\n",
              "</table>\n",
              "</div>"
            ],
            "text/plain": [
              "   id keyword location                                               text\n",
              "0   0     NaN      NaN                 Just happened a terrible car crash\n",
              "1   2     NaN      NaN  Heard about #earthquake is different cities, s...\n",
              "2   3     NaN      NaN  there is a forest fire at spot pond, geese are...\n",
              "3   9     NaN      NaN           Apocalypse lighting. #Spokane #wildfires\n",
              "4  11     NaN      NaN      Typhoon Soudelor kills 28 in China and Taiwan"
            ]
          },
          "metadata": {
            "tags": []
          },
          "execution_count": 4
        }
      ]
    },
    {
      "cell_type": "markdown",
      "metadata": {
        "id": "m2UwK8U2kaXO"
      },
      "source": [
        "we picked a sample data to see if how it changes after data cleaning"
      ]
    },
    {
      "cell_type": "code",
      "metadata": {
        "colab": {
          "base_uri": "https://localhost:8080/"
        },
        "id": "0TS1YPg6aMCO",
        "outputId": "f16ae43b-584b-4a09-a269-db6e08429eac"
      },
      "source": [
        "sample = train_data['text'][304] #noisy data #not disas\n",
        "print(sample)"
      ],
      "execution_count": 5,
      "outputs": [
        {
          "output_type": "stream",
          "text": [
            "#PBBan (Temporary:300) avYsss @'aRmageddon | DO NOT KILL | FLAGS ONLY | Fast XP' for Reason\n"
          ],
          "name": "stdout"
        }
      ]
    },
    {
      "cell_type": "markdown",
      "metadata": {
        "id": "nedJu86rGxwz"
      },
      "source": [
        "(2) See the distribution of traing samples briefly"
      ]
    },
    {
      "cell_type": "code",
      "metadata": {
        "id": "fTRfpa8HDatb",
        "colab": {
          "base_uri": "https://localhost:8080/",
          "height": 868
        },
        "outputId": "1f1048b5-04f5-430f-fa31-18ed4a31dd8d"
      },
      "source": [
        "#See the distribution of target\r\n",
        "import seaborn as sns\r\n",
        "feature_1='target'\r\n",
        "sns.countplot(feature_1, data=train_data)\r\n",
        "print('Target of 0 is {} % of total'.format(round(train_data[feature_1].value_counts()[0]/len(train_data[feature_1])*100)))\r\n",
        "print('Target of 1 is {} % of total'.format(round(train_data[feature_1].value_counts()[1]/len(train_data[feature_1])*100)))\r\n",
        "\r\n",
        "#See the top 15 keywords of train_data\r\n",
        "import matplotlib.pyplot as plt\r\n",
        "plt.figure(figsize=(9,6))\r\n",
        "sns.countplot(y=train_data.keyword, order = train_data.keyword.value_counts().iloc[:15].index)\r\n",
        "plt.title('Top 15 keywords')\r\n",
        "plt.show()\r\n",
        "\r\n",
        "#Check the number of null vales\r\n",
        "train_data.isnull().sum()\r\n"
      ],
      "execution_count": 6,
      "outputs": [
        {
          "output_type": "stream",
          "text": [
            "Target of 0 is 57.0 % of total\n",
            "Target of 1 is 43.0 % of total\n"
          ],
          "name": "stdout"
        },
        {
          "output_type": "stream",
          "text": [
            "/usr/local/lib/python3.6/dist-packages/seaborn/_decorators.py:43: FutureWarning: Pass the following variable as a keyword arg: x. From version 0.12, the only valid positional argument will be `data`, and passing other arguments without an explicit keyword will result in an error or misinterpretation.\n",
            "  FutureWarning\n"
          ],
          "name": "stderr"
        },
        {
          "output_type": "display_data",
          "data": {
            "image/png": "[encoded data removed]",
            "text/plain": [
              "<Figure size 432x288 with 1 Axes>"
            ]
          },
          "metadata": {
            "tags": [],
            "needs_background": "light"
          }
        },
        {
          "output_type": "display_data",
          "data": {
            "image/png": "[encoded data removed]",
            "text/plain": [
              "<Figure size 648x432 with 1 Axes>"
            ]
          },
          "metadata": {
            "tags": [],
            "needs_background": "light"
          }
        },
        {
          "output_type": "execute_result",
          "data": {
            "text/plain": [
              "id             0\n",
              "keyword       61\n",
              "location    2533\n",
              "text           0\n",
              "target         0\n",
              "dtype: int64"
            ]
          },
          "metadata": {
            "tags": []
          },
          "execution_count": 6
        }
      ]
    },
    {
      "cell_type": "markdown",
      "metadata": {
        "id": "jQ-gNpLflVLb"
      },
      "source": [
        "data length before cleaning is as follows."
      ]
    },
    {
      "cell_type": "code",
      "metadata": {
        "colab": {
          "base_uri": "https://localhost:8080/"
        },
        "id": "lwXMcO4Vcnh1",
        "outputId": "f1eca065-4e47-4977-8173-ed13e54523f1"
      },
      "source": [
        "print(len(train_data))"
      ],
      "execution_count": 93,
      "outputs": [
        {
          "output_type": "stream",
          "text": [
            "7613\n"
          ],
          "name": "stdout"
        }
      ]
    },
    {
      "cell_type": "markdown",
      "metadata": {
        "id": "45I-cc_YlZTK"
      },
      "source": [
        "if we remove duplicates in data before cleaning, we can see there are some datas removed already. After cleaning, there will be even more duplicates.\r\n",
        "\r\n",
        "![image.png](data:image/png;base64,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)"
      ]
    },
    {
      "cell_type": "markdown",
      "metadata": {
        "id": "DIJ6lL--QZMR"
      },
      "source": [
        "#2. Text Cleaning"
      ]
    },
    {
      "cell_type": "markdown",
      "metadata": {
        "id": "rjea9YiHb9oP"
      },
      "source": [
        "text cleaning\n",
        "- remove url\n",
        "- remove html tags\n",
        "- remove emojis\n",
        "- remove punctuations\n",
        "- spelling correction\n",
        "\n",
        "+ convert all charters into lowercase\n",
        "+ tokenization\n",
        "+ removing stopwords\n",
        "+ stemming and lemmatization\n",
        "+ remove the words having length <=2\n",
        "\n",
        "- remove duplicate at the end of cleaning!"
      ]
    },
    {
      "cell_type": "markdown",
      "metadata": {
        "id": "6H10W4fLQmMc"
      },
      "source": [
        "**Text cleaning(1) : remove URL, HTML tag, emojis, punctuations**\r\n",
        "\r\n",
        "we thought that emojis might also include some valuable information. So, instead of eliminating the whole emoji, we converted them into corresponding text."
      ]
    },
    {
      "cell_type": "code",
      "metadata": {
        "id": "ypyMhTHzgjpG"
      },
      "source": [
        "#remove url\n",
        "def remove_URL(text):\n",
        "    url = re.compile(r'https?://\\S+|www\\.\\S+')\n",
        "    return url.sub(r'',text)"
      ],
      "execution_count": 13,
      "outputs": []
    },
    {
      "cell_type": "code",
      "metadata": {
        "id": "2kw0_AZCHkd4"
      },
      "source": [
        "#remove html\n",
        "def remove_HTML(text):\n",
        "    html=re.compile(r'<.*?>')\n",
        "    return html.sub(r'',text)"
      ],
      "execution_count": 14,
      "outputs": []
    },
    {
      "cell_type": "code",
      "metadata": {
        "colab": {
          "base_uri": "https://localhost:8080/"
        },
        "id": "GsNXuvONhGl0",
        "outputId": "df68b77c-e4c9-4aeb-c9b3-4118e43cd13f"
      },
      "source": [
        "!pip install emoji"
      ],
      "execution_count": 15,
      "outputs": [
        {
          "output_type": "stream",
          "text": [
            "Requirement already satisfied: emoji in /usr/local/lib/python3.6/dist-packages (0.6.0)\n"
          ],
          "name": "stdout"
        }
      ]
    },
    {
      "cell_type": "code",
      "metadata": {
        "id": "6-gap5ofhJd1"
      },
      "source": [
        "#remove emoji\n",
        "\n",
        "import emoji\n",
        "def remove_emoji(text):\n",
        "  return emoji.demojize(text)"
      ],
      "execution_count": 16,
      "outputs": []
    },
    {
      "cell_type": "code",
      "metadata": {
        "id": "ApPLz9Qrd6-p"
      },
      "source": [
        "#remove punctuations\n",
        "\n",
        "import string  \n",
        "import re   \n",
        "\n",
        "punct = string.punctuation  \n",
        "\n",
        "def remove_punct(text):\n",
        "  text  = \"\".join([char for char in text if char not in punct])\n",
        "  text = re.sub('[0-9]+', '', text) #숫자 제거\n",
        "  return text"
      ],
      "execution_count": 17,
      "outputs": []
    },
    {
      "cell_type": "markdown",
      "metadata": {
        "id": "tbqDYfDRldql"
      },
      "source": [
        "**Text cleaning(2):correct spelling**\r\n",
        "\r\n",
        "spellchecker is a popular module to correct spelling in python. However it cannot be used in colab"
      ]
    },
    {
      "cell_type": "code",
      "metadata": {
        "colab": {
          "base_uri": "https://localhost:8080/"
        },
        "id": "FWf9SU_yli_K",
        "outputId": "fab97bd5-cca7-4f89-8086-8902245b0e31"
      },
      "source": [
        "# Install java\n",
        "!apt-get update -qq\n",
        "!apt-get install -y openjdk-8-jdk-headless -qq > /dev/null\n",
        "!java -version\n",
        "\n",
        "# Install pyspark\n",
        "!pip install --ignore-installed -q pyspark==2.4.4\n",
        "\n",
        "# Install Sparknlp\n",
        "!pip install --ignore-installed spark-nlp"
      ],
      "execution_count": 18,
      "outputs": [
        {
          "output_type": "stream",
          "text": [
            "openjdk version \"11.0.9.1\" 2020-11-04\n",
            "OpenJDK Runtime Environment (build 11.0.9.1+1-Ubuntu-0ubuntu1.18.04)\n",
            "OpenJDK 64-Bit Server VM (build 11.0.9.1+1-Ubuntu-0ubuntu1.18.04, mixed mode, sharing)\n",
            "\u001b[K     |████████████████████████████████| 215.7MB 64kB/s \n",
            "\u001b[K     |████████████████████████████████| 204kB 54.3MB/s \n",
            "\u001b[?25h  Building wheel for pyspark (setup.py) ... \u001b[?25l\u001b[?25hdone\n",
            "Collecting spark-nlp\n",
            "\u001b[?25l  Downloading https://files.pythonhosted.org/packages/d9/26/f7a6ac12339d2f1ed271c46c16705665620059e4559f323695925f3c63b4/spark_nlp-2.6.4-py2.py3-none-any.whl (129kB)\n",
            "\u001b[K     |████████████████████████████████| 133kB 15.6MB/s \n",
            "\u001b[?25hInstalling collected packages: spark-nlp\n",
            "Successfully installed spark-nlp-2.6.4\n"
          ],
          "name": "stdout"
        }
      ]
    },
    {
      "cell_type": "code",
      "metadata": {
        "id": "Y35E3FNcmVLi"
      },
      "source": [
        "from pyspark.ml import Pipeline\n",
        "from pyspark.sql import SparkSession\n",
        "import pyspark.sql.functions as F\n",
        "from sparknlp.annotator import *\n",
        "from sparknlp.base import *\n",
        "import sparknlp\n",
        "from sparknlp.pretrained import PretrainedPipeline\n",
        "\n",
        "os.environ[\"JAVA_HOME\"] = \"/usr/lib/jvm/java-8-openjdk-amd64\"\n",
        "os.environ[\"PATH\"] = os.environ[\"JAVA_HOME\"] + \"/bin:\" + os.environ[\"PATH\"]"
      ],
      "execution_count": 19,
      "outputs": []
    },
    {
      "cell_type": "code",
      "metadata": {
        "id": "LkXPk1o2mXcV"
      },
      "source": [
        "#start spark session\r\n",
        "spark = sparknlp.start()"
      ],
      "execution_count": 20,
      "outputs": []
    },
    {
      "cell_type": "code",
      "metadata": {
        "colab": {
          "base_uri": "https://localhost:8080/"
        },
        "id": "L8UmJ5twpKbn",
        "outputId": "100ae0dd-7b28-40a1-8e42-a7bdd695361f"
      },
      "source": [
        "#Select the NER model and construct the pipeline\n",
        "document_assembler = DocumentAssembler()\\\n",
        "  .setInputCol(\"text\")\\\n",
        "  .setOutputCol(\"document\")\n",
        "\n",
        "tokenizer = RecursiveTokenizer()\\\n",
        "  .setInputCols([\"document\"])\\\n",
        "  .setOutputCol(\"token\")\\\n",
        "  .setPrefixes([\"\\\"\", \"(\", \"[\", \"\\n\"])\\\n",
        "  .setSuffixes([\".\", \",\", \"?\", \")\",\"!\", \"‘s\"])\n",
        "\n",
        "spell_model = ContextSpellCheckerModel\\\n",
        "    .pretrained('spellcheck_dl')\\\n",
        "    .setInputCols(\"token\")\\\n",
        "    .setOutputCol(\"corrected\")\n",
        "\n",
        "finisher = Finisher().setInputCols(\"corrected\")\n",
        "\n",
        "light_pipeline = Pipeline(stages = [\n",
        "                                    document_assembler,\n",
        "                                    tokenizer,\n",
        "                                    spell_model,\n",
        "                                    finisher\n",
        "                                    ])\n",
        "\n",
        "empty_ds = spark.createDataFrame([[\"\"]]).toDF(\"text\")\n",
        "l_pipeline_model = LightPipeline(light_pipeline.fit(empty_ds))"
      ],
      "execution_count": 21,
      "outputs": [
        {
          "output_type": "stream",
          "text": [
            "spellcheck_dl download started this may take some time.\n",
            "Approximate size to download 112 MB\n",
            "[OK!]\n"
          ],
          "name": "stdout"
        }
      ]
    },
    {
      "cell_type": "code",
      "metadata": {
        "id": "0NTeC3nZpqoR"
      },
      "source": [
        "#function to correct spellings\n",
        "#input : single text sentence of str\n",
        "# ex) \"Plaese alliow me tao introdduce myhelf, I am a man of waelth und tiaste\"\n",
        "def correct_spelling(text):\n",
        "  result = l_pipeline_model.annotate(text)\n",
        "  result = ' '.join(result['corrected'])\n",
        "  return result\n",
        "  "
      ],
      "execution_count": 22,
      "outputs": []
    },
    {
      "cell_type": "markdown",
      "metadata": {
        "id": "Fm3dJU0Rn35N"
      },
      "source": [
        "**Text cleaning(3) Convert all charters into lowercase**"
      ]
    },
    {
      "cell_type": "code",
      "metadata": {
        "id": "Wm06LNvHoC_N"
      },
      "source": [
        "def clean_lowercase(text):\n",
        "  return str(text).lower()"
      ],
      "execution_count": 23,
      "outputs": []
    },
    {
      "cell_type": "markdown",
      "metadata": {
        "id": "pFtJDr2LoOmj"
      },
      "source": [
        "**Text cleaning(4) Tokenization**"
      ]
    },
    {
      "cell_type": "code",
      "metadata": {
        "colab": {
          "base_uri": "https://localhost:8080/"
        },
        "id": "meMwdCe_oXJO",
        "outputId": "83d55973-8162-4e7c-cc92-3ebc6b90135d"
      },
      "source": [
        "import nltk\n",
        "from nltk.tokenize import word_tokenize\n",
        "nltk.download(\"punkt\")\n",
        "def clean_tokenization(text):\n",
        "  return word_tokenize(text)"
      ],
      "execution_count": 24,
      "outputs": [
        {
          "output_type": "stream",
          "text": [
            "[nltk_data] Downloading package punkt to /root/nltk_data...\n",
            "[nltk_data]   Unzipping tokenizers/punkt.zip.\n"
          ],
          "name": "stdout"
        }
      ]
    },
    {
      "cell_type": "markdown",
      "metadata": {
        "id": "bs3MzwMSodBo"
      },
      "source": [
        "**Text cleaning(5) Removing stopwords**"
      ]
    },
    {
      "cell_type": "code",
      "metadata": {
        "id": "PXcvoC16ohY0"
      },
      "source": [
        "# nltk.download(\"stopwords\")\n",
        "# from nltk.corpus import stopwords\n",
        "# stop_words = set(stopwords.words('english'))\n",
        "# def clean_stopwords(text):\n",
        "#        return [item for item in text if item not in stop_words]\n",
        "\n",
        "stop_words = [\"the\", \"a\", \"to\", \"and\", \"of\"]\n",
        "def clean_stopwords(text):\n",
        "       return [item for item in text if item not in stop_words]"
      ],
      "execution_count": 25,
      "outputs": []
    },
    {
      "cell_type": "markdown",
      "metadata": {
        "id": "BPw9qa6wonoO"
      },
      "source": [
        "**Text cleaning(6) Lemmatization**"
      ]
    },
    {
      "cell_type": "code",
      "metadata": {
        "colab": {
          "base_uri": "https://localhost:8080/"
        },
        "id": "bh-R84kNoyjP",
        "outputId": "85d5a126-a611-43ae-c5f5-1cbedb72a582"
      },
      "source": [
        "from nltk.stem import WordNetLemmatizer\n",
        "lemma=WordNetLemmatizer()\n",
        "nltk.download(\"wordnet\")\n",
        "def clean_lemmatization(token):\n",
        "  return [lemma.lemmatize(word=w,pos='v') for w in token]"
      ],
      "execution_count": 26,
      "outputs": [
        {
          "output_type": "stream",
          "text": [
            "[nltk_data] Downloading package wordnet to /root/nltk_data...\n",
            "[nltk_data]   Unzipping corpora/wordnet.zip.\n"
          ],
          "name": "stdout"
        }
      ]
    },
    {
      "cell_type": "markdown",
      "metadata": {
        "id": "gFp0Dus8o0ic"
      },
      "source": [
        "**Text cleaning(7) Remove the words with length<=2**"
      ]
    },
    {
      "cell_type": "code",
      "metadata": {
        "id": "HrSVPWcfo5_Y"
      },
      "source": [
        "def clean_length(token):\n",
        "  return [i for i in token if len(i)>2]"
      ],
      "execution_count": 27,
      "outputs": []
    },
    {
      "cell_type": "markdown",
      "metadata": {
        "id": "7xSlZjJU8mja"
      },
      "source": [
        "**Text cleaning(8)  Convert the list of tokens into back to the string**"
      ]
    },
    {
      "cell_type": "code",
      "metadata": {
        "id": "AS6B3IeP8emx"
      },
      "source": [
        "def convert_tostring(token):\n",
        "  return ' '.join(token)"
      ],
      "execution_count": 28,
      "outputs": []
    },
    {
      "cell_type": "markdown",
      "metadata": {
        "id": "96uIZ45JrfjN"
      },
      "source": [
        "**Text cleaning and saving (final)**"
      ]
    },
    {
      "cell_type": "code",
      "metadata": {
        "id": "jBfoMAfyrmVQ"
      },
      "source": [
        "def clean(this_text):\n",
        "  this_text = remove_URL(this_text)\n",
        "  this_text = remove_emoji(this_text)\n",
        "  this_text = remove_punct(this_text)\n",
        "  this_text = correct_spelling(this_text)\n",
        "  this_text = clean_lowercase(this_text)\n",
        "  this_text = clean_tokenization(str(this_text))\n",
        "  this_text = clean_stopwords(this_text)\n",
        "  this_text = clean_lemmatization(this_text)\n",
        "  this_text = clean_length(this_text)\n",
        "  this_text = convert_tostring(this_text)\n",
        "  return this_text"
      ],
      "execution_count": 29,
      "outputs": []
    },
    {
      "cell_type": "markdown",
      "metadata": {
        "id": "dA84blUimgsL"
      },
      "source": [
        "Here, we will see how the formal, noisy data have changed after all the cleaning process.\r\n",
        "\r\n",
        "This was the sample data :\r\n",
        "\r\n",
        "![image.png](data:image/png;base64,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)"
      ]
    },
    {
      "cell_type": "code",
      "metadata": {
        "colab": {
          "base_uri": "https://localhost:8080/",
          "height": 35
        },
        "id": "PvTmDW1jLSLE",
        "outputId": "62f84888-3219-415f-ede7-9e28fcdbcf26"
      },
      "source": [
        "clean(sample)"
      ],
      "execution_count": 30,
      "outputs": [
        {
          "output_type": "execute_result",
          "data": {
            "application/vnd.google.colaboratory.intrinsic+json": {
              "type": "string"
            },
            "text/plain": [
              "'bean temporary assess armageddon not kill flag only fast for reason'"
            ]
          },
          "metadata": {
            "tags": []
          },
          "execution_count": 30
        }
      ]
    },
    {
      "cell_type": "markdown",
      "metadata": {
        "id": "0A1MGAX3mrCg"
      },
      "source": [
        "we can see that text cleaning works fine. Now we clean the whole dataset."
      ]
    },
    {
      "cell_type": "code",
      "metadata": {
        "id": "98NYVrUwMllu"
      },
      "source": [
        "train=[]\n",
        "for i in train_data['text']:\n",
        "  train.append(clean(i))"
      ],
      "execution_count": 94,
      "outputs": []
    },
    {
      "cell_type": "code",
      "metadata": {
        "colab": {
          "base_uri": "https://localhost:8080/"
        },
        "id": "zxhDfYvcLKrN",
        "outputId": "03e38900-80e1-4b7f-e200-47fbc92db232"
      },
      "source": [
        "train[7610:]"
      ],
      "execution_count": 106,
      "outputs": [
        {
          "output_type": "execute_result",
          "data": {
            "text/plain": [
              "['volcano hawaii',\n",
              " 'police investigate after bike combine with car little portugal like river suffer serious online threaten injuries',\n",
              " 'latest more home raze northern california wildlife abc news']"
            ]
          },
          "metadata": {
            "tags": []
          },
          "execution_count": 106
        }
      ]
    },
    {
      "cell_type": "code",
      "metadata": {
        "colab": {
          "base_uri": "https://localhost:8080/"
        },
        "id": "7fnv0VUseaUS",
        "outputId": "7ee875da-a3ba-46e2-e807-384bfb8d3f70"
      },
      "source": [
        "for i in range(len(train)):\n",
        "  train_data['text'][i] = train[i]"
      ],
      "execution_count": 107,
      "outputs": [
        {
          "output_type": "stream",
          "text": [
            "/usr/local/lib/python3.6/dist-packages/ipykernel_launcher.py:2: SettingWithCopyWarning: \n",
            "A value is trying to be set on a copy of a slice from a DataFrame\n",
            "\n",
            "See the caveats in the documentation: https://pandas.pydata.org/pandas-docs/stable/user_guide/indexing.html#returning-a-view-versus-a-copy\n",
            "  \n"
          ],
          "name": "stderr"
        }
      ]
    },
    {
      "cell_type": "markdown",
      "metadata": {
        "id": "w_95Tb9xnASM"
      },
      "source": [
        "After cleaning the data, we will remove duplicates again. At the beginning there were 7613 data, 7503 after removing original duplicates. Finally, only 6869 data remains."
      ]
    },
    {
      "cell_type": "code",
      "metadata": {
        "id": "NgjzJrqde4A6"
      },
      "source": [
        "# remove duplicate here\n",
        "train_data.drop_duplicates(subset= 'text', inplace=True)"
      ],
      "execution_count": 111,
      "outputs": []
    },
    {
      "cell_type": "code",
      "metadata": {
        "colab": {
          "base_uri": "https://localhost:8080/"
        },
        "id": "0QnT0SdGffkS",
        "outputId": "aaf6a6ca-16b2-4ba7-a3d4-82cb0160e6f8"
      },
      "source": [
        "len(train_data)"
      ],
      "execution_count": 112,
      "outputs": [
        {
          "output_type": "execute_result",
          "data": {
            "text/plain": [
              "6849"
            ]
          },
          "metadata": {
            "tags": []
          },
          "execution_count": 112
        }
      ]
    },
    {
      "cell_type": "code",
      "metadata": {
        "id": "DFBB5MQxN1Pn"
      },
      "source": [
        "test=[]\n",
        "for i in test_data['text']:\n",
        "  test.append(clean(i))"
      ],
      "execution_count": null,
      "outputs": []
    },
    {
      "cell_type": "code",
      "metadata": {
        "colab": {
          "base_uri": "https://localhost:8080/",
          "height": 198
        },
        "id": "Sa4PrYpb53_V",
        "outputId": "175d921d-4ca7-45d6-f817-0eaf0cba2fa7"
      },
      "source": [
        "train_data.tail(5)"
      ],
      "execution_count": 113,
      "outputs": [
        {
          "output_type": "execute_result",
          "data": {
            "text/html": [
              "<div>\n",
              "<style scoped>\n",
              "    .dataframe tbody tr th:only-of-type {\n",
              "        vertical-align: middle;\n",
              "    }\n",
              "\n",
              "    .dataframe tbody tr th {\n",
              "        vertical-align: top;\n",
              "    }\n",
              "\n",
              "    .dataframe thead th {\n",
              "        text-align: right;\n",
              "    }\n",
              "</style>\n",
              "<table border=\"1\" class=\"dataframe\">\n",
              "  <thead>\n",
              "    <tr style=\"text-align: right;\">\n",
              "      <th></th>\n",
              "      <th>id</th>\n",
              "      <th>keyword</th>\n",
              "      <th>location</th>\n",
              "      <th>text</th>\n",
              "      <th>target</th>\n",
              "    </tr>\n",
              "  </thead>\n",
              "  <tbody>\n",
              "    <tr>\n",
              "      <th>7601</th>\n",
              "      <td>10859</td>\n",
              "      <td>NaN</td>\n",
              "      <td>NaN</td>\n",
              "      <td>break refuge oil still may have outlier bigger...</td>\n",
              "      <td>1</td>\n",
              "    </tr>\n",
              "    <tr>\n",
              "      <th>7602</th>\n",
              "      <td>10860</td>\n",
              "      <td>NaN</td>\n",
              "      <td>NaN</td>\n",
              "      <td>site just off n't korney tornado warn</td>\n",
              "      <td>1</td>\n",
              "    </tr>\n",
              "    <tr>\n",
              "      <th>7603</th>\n",
              "      <td>10862</td>\n",
              "      <td>NaN</td>\n",
              "      <td>NaN</td>\n",
              "      <td>officials say quarantine place alabama home ov...</td>\n",
              "      <td>1</td>\n",
              "    </tr>\n",
              "    <tr>\n",
              "      <th>7605</th>\n",
              "      <td>10864</td>\n",
              "      <td>NaN</td>\n",
              "      <td>NaN</td>\n",
              "      <td>lip side kalmar there bomb everyone have evacu...</td>\n",
              "      <td>1</td>\n",
              "    </tr>\n",
              "    <tr>\n",
              "      <th>7606</th>\n",
              "      <td>10866</td>\n",
              "      <td>NaN</td>\n",
              "      <td>NaN</td>\n",
              "      <td>suicide somber kill saudi security site mosque...</td>\n",
              "      <td>1</td>\n",
              "    </tr>\n",
              "  </tbody>\n",
              "</table>\n",
              "</div>"
            ],
            "text/plain": [
              "         id keyword  ...                                               text target\n",
              "7601  10859     NaN  ...  break refuge oil still may have outlier bigger...      1\n",
              "7602  10860     NaN  ...              site just off n't korney tornado warn      1\n",
              "7603  10862     NaN  ...  officials say quarantine place alabama home ov...      1\n",
              "7605  10864     NaN  ...  lip side kalmar there bomb everyone have evacu...      1\n",
              "7606  10866     NaN  ...  suicide somber kill saudi security site mosque...      1\n",
              "\n",
              "[5 rows x 5 columns]"
            ]
          },
          "metadata": {
            "tags": []
          },
          "execution_count": 113
        }
      ]
    },
    {
      "cell_type": "markdown",
      "metadata": {
        "id": "15iMDUvBnIb7"
      },
      "source": [
        "Since the data cleaning takes a significant amount of time, we will save the cleaned data into a new file. "
      ]
    },
    {
      "cell_type": "code",
      "metadata": {
        "id": "4_mfVieSUB9a"
      },
      "source": [
        "import csv\n",
        "\n",
        "train_data.to_csv('/content/gdrive/My Drive/AI Lecture/nlp_train.csv')"
      ],
      "execution_count": 114,
      "outputs": []
    },
    {
      "cell_type": "code",
      "metadata": {
        "id": "Cng3YSC-8jew"
      },
      "source": [
        "with open('/content/gdrive/My Drive/AI Lecture/nlp_train1.txt', 'w') as f:\r\n",
        "    for item in train_data['text']:\r\n",
        "        f.write(\"%s\\n\" % item)\r\n",
        "\r\n",
        "with open('/content/gdrive/My Drive/AI Lecture/nlp_trainY1.txt', 'w') as f:\r\n",
        "    for item in train_data['target']:\r\n",
        "        f.write(\"%s\\n\" % item)\r\n",
        "\r\n",
        "with open('/content/gdrive/My Drive/AI Lecture/keyword.txt', 'w') as f:\r\n",
        "    for item in train_data['keyword']:\r\n",
        "        f.write(\"%s\\n\" % item)"
      ],
      "execution_count": 115,
      "outputs": []
    },
    {
      "cell_type": "markdown",
      "metadata": {
        "id": "kW26vP5dzVwZ"
      },
      "source": [
        "Read saved cleaned data"
      ]
    },
    {
      "cell_type": "code",
      "metadata": {
        "id": "skGh17jOza6r"
      },
      "source": [
        "trainF = pd.read_csv('/content/gdrive/My Drive/AI Lecture/nlp_train.csv')\n",
        "train = trainF['text']\n",
        "Y = trainF['target']\n",
        "keyword = trainF['keyword']"
      ],
      "execution_count": 116,
      "outputs": []
    },
    {
      "cell_type": "code",
      "metadata": {
        "id": "xHLfAK3u8uRg"
      },
      "source": [
        "trainF = open('/content/gdrive/My Drive/AI Lecture/nlp_train1.txt', 'r')\r\n",
        "train = []\r\n",
        "for i in trainF:\r\n",
        "  train.append(i.strip())\r\n",
        "\r\n",
        "trainF = open('/content/gdrive/My Drive/AI Lecture/keyword.txt', 'r')\r\n",
        "key = []\r\n",
        "for i in trainF:\r\n",
        "  key.append(i.strip())\r\n",
        "\r\n",
        "Y = np.loadtxt('/content/gdrive/My Drive/AI Lecture/nlp_trainY1.txt')"
      ],
      "execution_count": 117,
      "outputs": []
    },
    {
      "cell_type": "markdown",
      "metadata": {
        "id": "YjqPdxp0yb-F"
      },
      "source": [
        "#3.Embedding\r\n",
        "-> We use glove model for embedding "
      ]
    },
    {
      "cell_type": "markdown",
      "metadata": {
        "id": "lFMc3C7kEWL7"
      },
      "source": [
        "\"Tokenizing the training samples\""
      ]
    },
    {
      "cell_type": "code",
      "metadata": {
        "colab": {
          "base_uri": "https://localhost:8080/"
        },
        "id": "452nA7cIF2Qo",
        "outputId": "6b22dff8-3c34-4382-95a7-16c8b4ff2e81"
      },
      "source": [
        "from nltk.tokenize import word_tokenize\n",
        "from keras.preprocessing.text import Tokenizer\n",
        "from keras.preprocessing.sequence import pad_sequences\n",
        "\n",
        "maxlen = 100\n",
        "max_words = 10000\n",
        "\n",
        "tokenizer=Tokenizer(num_words=max_words)\n",
        "tokenizer.fit_on_texts(train)\n",
        "sequences = tokenizer.texts_to_sequences(train)\n",
        "word_index = tokenizer.word_index\n",
        "print('Found %s unique tokens.' % len(word_index))"
      ],
      "execution_count": 118,
      "outputs": [
        {
          "output_type": "stream",
          "text": [
            "Found 12166 unique tokens.\n"
          ],
          "name": "stdout"
        }
      ]
    },
    {
      "cell_type": "markdown",
      "metadata": {
        "id": "HIVEdlHpEdXs"
      },
      "source": [
        "\"Mapping the pre-trained Glove embedding vector to training samples\""
      ]
    },
    {
      "cell_type": "code",
      "metadata": {
        "colab": {
          "base_uri": "https://localhost:8080/"
        },
        "id": "8YBgan4-HMCK",
        "outputId": "1f7a8f12-5475-4ae4-8587-20168382b500"
      },
      "source": [
        "glove_dir = '/content/gdrive/My Drive/AI Lecture/'\n",
        "embeddings_index = {}\n",
        "f = open(os.path.join(glove_dir, 'glove.6B.100d.txt'))\n",
        "for line in f:\n",
        "  values = line.split()\n",
        "  word = values[0]\n",
        "  coefs = np.asarray(values[1:], dtype='float32')\n",
        "  embeddings_index[word] = coefs\n",
        "f.close()\n",
        "\n",
        "print('Found %s word vectors.' % len(embeddings_index))\n",
        "\n",
        "# preparing the GloVe word-embeddings matrix\n",
        "embedding_dim = 100\n",
        "embedding_matrix = np.zeros((max_words, embedding_dim))\n",
        "for word, i in word_index.items():\n",
        "  embedding_vector = embeddings_index.get(word)\n",
        "  if i < max_words:\n",
        "    if embedding_vector is not None:\n",
        "      embedding_matrix[i] = embedding_vector"
      ],
      "execution_count": 119,
      "outputs": [
        {
          "output_type": "stream",
          "text": [
            "Found 400000 word vectors.\n"
          ],
          "name": "stdout"
        }
      ]
    },
    {
      "cell_type": "code",
      "metadata": {
        "id": "HJjDRJt3raCq"
      },
      "source": [
        "X = pad_sequences(sequences,maxlen=maxlen,truncating='post',padding='post')"
      ],
      "execution_count": 120,
      "outputs": []
    },
    {
      "cell_type": "markdown",
      "metadata": {
        "id": "aGzDPl8Xo8fY"
      },
      "source": [
        "split the data into train and test set"
      ]
    },
    {
      "cell_type": "code",
      "metadata": {
        "colab": {
          "base_uri": "https://localhost:8080/"
        },
        "id": "v0eOsE0IwLai",
        "outputId": "e1908895-9504-446c-887e-0dee101503b2"
      },
      "source": [
        "from sklearn.model_selection import train_test_split\n",
        "X_train,X_test,y_train,y_test=train_test_split(X,Y,test_size=0.10, random_state=42)\n",
        "print('Shape of train',X_train.shape)\n",
        "print(\"Shape of test \",X_test.shape)"
      ],
      "execution_count": 121,
      "outputs": [
        {
          "output_type": "stream",
          "text": [
            "Shape of train (6164, 100)\n",
            "Shape of test  (685, 100)\n"
          ],
          "name": "stdout"
        }
      ]
    },
    {
      "cell_type": "code",
      "metadata": {
        "id": "xsscFfuKvWj3"
      },
      "source": [
        "tokenizer=Tokenizer(num_words=max_words)\n",
        "tokenizer.fit_on_texts(test)\n",
        "sequences = tokenizer.texts_to_sequences(test)\n",
        "\n",
        "test = pad_sequences(sequences,maxlen=maxlen,truncating='post',padding='post')"
      ],
      "execution_count": 64,
      "outputs": []
    },
    {
      "cell_type": "markdown",
      "metadata": {
        "id": "M30FZt2vSKJK"
      },
      "source": [
        "#4.Modeling"
      ]
    },
    {
      "cell_type": "markdown",
      "metadata": {
        "id": "aOVQxf0fZU85"
      },
      "source": [
        "**(1) CNN model**"
      ]
    },
    {
      "cell_type": "markdown",
      "metadata": {
        "id": "-7v1o4-hqF5V"
      },
      "source": [
        "Baseline model\r\n",
        "\r\n",
        "\r\n",
        "![image.png](data:image/png;base64,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) \r\n",
        "\r\n",
        "test accuracy : 0.7677\r\n",
        "\r\n",
        "![image.png](data:image/png;base64,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) ![image.png](data:image/png;base64,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)\r\n",
        "\r\n"
      ]
    },
    {
      "cell_type": "code",
      "metadata": {
        "id": "RfKJY-yFZa_X",
        "colab": {
          "base_uri": "https://localhost:8080/"
        },
        "outputId": "695dc563-256d-4c8a-8b75-a542ca06e8d3"
      },
      "source": [
        "#baseline model\n",
        "cnn1 = Sequential()\n",
        "cnn1.add(Embedding(max_words, embedding_dim, input_length=maxlen, weights=[embedding_matrix], trainable = False))\n",
        "cnn1.add(Conv1D(128, 5, activation='relu'))\n",
        "cnn1.add(MaxPooling1D(5))\n",
        "cnn1.add(Dropout(0.5))\n",
        "cnn1.add(Conv1D(128, 5,activation='relu'))\n",
        "cnn1.add(MaxPooling1D(15))\n",
        "cnn1.add(Flatten())\n",
        "cnn1.add(Dense(1, activation='sigmoid'))\n",
        "\n",
        "cnn1.compile(loss ='binary_crossentropy', optimizer='adam', metrics=['accuracy'])\n",
        "# dropput rate (what is spatial dropout?), optimizer, convnet size?\n",
        "\n",
        "cnn1.summary()"
      ],
      "execution_count": 65,
      "outputs": [
        {
          "output_type": "stream",
          "text": [
            "Model: \"sequential\"\n",
            "_________________________________________________________________\n",
            "Layer (type)                 Output Shape              Param #   \n",
            "=================================================================\n",
            "embedding (Embedding)        (None, 100, 100)          1000000   \n",
            "_________________________________________________________________\n",
            "conv1d (Conv1D)              (None, 96, 128)           64128     \n",
            "_________________________________________________________________\n",
            "max_pooling1d (MaxPooling1D) (None, 19, 128)           0         \n",
            "_________________________________________________________________\n",
            "dropout (Dropout)            (None, 19, 128)           0         \n",
            "_________________________________________________________________\n",
            "conv1d_1 (Conv1D)            (None, 15, 128)           82048     \n",
            "_________________________________________________________________\n",
            "max_pooling1d_1 (MaxPooling1 (None, 1, 128)            0         \n",
            "_________________________________________________________________\n",
            "flatten (Flatten)            (None, 128)               0         \n",
            "_________________________________________________________________\n",
            "dense (Dense)                (None, 1)                 129       \n",
            "=================================================================\n",
            "Total params: 1,146,305\n",
            "Trainable params: 146,305\n",
            "Non-trainable params: 1,000,000\n",
            "_________________________________________________________________\n"
          ],
          "name": "stdout"
        }
      ]
    },
    {
      "cell_type": "markdown",
      "metadata": {
        "id": "gDYMRltIsDRQ"
      },
      "source": [
        "Mutlichannel CNN model\r\n",
        "\r\n",
        "> 3 different convolution layers of filter size 3,4,5 were added. Each channel work as skip-gram models where different filter sizes meaning the number of words the filter is being applied to.\r\n",
        "Maximum 5 words were set because words farther away than that were generally less relevant or useful with respect to identifying patterns in a phrase according to the reference.\r\n",
        "\r\n",
        "![image.png](data:image/png;base64,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)\r\n",
        "\r\n",
        "Test accuracy: 0.7782\r\n",
        "\r\n",
        "![image.png](data:image/png;base64,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)![image.png](data:image/png;base64,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)\r\n",
        "\r\n",
        "We can see that this model is working somewhat better than the first model."
      ]
    },
    {
      "cell_type": "code",
      "metadata": {
        "id": "Ns7cen9sjL9I"
      },
      "source": [
        "def create_model():\n",
        "  num_filters = 128\n",
        "\n",
        "  Embedding_layer = Embedding(max_words, embedding_dim, input_length=maxlen, weights=[embedding_matrix], trainable = False)\n",
        "\n",
        "  input = Input(shape=(maxlen,))\n",
        "  embedding = Embedding_layer(input)\n",
        "\n",
        "  print(embedding.shape)\n",
        "  reshape = Reshape((maxlen,embedding_dim,1))(embedding)\n",
        "  print(reshape.shape)\n",
        "\n",
        "  conv1 = Conv2D(num_filters, kernel_size=(3, embedding_dim), \n",
        "                padding='valid', kernel_initializer='normal', activation='relu' , kernel_regularizer='l2')(reshape)\n",
        "  conv2 = Conv2D(num_filters, kernel_size=(4, embedding_dim), \n",
        "                padding='valid', kernel_initializer='normal', activation='relu', kernel_regularizer='l2')(reshape)\n",
        "  conv3 = Conv2D(num_filters, kernel_size=(5, embedding_dim), \n",
        "                padding='valid', kernel_initializer='normal', activation='relu', kernel_regularizer='l2')(reshape)\n",
        "\n",
        "  maxpooling1 = MaxPool2D(pool_size=(maxlen - 3 + 1, 1), strides=(1,1), padding='valid')(conv1)\n",
        "  maxpooling2 = MaxPool2D(pool_size=(maxlen - 4 + 1, 1), strides=(1,1), padding='valid')(conv2)\n",
        "  maxpooling3 = MaxPool2D(pool_size=(maxlen - 5 + 1, 1), strides=(1,1), padding='valid')(conv3)\n",
        "\n",
        "  concatenated_tensor = Concatenate(axis=1)([maxpooling1, maxpooling2, maxpooling3])\n",
        "  flatten = Flatten()(concatenated_tensor)\n",
        "  dropout = Dropout(0.5)(flatten)\n",
        "  output_layer = Dense(1, activation='sigmoid', kernel_regularizer='l2')(dropout)\n",
        "\n",
        "  # this creates a model that includes\n",
        "  model = Model(inputs=input, outputs=output_layer)\n",
        "\n",
        "  opt = keras.optimizers.Adam(learning_rate = 0.0001)\n",
        "  model.compile(loss ='binary_crossentropy', optimizer=opt, metrics=['accuracy'])\n",
        "\n",
        "  return model"
      ],
      "execution_count": 122,
      "outputs": []
    },
    {
      "cell_type": "code",
      "metadata": {
        "colab": {
          "base_uri": "https://localhost:8080/"
        },
        "id": "gNp3ypT9lFuo",
        "outputId": "9dccfb0a-8ece-4689-c345-af1bba580bed"
      },
      "source": [
        "model = create_model()"
      ],
      "execution_count": 123,
      "outputs": [
        {
          "output_type": "stream",
          "text": [
            "(None, 100, 100)\n",
            "(None, 100, 100, 1)\n"
          ],
          "name": "stdout"
        }
      ]
    },
    {
      "cell_type": "code",
      "metadata": {
        "id": "ku3gfsdoSv-U",
        "colab": {
          "base_uri": "https://localhost:8080/"
        },
        "outputId": "5a3ce2b6-9ef1-4e61-c3b4-5f7e8a07aaa5"
      },
      "source": [
        "callback = [keras.callbacks.ModelCheckpoint(filepath='best.h5', monitor='val_loss', mode='min', save_best_only=True),\n",
        "            keras.callbacks.EarlyStopping(monitor='val_loss', patience=10, verbose=0, mode='auto',baseline=None, restore_best_weights=False)]\n",
        "\n",
        "history = model.fit(X_train, y_train, validation_split=0.2, epochs=100, batch_size=20, shuffle=True, callbacks=callback)"
      ],
      "execution_count": 124,
      "outputs": [
        {
          "output_type": "stream",
          "text": [
            "Epoch 1/100\n",
            "247/247 [==============================] - 2s 6ms/step - loss: 4.0803 - accuracy: 0.6337 - val_loss: 3.5066 - val_accuracy: 0.7421\n",
            "Epoch 2/100\n",
            "247/247 [==============================] - 1s 5ms/step - loss: 3.2075 - accuracy: 0.7171 - val_loss: 2.8303 - val_accuracy: 0.7551\n",
            "Epoch 3/100\n",
            "247/247 [==============================] - 1s 5ms/step - loss: 2.6057 - accuracy: 0.7394 - val_loss: 2.3266 - val_accuracy: 0.7672\n",
            "Epoch 4/100\n",
            "247/247 [==============================] - 1s 5ms/step - loss: 2.1494 - accuracy: 0.7566 - val_loss: 1.9523 - val_accuracy: 0.7713\n",
            "Epoch 5/100\n",
            "247/247 [==============================] - 1s 5ms/step - loss: 1.8079 - accuracy: 0.7725 - val_loss: 1.6664 - val_accuracy: 0.7721\n",
            "Epoch 6/100\n",
            "247/247 [==============================] - 1s 4ms/step - loss: 1.5460 - accuracy: 0.7832 - val_loss: 1.4446 - val_accuracy: 0.7745\n",
            "Epoch 7/100\n",
            "247/247 [==============================] - 1s 5ms/step - loss: 1.3360 - accuracy: 0.7942 - val_loss: 1.2707 - val_accuracy: 0.7753\n",
            "Epoch 8/100\n",
            "247/247 [==============================] - 1s 5ms/step - loss: 1.1697 - accuracy: 0.7996 - val_loss: 1.1326 - val_accuracy: 0.7770\n",
            "Epoch 9/100\n",
            "247/247 [==============================] - 1s 5ms/step - loss: 1.0447 - accuracy: 0.8084 - val_loss: 1.0223 - val_accuracy: 0.7762\n",
            "Epoch 10/100\n",
            "247/247 [==============================] - 1s 5ms/step - loss: 0.9425 - accuracy: 0.8079 - val_loss: 0.9357 - val_accuracy: 0.7794\n",
            "Epoch 11/100\n",
            "247/247 [==============================] - 1s 5ms/step - loss: 0.8575 - accuracy: 0.8165 - val_loss: 0.8679 - val_accuracy: 0.7818\n",
            "Epoch 12/100\n",
            "247/247 [==============================] - 1s 5ms/step - loss: 0.7935 - accuracy: 0.8223 - val_loss: 0.8175 - val_accuracy: 0.7778\n",
            "Epoch 13/100\n",
            "247/247 [==============================] - 1s 5ms/step - loss: 0.7394 - accuracy: 0.8201 - val_loss: 0.7660 - val_accuracy: 0.7835\n",
            "Epoch 14/100\n",
            "247/247 [==============================] - 1s 5ms/step - loss: 0.6987 - accuracy: 0.8244 - val_loss: 0.7300 - val_accuracy: 0.7843\n",
            "Epoch 15/100\n",
            "247/247 [==============================] - 1s 5ms/step - loss: 0.6592 - accuracy: 0.8286 - val_loss: 0.7017 - val_accuracy: 0.7818\n",
            "Epoch 16/100\n",
            "247/247 [==============================] - 1s 5ms/step - loss: 0.6360 - accuracy: 0.8248 - val_loss: 0.6820 - val_accuracy: 0.7826\n",
            "Epoch 17/100\n",
            "247/247 [==============================] - 1s 5ms/step - loss: 0.6123 - accuracy: 0.8303 - val_loss: 0.6601 - val_accuracy: 0.7810\n",
            "Epoch 18/100\n",
            "247/247 [==============================] - 1s 5ms/step - loss: 0.5933 - accuracy: 0.8264 - val_loss: 0.6470 - val_accuracy: 0.7753\n",
            "Epoch 19/100\n",
            "247/247 [==============================] - 1s 5ms/step - loss: 0.5762 - accuracy: 0.8337 - val_loss: 0.6308 - val_accuracy: 0.7802\n",
            "Epoch 20/100\n",
            "247/247 [==============================] - 1s 5ms/step - loss: 0.5578 - accuracy: 0.8384 - val_loss: 0.6208 - val_accuracy: 0.7802\n",
            "Epoch 21/100\n",
            "247/247 [==============================] - 1s 5ms/step - loss: 0.5554 - accuracy: 0.8365 - val_loss: 0.6124 - val_accuracy: 0.7818\n",
            "Epoch 22/100\n",
            "247/247 [==============================] - 1s 5ms/step - loss: 0.5447 - accuracy: 0.8398 - val_loss: 0.6050 - val_accuracy: 0.7843\n",
            "Epoch 23/100\n",
            "247/247 [==============================] - 1s 5ms/step - loss: 0.5344 - accuracy: 0.8426 - val_loss: 0.6012 - val_accuracy: 0.7810\n",
            "Epoch 24/100\n",
            "247/247 [==============================] - 1s 5ms/step - loss: 0.5293 - accuracy: 0.8418 - val_loss: 0.5945 - val_accuracy: 0.7851\n",
            "Epoch 25/100\n",
            "247/247 [==============================] - 1s 5ms/step - loss: 0.5227 - accuracy: 0.8445 - val_loss: 0.5900 - val_accuracy: 0.7875\n",
            "Epoch 26/100\n",
            "247/247 [==============================] - 1s 5ms/step - loss: 0.5157 - accuracy: 0.8445 - val_loss: 0.5890 - val_accuracy: 0.7851\n",
            "Epoch 27/100\n",
            "247/247 [==============================] - 1s 5ms/step - loss: 0.5121 - accuracy: 0.8481 - val_loss: 0.5859 - val_accuracy: 0.7802\n",
            "Epoch 28/100\n",
            "247/247 [==============================] - 1s 5ms/step - loss: 0.5054 - accuracy: 0.8471 - val_loss: 0.5852 - val_accuracy: 0.7802\n",
            "Epoch 29/100\n",
            "247/247 [==============================] - 1s 4ms/step - loss: 0.5023 - accuracy: 0.8471 - val_loss: 0.5894 - val_accuracy: 0.7794\n",
            "Epoch 30/100\n",
            "247/247 [==============================] - 1s 5ms/step - loss: 0.4995 - accuracy: 0.8532 - val_loss: 0.5812 - val_accuracy: 0.7794\n",
            "Epoch 31/100\n",
            "247/247 [==============================] - 1s 5ms/step - loss: 0.4970 - accuracy: 0.8538 - val_loss: 0.5792 - val_accuracy: 0.7851\n",
            "Epoch 32/100\n",
            "247/247 [==============================] - 1s 5ms/step - loss: 0.4929 - accuracy: 0.8595 - val_loss: 0.5789 - val_accuracy: 0.7835\n",
            "Epoch 33/100\n",
            "247/247 [==============================] - 1s 4ms/step - loss: 0.4906 - accuracy: 0.8532 - val_loss: 0.5805 - val_accuracy: 0.7891\n",
            "Epoch 34/100\n",
            "247/247 [==============================] - 1s 4ms/step - loss: 0.4873 - accuracy: 0.8578 - val_loss: 0.5851 - val_accuracy: 0.7891\n",
            "Epoch 35/100\n",
            "247/247 [==============================] - 1s 4ms/step - loss: 0.4904 - accuracy: 0.8524 - val_loss: 0.5795 - val_accuracy: 0.7835\n",
            "Epoch 36/100\n",
            "247/247 [==============================] - 1s 4ms/step - loss: 0.4864 - accuracy: 0.8586 - val_loss: 0.5872 - val_accuracy: 0.7899\n",
            "Epoch 37/100\n",
            "247/247 [==============================] - 1s 4ms/step - loss: 0.4842 - accuracy: 0.8599 - val_loss: 0.5835 - val_accuracy: 0.7843\n",
            "Epoch 38/100\n",
            "247/247 [==============================] - 1s 5ms/step - loss: 0.4764 - accuracy: 0.8625 - val_loss: 0.5785 - val_accuracy: 0.7843\n",
            "Epoch 39/100\n",
            "247/247 [==============================] - 1s 5ms/step - loss: 0.4796 - accuracy: 0.8623 - val_loss: 0.5836 - val_accuracy: 0.7899\n",
            "Epoch 40/100\n",
            "247/247 [==============================] - 1s 5ms/step - loss: 0.4794 - accuracy: 0.8645 - val_loss: 0.5867 - val_accuracy: 0.7899\n",
            "Epoch 41/100\n",
            "247/247 [==============================] - 1s 4ms/step - loss: 0.4772 - accuracy: 0.8653 - val_loss: 0.5841 - val_accuracy: 0.7924\n",
            "Epoch 42/100\n",
            "247/247 [==============================] - 1s 4ms/step - loss: 0.4779 - accuracy: 0.8625 - val_loss: 0.5821 - val_accuracy: 0.7883\n",
            "Epoch 43/100\n",
            "247/247 [==============================] - 1s 4ms/step - loss: 0.4749 - accuracy: 0.8700 - val_loss: 0.5853 - val_accuracy: 0.7908\n",
            "Epoch 44/100\n",
            "247/247 [==============================] - 1s 4ms/step - loss: 0.4753 - accuracy: 0.8678 - val_loss: 0.5987 - val_accuracy: 0.7802\n",
            "Epoch 45/100\n",
            "247/247 [==============================] - 1s 4ms/step - loss: 0.4726 - accuracy: 0.8724 - val_loss: 0.5827 - val_accuracy: 0.7899\n",
            "Epoch 46/100\n",
            "247/247 [==============================] - 1s 4ms/step - loss: 0.4730 - accuracy: 0.8751 - val_loss: 0.5840 - val_accuracy: 0.7875\n",
            "Epoch 47/100\n",
            "247/247 [==============================] - 1s 4ms/step - loss: 0.4716 - accuracy: 0.8704 - val_loss: 0.5911 - val_accuracy: 0.7859\n",
            "Epoch 48/100\n",
            "247/247 [==============================] - 1s 4ms/step - loss: 0.4698 - accuracy: 0.8739 - val_loss: 0.5845 - val_accuracy: 0.7899\n"
          ],
          "name": "stdout"
        }
      ]
    },
    {
      "cell_type": "markdown",
      "metadata": {
        "id": "lAq27qRMS-8o"
      },
      "source": [
        "**Hyper parameter tunning**\n",
        "\n",
        "1.   Batch size\n",
        "2.   Optimizer\n",
        "3.   Optimizer learning rate\n",
        "4.   L1 vs L2\n",
        "5.   Drop out rate"
      ]
    },
    {
      "cell_type": "markdown",
      "metadata": {
        "id": "gGqYzDdIpz7I"
      },
      "source": [
        "**batch size** : 20"
      ]
    },
    {
      "cell_type": "code",
      "metadata": {
        "id": "NWsrT7F5kGhK"
      },
      "source": [
        "tune_model = KerasClassifier(build_fn = create_model, epochs=30, verbose=0)"
      ],
      "execution_count": null,
      "outputs": []
    },
    {
      "cell_type": "code",
      "metadata": {
        "colab": {
          "base_uri": "https://localhost:8080/"
        },
        "id": "k19giSED_I38",
        "outputId": "3de31158-a54a-4036-cb6f-4a459151d7e9"
      },
      "source": [
        "# grid search hyperparameter tunnig\n",
        "batch_size = [4, 10, 20, 40]\n",
        "param_grid = dict(batch_size=batch_size)\n",
        "grid = GridSearchCV(estimator=tune_model, param_grid=param_grid, n_jobs=-1, cv=3)\n",
        "grid_result = grid.fit(X_train, y_train)\n",
        "# summarize results\n",
        "print(\"Best: %f using %s\" % (grid_result.best_score_, grid_result.best_params_))\n",
        "means = grid_result.cv_results_['mean_test_score']\n",
        "stds = grid_result.cv_results_['std_test_score']\n",
        "params = grid_result.cv_results_['params']\n",
        "for mean, stdev, param in zip(means, stds, params):\n",
        "    print(\"%f (%f) with: %r\" % (mean, stdev, param))"
      ],
      "execution_count": null,
      "outputs": [
        {
          "output_type": "stream",
          "text": [
            "(None, 100, 100)\n",
            "(None, 100, 100, 1)\n",
            "Best: 0.787963 using {'batch_size': 20}\n",
            "0.772552 (0.012971) with: {'batch_size': 4}\n",
            "0.782610 (0.007310) with: {'batch_size': 10}\n",
            "0.787963 (0.005751) with: {'batch_size': 20}\n",
            "0.783745 (0.006409) with: {'batch_size': 40}\n"
          ],
          "name": "stdout"
        }
      ]
    },
    {
      "cell_type": "markdown",
      "metadata": {
        "id": "vNMu3NaWp3Az"
      },
      "source": [
        "**Optimizer** : SGD"
      ]
    },
    {
      "cell_type": "code",
      "metadata": {
        "id": "uHeFC2wMpybQ"
      },
      "source": [
        "def create_model(optimizer='adam'):\n",
        "  num_filters = 128\n",
        "\n",
        "  embedding_layer = Embedding(max_words, embedding_dim, input_length=maxlen, weights=[embedding_matrix], trainable = False)\n",
        "  inputs = Input(shape=(maxlen,))\n",
        "  embedding = embedding_layer(inputs)\n",
        "\n",
        "  reshape = Reshape((maxlen,embedding_dim,1))(embedding)\n",
        "\n",
        "  conv_0 = Conv2D(num_filters, kernel_size=(3, embedding_dim), \n",
        "                padding='valid', kernel_initializer='normal', activation='relu' , kernel_regularizer='l2')(reshape)\n",
        "  conv_1 = Conv2D(num_filters, kernel_size=(4, embedding_dim), \n",
        "                padding='valid', kernel_initializer='normal', activation='relu', kernel_regularizer='l2')(reshape)\n",
        "  conv_2 = Conv2D(num_filters, kernel_size=(5, embedding_dim), \n",
        "                padding='valid', kernel_initializer='normal', activation='relu', kernel_regularizer='l2')(reshape)\n",
        "\n",
        "  maxpool_0 = MaxPool2D(pool_size=(maxlen - 3 + 1, 1), strides=(1,1), padding='valid')(conv_0)\n",
        "  maxpool_1 = MaxPool2D(pool_size=(maxlen - 4 + 1, 1), strides=(1,1), padding='valid')(conv_1)\n",
        "  maxpool_2 = MaxPool2D(pool_size=(maxlen - 5 + 1, 1), strides=(1,1), padding='valid')(conv_2)\n",
        "\n",
        "  concatenated_tensor = Concatenate(axis=1)([maxpool_0, maxpool_1, maxpool_2])\n",
        "  flatten = Flatten()(concatenated_tensor)\n",
        "  dropout = Dropout(0.5)(flatten)\n",
        "  output = Dense(1, activation='sigmoid', kernel_regularizer='l2')(dropout)\n",
        "\n",
        "  # this creates a model that includes\n",
        "  model = Model(inputs=inputs, outputs=output)\n",
        "\n",
        "  model.compile(loss ='binary_crossentropy', optimizer=optimizer, metrics=['accuracy'])\n",
        "\n",
        "  return model"
      ],
      "execution_count": null,
      "outputs": []
    },
    {
      "cell_type": "code",
      "metadata": {
        "id": "dRQ2FrxJqRdP"
      },
      "source": [
        "tune_model = KerasClassifier(build_fn = create_model, epochs=30, batch_size=20, verbose=0)"
      ],
      "execution_count": null,
      "outputs": []
    },
    {
      "cell_type": "code",
      "metadata": {
        "colab": {
          "base_uri": "https://localhost:8080/"
        },
        "id": "g6ELBRDQqSSH",
        "outputId": "4ffcae92-774a-4218-d65e-839929ea309a"
      },
      "source": [
        "# grid search hyperparameter tunnig\n",
        "optimizer = ['SGD', 'RMSprop', 'Adagrad', 'Adadelta', 'Adam', 'Adamax', 'Nadam']\n",
        "param_grid = dict(optimizer=optimizer)\n",
        "grid = GridSearchCV(estimator=tune_model, param_grid=param_grid, n_jobs=-1, cv=3)\n",
        "grid_result = grid.fit(X_train, y_train)\n",
        "# summarize results\n",
        "print(\"Best: %f using %s\" % (grid_result.best_score_, grid_result.best_params_))\n",
        "means = grid_result.cv_results_['mean_test_score']\n",
        "stds = grid_result.cv_results_['std_test_score']\n",
        "params = grid_result.cv_results_['params']\n",
        "for mean, stdev, param in zip(means, stds, params):\n",
        "    print(\"%f (%f) with: %r\" % (mean, stdev, param))"
      ],
      "execution_count": null,
      "outputs": [
        {
          "output_type": "stream",
          "text": [
            "(None, 100, 100)\n",
            "(None, 100, 100, 1)\n",
            "Best: 0.787801 using {'optimizer': 'SGD'}\n",
            "0.787801 (0.007704) with: {'optimizer': 'SGD'}\n",
            "0.771577 (0.009763) with: {'optimizer': 'RMSprop'}\n",
            "0.772551 (0.007782) with: {'optimizer': 'Adagrad'}\n",
            "0.704578 (0.013260) with: {'optimizer': 'Adadelta'}\n",
            "0.769793 (0.009609) with: {'optimizer': 'Adam'}\n",
            "0.779527 (0.007203) with: {'optimizer': 'Adamax'}\n",
            "0.777256 (0.011834) with: {'optimizer': 'Nadam'}\n"
          ],
          "name": "stdout"
        }
      ]
    },
    {
      "cell_type": "markdown",
      "metadata": {
        "id": "ah0ZBkFWq7WC"
      },
      "source": [
        "**Learning rate & momentum** : 'learn_rate': 0.01, 'momentum': 0.4"
      ]
    },
    {
      "cell_type": "code",
      "metadata": {
        "id": "fxdGtzL6rGsq"
      },
      "source": [
        "\n",
        "def create_model(learn_rate=0.01, momentum=0):\n",
        "  num_filters = 128\n",
        "\n",
        "  Embedding_layer = Embedding(max_words, embedding_dim, input_length=maxlen, weights=[embedding_matrix], trainable = False)\n",
        "\n",
        "  input = Input(shape=(maxlen,))\n",
        "  embedding = Embedding_layer(input)\n",
        "\n",
        "  reshape = Reshape((maxlen,embedding_dim,1))(embedding)\n",
        "\n",
        "  conv1 = Conv2D(num_filters, kernel_size=(3, embedding_dim), \n",
        "                padding='valid', kernel_initializer='normal', activation='relu' , kernel_regularizer='l2')(reshape)\n",
        "  conv2 = Conv2D(num_filters, kernel_size=(4, embedding_dim), \n",
        "                padding='valid', kernel_initializer='normal', activation='relu', kernel_regularizer='l2')(reshape)\n",
        "  conv3 = Conv2D(num_filters, kernel_size=(5, embedding_dim), \n",
        "                padding='valid', kernel_initializer='normal', activation='relu', kernel_regularizer='l2')(reshape)\n",
        "\n",
        "  maxpooling1 = MaxPool2D(pool_size=(maxlen - 3 + 1, 1), strides=(1,1), padding='valid')(conv1)\n",
        "  maxpooling2 = MaxPool2D(pool_size=(maxlen - 4 + 1, 1), strides=(1,1), padding='valid')(conv2)\n",
        "  maxpooling3 = MaxPool2D(pool_size=(maxlen - 5 + 1, 1), strides=(1,1), padding='valid')(conv3)\n",
        "\n",
        "  concatenated_tensor = Concatenate(axis=1)([maxpooling1, maxpooling2, maxpooling3])\n",
        "  flatten = Flatten()(concatenated_tensor)\n",
        "  dropout = Dropout(0.5)(flatten)\n",
        "  output_layer = Dense(1, activation='sigmoid', kernel_regularizer='l2')(dropout)\n",
        "\n",
        "  # this creates a model that includes\n",
        "  model = Model(inputs=input, outputs=output_layer)\n",
        "\n",
        "  opt = keras.optimizers.SGD(lr=learn_rate, momentum=momentum)\n",
        "  model.compile(loss ='binary_crossentropy', optimizer=opt, metrics=['accuracy'])\n",
        "\n",
        "  return model"
      ],
      "execution_count": null,
      "outputs": []
    },
    {
      "cell_type": "code",
      "metadata": {
        "colab": {
          "base_uri": "https://localhost:8080/"
        },
        "id": "QCnxUX57TBuM",
        "outputId": "ed51e5bf-740e-4ba1-d821-1165b78b1749"
      },
      "source": [
        "tune_model = KerasClassifier(build_fn = create_model, epochs=30, batch_size=20, verbose=0)\n",
        "\n",
        "learn_rate = [0.001, 0.01, 0.1, 0.2, 0.3]\n",
        "momentum = [0.0, 0.2, 0.4, 0.6, 0.8, 0.9]\n",
        "\n",
        "param_grid = dict(learn_rate=learn_rate, momentum=momentum)\n",
        "grid = GridSearchCV(estimator=tune_model, param_grid=param_grid, cv=3)\n",
        "grid_result = grid.fit(X_train, y_train)\n",
        "# summarize results\n",
        "print(\"Best: %f using %s\" % (grid_result.best_score_, grid_result.best_params_))\n",
        "means = grid_result.cv_results_['mean_test_score']\n",
        "stds = grid_result.cv_results_['std_test_score']\n",
        "params = grid_result.cv_results_['params']\n",
        "for mean, stdev, param in zip(means, stds, params):\n",
        "    print(\"%f (%f) with: %r\" % (mean, stdev, param))"
      ],
      "execution_count": null,
      "outputs": [
        {
          "output_type": "stream",
          "text": [
            "(None, 100, 100)\n",
            "(None, 100, 100, 1)\n",
            "(None, 100, 100)\n",
            "(None, 100, 100, 1)\n",
            "(None, 100, 100)\n",
            "(None, 100, 100, 1)\n",
            "(None, 100, 100)\n",
            "(None, 100, 100, 1)\n",
            "(None, 100, 100)\n",
            "(None, 100, 100, 1)\n",
            "(None, 100, 100)\n",
            "(None, 100, 100, 1)\n",
            "(None, 100, 100)\n",
            "(None, 100, 100, 1)\n",
            "(None, 100, 100)\n",
            "(None, 100, 100, 1)\n",
            "(None, 100, 100)\n",
            "(None, 100, 100, 1)\n",
            "(None, 100, 100)\n",
            "(None, 100, 100, 1)\n",
            "(None, 100, 100)\n",
            "(None, 100, 100, 1)\n",
            "(None, 100, 100)\n",
            "(None, 100, 100, 1)\n",
            "(None, 100, 100)\n",
            "(None, 100, 100, 1)\n",
            "(None, 100, 100)\n",
            "(None, 100, 100, 1)\n",
            "(None, 100, 100)\n",
            "(None, 100, 100, 1)\n",
            "(None, 100, 100)\n",
            "(None, 100, 100, 1)\n",
            "(None, 100, 100)\n",
            "(None, 100, 100, 1)\n",
            "(None, 100, 100)\n",
            "(None, 100, 100, 1)\n",
            "(None, 100, 100)\n",
            "(None, 100, 100, 1)\n",
            "(None, 100, 100)\n",
            "(None, 100, 100, 1)\n",
            "(None, 100, 100)\n",
            "(None, 100, 100, 1)\n",
            "(None, 100, 100)\n",
            "(None, 100, 100, 1)\n",
            "(None, 100, 100)\n",
            "(None, 100, 100, 1)\n",
            "(None, 100, 100)\n",
            "(None, 100, 100, 1)\n",
            "(None, 100, 100)\n",
            "(None, 100, 100, 1)\n",
            "(None, 100, 100)\n",
            "(None, 100, 100, 1)\n",
            "(None, 100, 100)\n",
            "(None, 100, 100, 1)\n",
            "(None, 100, 100)\n",
            "(None, 100, 100, 1)\n",
            "(None, 100, 100)\n",
            "(None, 100, 100, 1)\n",
            "(None, 100, 100)\n",
            "(None, 100, 100, 1)\n",
            "(None, 100, 100)\n",
            "(None, 100, 100, 1)\n",
            "(None, 100, 100)\n",
            "(None, 100, 100, 1)\n",
            "(None, 100, 100)\n",
            "(None, 100, 100, 1)\n",
            "(None, 100, 100)\n",
            "(None, 100, 100, 1)\n",
            "(None, 100, 100)\n",
            "(None, 100, 100, 1)\n",
            "(None, 100, 100)\n",
            "(None, 100, 100, 1)\n",
            "(None, 100, 100)\n",
            "(None, 100, 100, 1)\n",
            "(None, 100, 100)\n",
            "(None, 100, 100, 1)\n",
            "(None, 100, 100)\n",
            "(None, 100, 100, 1)\n",
            "(None, 100, 100)\n",
            "(None, 100, 100, 1)\n",
            "(None, 100, 100)\n",
            "(None, 100, 100, 1)\n",
            "(None, 100, 100)\n",
            "(None, 100, 100, 1)\n",
            "(None, 100, 100)\n",
            "(None, 100, 100, 1)\n",
            "(None, 100, 100)\n",
            "(None, 100, 100, 1)\n",
            "(None, 100, 100)\n",
            "(None, 100, 100, 1)\n",
            "(None, 100, 100)\n",
            "(None, 100, 100, 1)\n",
            "(None, 100, 100)\n",
            "(None, 100, 100, 1)\n",
            "(None, 100, 100)\n",
            "(None, 100, 100, 1)\n",
            "(None, 100, 100)\n",
            "(None, 100, 100, 1)\n",
            "(None, 100, 100)\n",
            "(None, 100, 100, 1)\n",
            "(None, 100, 100)\n",
            "(None, 100, 100, 1)\n",
            "(None, 100, 100)\n",
            "(None, 100, 100, 1)\n",
            "(None, 100, 100)\n",
            "(None, 100, 100, 1)\n",
            "(None, 100, 100)\n",
            "(None, 100, 100, 1)\n",
            "(None, 100, 100)\n",
            "(None, 100, 100, 1)\n",
            "(None, 100, 100)\n",
            "(None, 100, 100, 1)\n",
            "(None, 100, 100)\n",
            "(None, 100, 100, 1)\n",
            "(None, 100, 100)\n",
            "(None, 100, 100, 1)\n",
            "(None, 100, 100)\n",
            "(None, 100, 100, 1)\n",
            "(None, 100, 100)\n",
            "(None, 100, 100, 1)\n",
            "(None, 100, 100)\n",
            "(None, 100, 100, 1)\n",
            "(None, 100, 100)\n",
            "(None, 100, 100, 1)\n",
            "(None, 100, 100)\n",
            "(None, 100, 100, 1)\n",
            "(None, 100, 100)\n",
            "(None, 100, 100, 1)\n",
            "(None, 100, 100)\n",
            "(None, 100, 100, 1)\n",
            "(None, 100, 100)\n",
            "(None, 100, 100, 1)\n",
            "(None, 100, 100)\n",
            "(None, 100, 100, 1)\n",
            "(None, 100, 100)\n",
            "(None, 100, 100, 1)\n",
            "(None, 100, 100)\n",
            "(None, 100, 100, 1)\n",
            "(None, 100, 100)\n",
            "(None, 100, 100, 1)\n",
            "(None, 100, 100)\n",
            "(None, 100, 100, 1)\n",
            "(None, 100, 100)\n",
            "(None, 100, 100, 1)\n",
            "(None, 100, 100)\n",
            "(None, 100, 100, 1)\n",
            "(None, 100, 100)\n",
            "(None, 100, 100, 1)\n",
            "(None, 100, 100)\n",
            "(None, 100, 100, 1)\n",
            "(None, 100, 100)\n",
            "(None, 100, 100, 1)\n",
            "(None, 100, 100)\n",
            "(None, 100, 100, 1)\n",
            "(None, 100, 100)\n",
            "(None, 100, 100, 1)\n",
            "(None, 100, 100)\n",
            "(None, 100, 100, 1)\n",
            "(None, 100, 100)\n",
            "(None, 100, 100, 1)\n",
            "(None, 100, 100)\n",
            "(None, 100, 100, 1)\n",
            "(None, 100, 100)\n",
            "(None, 100, 100, 1)\n",
            "(None, 100, 100)\n",
            "(None, 100, 100, 1)\n",
            "(None, 100, 100)\n",
            "(None, 100, 100, 1)\n",
            "(None, 100, 100)\n",
            "(None, 100, 100, 1)\n",
            "(None, 100, 100)\n",
            "(None, 100, 100, 1)\n",
            "(None, 100, 100)\n",
            "(None, 100, 100, 1)\n",
            "(None, 100, 100)\n",
            "(None, 100, 100, 1)\n",
            "(None, 100, 100)\n",
            "(None, 100, 100, 1)\n",
            "(None, 100, 100)\n",
            "(None, 100, 100, 1)\n",
            "(None, 100, 100)\n",
            "(None, 100, 100, 1)\n",
            "Best: 0.787962 using {'learn_rate': 0.01, 'momentum': 0.4}\n",
            "0.762655 (0.004220) with: {'learn_rate': 0.001, 'momentum': 0.0}\n",
            "0.761681 (0.002652) with: {'learn_rate': 0.001, 'momentum': 0.2}\n",
            "0.767034 (0.003362) with: {'learn_rate': 0.001, 'momentum': 0.4}\n",
            "0.773523 (0.007381) with: {'learn_rate': 0.001, 'momentum': 0.6}\n",
            "0.777254 (0.006272) with: {'learn_rate': 0.001, 'momentum': 0.8}\n",
            "0.782933 (0.001987) with: {'learn_rate': 0.001, 'momentum': 0.9}\n",
            "0.776931 (0.001559) with: {'learn_rate': 0.01, 'momentum': 0.0}\n",
            "0.784719 (0.005825) with: {'learn_rate': 0.01, 'momentum': 0.2}\n",
            "0.787962 (0.002977) with: {'learn_rate': 0.01, 'momentum': 0.4}\n",
            "0.775795 (0.001669) with: {'learn_rate': 0.01, 'momentum': 0.6}\n",
            "0.773846 (0.011624) with: {'learn_rate': 0.01, 'momentum': 0.8}\n",
            "0.760385 (0.010992) with: {'learn_rate': 0.01, 'momentum': 0.9}\n",
            "0.778067 (0.001773) with: {'learn_rate': 0.1, 'momentum': 0.0}\n",
            "0.755195 (0.016475) with: {'learn_rate': 0.1, 'momentum': 0.2}\n",
            "0.770116 (0.005867) with: {'learn_rate': 0.1, 'momentum': 0.4}\n",
            "0.718847 (0.039507) with: {'learn_rate': 0.1, 'momentum': 0.6}\n",
            "0.590040 (0.005088) with: {'learn_rate': 0.1, 'momentum': 0.8}\n",
            "0.590040 (0.005088) with: {'learn_rate': 0.1, 'momentum': 0.9}\n",
            "0.639699 (0.095127) with: {'learn_rate': 0.2, 'momentum': 0.0}\n",
            "0.744968 (0.014001) with: {'learn_rate': 0.2, 'momentum': 0.2}\n",
            "0.740107 (0.015511) with: {'learn_rate': 0.2, 'momentum': 0.4}\n",
            "0.660613 (0.029787) with: {'learn_rate': 0.2, 'momentum': 0.6}\n",
            "0.590040 (0.005088) with: {'learn_rate': 0.2, 'momentum': 0.8}\n",
            "0.590040 (0.005088) with: {'learn_rate': 0.2, 'momentum': 0.9}\n",
            "0.749030 (0.016904) with: {'learn_rate': 0.3, 'momentum': 0.0}\n",
            "0.690954 (0.055092) with: {'learn_rate': 0.3, 'momentum': 0.2}\n",
            "0.672297 (0.062533) with: {'learn_rate': 0.3, 'momentum': 0.4}\n",
            "0.590040 (0.005088) with: {'learn_rate': 0.3, 'momentum': 0.6}\n",
            "0.590040 (0.005088) with: {'learn_rate': 0.3, 'momentum': 0.8}\n",
            "0.590040 (0.005088) with: {'learn_rate': 0.3, 'momentum': 0.9}\n"
          ],
          "name": "stdout"
        }
      ]
    },
    {
      "cell_type": "markdown",
      "metadata": {
        "id": "fNBsgcVnrHC3"
      },
      "source": [
        "**Dropout regularization** : 0.6"
      ]
    },
    {
      "cell_type": "code",
      "metadata": {
        "id": "0x7SyXpvrJTj"
      },
      "source": [
        "def create_model(dropout_rate=0.0):\n",
        "  num_filters = 128\n",
        "\n",
        "  Embedding_layer = Embedding(max_words, embedding_dim, input_length=maxlen, weights=[embedding_matrix], trainable = False)\n",
        "\n",
        "  input = Input(shape=(maxlen,))\n",
        "  embedding = Embedding_layer(input)\n",
        "\n",
        "  reshape = Reshape((maxlen,embedding_dim,1))(embedding)\n",
        "\n",
        "  conv1 = Conv2D(num_filters, kernel_size=(3, embedding_dim), \n",
        "                padding='valid', kernel_initializer='normal', activation='relu' , kernel_regularizer='l2')(reshape)\n",
        "  conv2 = Conv2D(num_filters, kernel_size=(4, embedding_dim), \n",
        "                padding='valid', kernel_initializer='normal', activation='relu', kernel_regularizer='l2')(reshape)\n",
        "  conv3 = Conv2D(num_filters, kernel_size=(5, embedding_dim), \n",
        "                padding='valid', kernel_initializer='normal', activation='relu', kernel_regularizer='l2')(reshape)\n",
        "\n",
        "  maxpooling1 = MaxPool2D(pool_size=(maxlen - 3 + 1, 1), strides=(1,1), padding='valid')(conv1)\n",
        "  maxpooling2 = MaxPool2D(pool_size=(maxlen - 4 + 1, 1), strides=(1,1), padding='valid')(conv2)\n",
        "  maxpooling3 = MaxPool2D(pool_size=(maxlen - 5 + 1, 1), strides=(1,1), padding='valid')(conv3)\n",
        "\n",
        "  concatenated_tensor = Concatenate(axis=1)([maxpooling1, maxpooling2, maxpooling3])\n",
        "  flatten = Flatten()(concatenated_tensor)\n",
        "  dropout = Dropout(dropout_rate)(flatten)\n",
        "  output_layer = Dense(1, activation='sigmoid', kernel_regularizer='l2')(dropout)\n",
        "\n",
        "  # this creates a model that includes\n",
        "  model = Model(inputs=input, outputs=output_layer)\n",
        "\n",
        "  opt = keras.optimizers.SGD(lr=0.01, momentum=0.4)\n",
        "  model.compile(loss ='binary_crossentropy', optimizer=opt, metrics=['accuracy'])\n",
        "\n",
        "  return model"
      ],
      "execution_count": null,
      "outputs": []
    },
    {
      "cell_type": "code",
      "metadata": {
        "colab": {
          "base_uri": "https://localhost:8080/"
        },
        "id": "38oZcGcBT6YA",
        "outputId": "f9cc10bd-dc0d-46cd-e3cc-a0b43d4a7374"
      },
      "source": [
        "tune_model = KerasClassifier(build_fn = create_model, epochs=30, batch_size=20, verbose=0)\n",
        "\n",
        "dropout_rate = [0.0, 0.1, 0.2, 0.3, 0.4, 0.5, 0.6, 0.7, 0.8, 0.9]\n",
        "\n",
        "param_grid = dict(dropout_rate = dropout_rate)\n",
        "grid = GridSearchCV(estimator=tune_model, param_grid=param_grid, cv=3)\n",
        "grid_result = grid.fit(X_train, y_train)\n",
        "# summarize results\n",
        "print(\"Best: %f using %s\" % (grid_result.best_score_, grid_result.best_params_))\n",
        "means = grid_result.cv_results_['mean_test_score']\n",
        "stds = grid_result.cv_results_['std_test_score']\n",
        "params = grid_result.cv_results_['params']\n",
        "for mean, stdev, param in zip(means, stds, params):\n",
        "    print(\"%f (%f) with: %r\" % (mean, stdev, param))"
      ],
      "execution_count": null,
      "outputs": [
        {
          "output_type": "stream",
          "text": [
            "Best: 0.790233 using {'dropout_rate': 0.6}\n",
            "0.782285 (0.004869) with: {'dropout_rate': 0.0}\n",
            "0.785041 (0.005342) with: {'dropout_rate': 0.1}\n",
            "0.786016 (0.010133) with: {'dropout_rate': 0.2}\n",
            "0.786015 (0.002674) with: {'dropout_rate': 0.3}\n",
            "0.763631 (0.021347) with: {'dropout_rate': 0.4}\n",
            "0.783582 (0.001205) with: {'dropout_rate': 0.5}\n",
            "0.790233 (0.003579) with: {'dropout_rate': 0.6}\n",
            "0.786341 (0.002819) with: {'dropout_rate': 0.7}\n",
            "0.777253 (0.009020) with: {'dropout_rate': 0.8}\n",
            "0.779040 (0.003763) with: {'dropout_rate': 0.9}\n"
          ],
          "name": "stdout"
        }
      ]
    },
    {
      "cell_type": "markdown",
      "metadata": {
        "id": "25OO7IwIfqF2"
      },
      "source": [
        "**l1 vs l2** : l2"
      ]
    },
    {
      "cell_type": "code",
      "metadata": {
        "id": "gkATlVP_fr66"
      },
      "source": [
        "def create_model(reg = 'l1'):\n",
        "  num_filters = 128\n",
        "\n",
        "  Embedding_layer = Embedding(max_words, embedding_dim, input_length=maxlen, weights=[embedding_matrix], trainable = False)\n",
        "\n",
        "  input = Input(shape=(maxlen,))\n",
        "  embedding = Embedding_layer(input)\n",
        "\n",
        "  reshape = Reshape((maxlen,embedding_dim,1))(embedding)\n",
        "\n",
        "  conv1 = Conv2D(num_filters, kernel_size=(3, embedding_dim), \n",
        "                padding='valid', kernel_initializer='normal', activation='relu' , kernel_regularizer=reg)(reshape)\n",
        "  conv2 = Conv2D(num_filters, kernel_size=(4, embedding_dim), \n",
        "                padding='valid', kernel_initializer='normal', activation='relu', kernel_regularizer=reg)(reshape)\n",
        "  conv3 = Conv2D(num_filters, kernel_size=(5, embedding_dim), \n",
        "                padding='valid', kernel_initializer='normal', activation='relu', kernel_regularizer=reg)(reshape)\n",
        "\n",
        "  maxpooling1 = MaxPool2D(pool_size=(maxlen - 3 + 1, 1), strides=(1,1), padding='valid')(conv1)\n",
        "  maxpooling2 = MaxPool2D(pool_size=(maxlen - 4 + 1, 1), strides=(1,1), padding='valid')(conv2)\n",
        "  maxpooling3 = MaxPool2D(pool_size=(maxlen - 5 + 1, 1), strides=(1,1), padding='valid')(conv3)\n",
        "\n",
        "  concatenated_tensor = Concatenate(axis=1)([maxpooling1, maxpooling2, maxpooling3])\n",
        "  flatten = Flatten()(concatenated_tensor)\n",
        "  dropout = Dropout(0.6)(flatten)\n",
        "  output_layer = Dense(1, activation='sigmoid', kernel_regularizer=reg)(dropout)\n",
        "\n",
        "  # this creates a model that includes\n",
        "  model = Model(inputs=input, outputs=output_layer)\n",
        "\n",
        "  opt = keras.optimizers.SGD(lr= 0.01, momentum=0.4)\n",
        "  model.compile(loss ='binary_crossentropy', optimizer=opt, metrics=['accuracy'])\n",
        "\n",
        "  return model"
      ],
      "execution_count": null,
      "outputs": []
    },
    {
      "cell_type": "code",
      "metadata": {
        "colab": {
          "base_uri": "https://localhost:8080/"
        },
        "id": "Q0xSyv_4ftrA",
        "outputId": "d06cd773-fcaa-4a50-8fac-b6540fcf86e4"
      },
      "source": [
        "tune_model = KerasClassifier(build_fn = create_model, epochs=30, batch_size=20, verbose=0)\n",
        "\n",
        "reg = ['l1','l2']\n",
        "\n",
        "param_grid = dict(reg = reg)\n",
        "grid = GridSearchCV(estimator=tune_model, param_grid=param_grid, cv=3)\n",
        "grid_result = grid.fit(X_train, y_train)\n",
        "# summarize results\n",
        "print(\"Best: %f using %s\" % (grid_result.best_score_, grid_result.best_params_))\n",
        "means = grid_result.cv_results_['mean_test_score']\n",
        "stds = grid_result.cv_results_['std_test_score']\n",
        "params = grid_result.cv_results_['params']\n",
        "for mean, stdev, param in zip(means, stds, params):\n",
        "    print(\"%f (%f) with: %r\" % (mean, stdev, param))"
      ],
      "execution_count": null,
      "outputs": [
        {
          "output_type": "stream",
          "text": [
            "Best: 0.780336 using {'reg': 'l2'}\n",
            "0.590040 (0.005088) with: {'reg': 'l1'}\n",
            "0.780336 (0.007414) with: {'reg': 'l2'}\n"
          ],
          "name": "stdout"
        }
      ]
    },
    {
      "cell_type": "markdown",
      "metadata": {
        "id": "V2PF4-wezDfu"
      },
      "source": [
        "**Final CNN model**"
      ]
    },
    {
      "cell_type": "code",
      "metadata": {
        "id": "k6-riVXTi2EY"
      },
      "source": [
        "\n",
        "def create_model():\n",
        "  num_filters = 128\n",
        "  reg = 'l2'\n",
        "\n",
        "  Embedding_layer = Embedding(max_words, embedding_dim, input_length=maxlen, weights=[embedding_matrix], trainable = False)\n",
        "\n",
        "  input = Input(shape=(maxlen,))\n",
        "  embedding = Embedding_layer(input)\n",
        "\n",
        "  reshape = Reshape((maxlen,embedding_dim,1))(embedding)\n",
        "\n",
        "  conv1 = Conv2D(num_filters, kernel_size=(3, embedding_dim), \n",
        "                padding='valid', kernel_initializer='normal', activation='relu' , kernel_regularizer=reg)(reshape)\n",
        "  conv2 = Conv2D(num_filters, kernel_size=(4, embedding_dim), \n",
        "                padding='valid', kernel_initializer='normal', activation='relu', kernel_regularizer=reg)(reshape)\n",
        "  conv3 = Conv2D(num_filters, kernel_size=(5, embedding_dim), \n",
        "                padding='valid', kernel_initializer='normal', activation='relu', kernel_regularizer=reg)(reshape)\n",
        "\n",
        "  maxpooling1 = MaxPool2D(pool_size=(maxlen - 3 + 1, 1), strides=(1,1), padding='valid')(conv1)\n",
        "  maxpooling2 = MaxPool2D(pool_size=(maxlen - 4 + 1, 1), strides=(1,1), padding='valid')(conv2)\n",
        "  maxpooling3 = MaxPool2D(pool_size=(maxlen - 5 + 1, 1), strides=(1,1), padding='valid')(conv3)\n",
        "\n",
        "  concatenated_tensor = Concatenate(axis=1)([maxpooling1, maxpooling2, maxpooling3])\n",
        "  flatten = Flatten()(concatenated_tensor)\n",
        "  dropout = Dropout(0.6)(flatten)\n",
        "  output_layer = Dense(1, activation='sigmoid', kernel_regularizer=reg)(dropout)\n",
        "\n",
        "  # this creates a model that includes\n",
        "  model = Model(inputs=input, outputs=output_layer)\n",
        "\n",
        "  opt = keras.optimizers.SGD(lr= 0.01, momentum=0.4)\n",
        "  model.compile(loss ='binary_crossentropy', optimizer=opt, metrics=['accuracy'])\n",
        "\n",
        "  return model"
      ],
      "execution_count": 132,
      "outputs": []
    },
    {
      "cell_type": "code",
      "metadata": {
        "id": "CdEGHkxnjAxL"
      },
      "source": [
        "model = create_model()"
      ],
      "execution_count": 133,
      "outputs": []
    },
    {
      "cell_type": "code",
      "metadata": {
        "colab": {
          "base_uri": "https://localhost:8080/"
        },
        "id": "6XQnMnKhjDXB",
        "outputId": "b65ee1d2-edae-4699-ce51-3870f622fbea"
      },
      "source": [
        "callback = [keras.callbacks.ModelCheckpoint(filepath='best.h5', monitor='val_loss', mode='min', save_best_only=True),\n",
        "            keras.callbacks.EarlyStopping(monitor='val_loss', patience=5, verbose=0, mode='auto',baseline=None, restore_best_weights=False)]\n",
        "\n",
        "# history = model.fit(X_train, y_train, validation_split=0.2, epochs=100, batch_size=20, shuffle=True, callbacks=callback)\n",
        "history = model.fit(X_train, y_train, validation_split=0.2, epochs=100, batch_size=20, shuffle=True, callbacks=callback)"
      ],
      "execution_count": 134,
      "outputs": [
        {
          "output_type": "stream",
          "text": [
            "Epoch 1/100\n",
            "247/247 [==============================] - 1s 6ms/step - loss: 4.2180 - accuracy: 0.6516 - val_loss: 3.7927 - val_accuracy: 0.7567\n",
            "Epoch 2/100\n",
            "247/247 [==============================] - 1s 4ms/step - loss: 3.5748 - accuracy: 0.7157 - val_loss: 3.2823 - val_accuracy: 0.7583\n",
            "Epoch 3/100\n",
            "247/247 [==============================] - 1s 5ms/step - loss: 3.0917 - accuracy: 0.7406 - val_loss: 2.8565 - val_accuracy: 0.7656\n",
            "Epoch 4/100\n",
            "247/247 [==============================] - 1s 5ms/step - loss: 2.6874 - accuracy: 0.7605 - val_loss: 2.4954 - val_accuracy: 0.7689\n",
            "Epoch 5/100\n",
            "247/247 [==============================] - 1s 4ms/step - loss: 2.3502 - accuracy: 0.7625 - val_loss: 2.1921 - val_accuracy: 0.7713\n",
            "Epoch 6/100\n",
            "247/247 [==============================] - 1s 5ms/step - loss: 2.0645 - accuracy: 0.7692 - val_loss: 1.9371 - val_accuracy: 0.7737\n",
            "Epoch 7/100\n",
            "247/247 [==============================] - 1s 5ms/step - loss: 1.8228 - accuracy: 0.7781 - val_loss: 1.7169 - val_accuracy: 0.7745\n",
            "Epoch 8/100\n",
            "247/247 [==============================] - 1s 5ms/step - loss: 1.6180 - accuracy: 0.7856 - val_loss: 1.5364 - val_accuracy: 0.7810\n",
            "Epoch 9/100\n",
            "247/247 [==============================] - 1s 4ms/step - loss: 1.4428 - accuracy: 0.7940 - val_loss: 1.3849 - val_accuracy: 0.7762\n",
            "Epoch 10/100\n",
            "247/247 [==============================] - 1s 5ms/step - loss: 1.2943 - accuracy: 0.8002 - val_loss: 1.2518 - val_accuracy: 0.7802\n",
            "Epoch 11/100\n",
            "247/247 [==============================] - 1s 5ms/step - loss: 1.1701 - accuracy: 0.8055 - val_loss: 1.1471 - val_accuracy: 0.7794\n",
            "Epoch 12/100\n",
            "247/247 [==============================] - 1s 5ms/step - loss: 1.0686 - accuracy: 0.8057 - val_loss: 1.0513 - val_accuracy: 0.7867\n",
            "Epoch 13/100\n",
            "247/247 [==============================] - 1s 5ms/step - loss: 0.9758 - accuracy: 0.8146 - val_loss: 0.9708 - val_accuracy: 0.7851\n",
            "Epoch 14/100\n",
            "247/247 [==============================] - 1s 5ms/step - loss: 0.8980 - accuracy: 0.8215 - val_loss: 0.9069 - val_accuracy: 0.7891\n",
            "Epoch 15/100\n",
            "247/247 [==============================] - 1s 5ms/step - loss: 0.8364 - accuracy: 0.8199 - val_loss: 0.8503 - val_accuracy: 0.7891\n",
            "Epoch 16/100\n",
            "247/247 [==============================] - 1s 5ms/step - loss: 0.7804 - accuracy: 0.8211 - val_loss: 0.8116 - val_accuracy: 0.7802\n",
            "Epoch 17/100\n",
            "247/247 [==============================] - 1s 5ms/step - loss: 0.7388 - accuracy: 0.8266 - val_loss: 0.7708 - val_accuracy: 0.7826\n",
            "Epoch 18/100\n",
            "247/247 [==============================] - 1s 5ms/step - loss: 0.7006 - accuracy: 0.8244 - val_loss: 0.7342 - val_accuracy: 0.7843\n",
            "Epoch 19/100\n",
            "247/247 [==============================] - 1s 5ms/step - loss: 0.6685 - accuracy: 0.8339 - val_loss: 0.7166 - val_accuracy: 0.7794\n",
            "Epoch 20/100\n",
            "247/247 [==============================] - 1s 5ms/step - loss: 0.6405 - accuracy: 0.8321 - val_loss: 0.6839 - val_accuracy: 0.7899\n",
            "Epoch 21/100\n",
            "247/247 [==============================] - 1s 5ms/step - loss: 0.6203 - accuracy: 0.8361 - val_loss: 0.6690 - val_accuracy: 0.7867\n",
            "Epoch 22/100\n",
            "247/247 [==============================] - 1s 5ms/step - loss: 0.5966 - accuracy: 0.8396 - val_loss: 0.6488 - val_accuracy: 0.7924\n",
            "Epoch 23/100\n",
            "247/247 [==============================] - 1s 5ms/step - loss: 0.5801 - accuracy: 0.8365 - val_loss: 0.6386 - val_accuracy: 0.7932\n",
            "Epoch 24/100\n",
            "247/247 [==============================] - 1s 5ms/step - loss: 0.5688 - accuracy: 0.8351 - val_loss: 0.6253 - val_accuracy: 0.7924\n",
            "Epoch 25/100\n",
            "247/247 [==============================] - 1s 5ms/step - loss: 0.5551 - accuracy: 0.8414 - val_loss: 0.6185 - val_accuracy: 0.7867\n",
            "Epoch 26/100\n",
            "247/247 [==============================] - 1s 5ms/step - loss: 0.5448 - accuracy: 0.8465 - val_loss: 0.6119 - val_accuracy: 0.7908\n",
            "Epoch 27/100\n",
            "247/247 [==============================] - 1s 5ms/step - loss: 0.5420 - accuracy: 0.8398 - val_loss: 0.6023 - val_accuracy: 0.7891\n",
            "Epoch 28/100\n",
            "247/247 [==============================] - 1s 5ms/step - loss: 0.5301 - accuracy: 0.8440 - val_loss: 0.5972 - val_accuracy: 0.7891\n",
            "Epoch 29/100\n",
            "247/247 [==============================] - 1s 5ms/step - loss: 0.5244 - accuracy: 0.8453 - val_loss: 0.6007 - val_accuracy: 0.7859\n",
            "Epoch 30/100\n",
            "247/247 [==============================] - 1s 5ms/step - loss: 0.5207 - accuracy: 0.8430 - val_loss: 0.5931 - val_accuracy: 0.7859\n",
            "Epoch 31/100\n",
            "247/247 [==============================] - 1s 5ms/step - loss: 0.5146 - accuracy: 0.8499 - val_loss: 0.5898 - val_accuracy: 0.7843\n",
            "Epoch 32/100\n",
            "247/247 [==============================] - 1s 5ms/step - loss: 0.5117 - accuracy: 0.8459 - val_loss: 0.5845 - val_accuracy: 0.7867\n",
            "Epoch 33/100\n",
            "247/247 [==============================] - 1s 5ms/step - loss: 0.5063 - accuracy: 0.8471 - val_loss: 0.5853 - val_accuracy: 0.7899\n",
            "Epoch 34/100\n",
            "247/247 [==============================] - 1s 5ms/step - loss: 0.5027 - accuracy: 0.8501 - val_loss: 0.5832 - val_accuracy: 0.7883\n",
            "Epoch 35/100\n",
            "247/247 [==============================] - 1s 5ms/step - loss: 0.5063 - accuracy: 0.8469 - val_loss: 0.5807 - val_accuracy: 0.7916\n",
            "Epoch 36/100\n",
            "247/247 [==============================] - 1s 5ms/step - loss: 0.5038 - accuracy: 0.8477 - val_loss: 0.5806 - val_accuracy: 0.7883\n",
            "Epoch 37/100\n",
            "247/247 [==============================] - 1s 5ms/step - loss: 0.4958 - accuracy: 0.8544 - val_loss: 0.5899 - val_accuracy: 0.7843\n",
            "Epoch 38/100\n",
            "247/247 [==============================] - 1s 5ms/step - loss: 0.4945 - accuracy: 0.8532 - val_loss: 0.5816 - val_accuracy: 0.7891\n",
            "Epoch 39/100\n",
            "247/247 [==============================] - 1s 4ms/step - loss: 0.4925 - accuracy: 0.8528 - val_loss: 0.5926 - val_accuracy: 0.7778\n",
            "Epoch 40/100\n",
            "247/247 [==============================] - 1s 5ms/step - loss: 0.4950 - accuracy: 0.8483 - val_loss: 0.5789 - val_accuracy: 0.7916\n",
            "Epoch 41/100\n",
            "247/247 [==============================] - 1s 4ms/step - loss: 0.4937 - accuracy: 0.8499 - val_loss: 0.5806 - val_accuracy: 0.7899\n",
            "Epoch 42/100\n",
            "247/247 [==============================] - 1s 5ms/step - loss: 0.4874 - accuracy: 0.8520 - val_loss: 0.5781 - val_accuracy: 0.7875\n",
            "Epoch 43/100\n",
            "247/247 [==============================] - 1s 4ms/step - loss: 0.4872 - accuracy: 0.8562 - val_loss: 0.5795 - val_accuracy: 0.7916\n",
            "Epoch 44/100\n",
            "247/247 [==============================] - 1s 4ms/step - loss: 0.4860 - accuracy: 0.8580 - val_loss: 0.5990 - val_accuracy: 0.7835\n",
            "Epoch 45/100\n",
            "247/247 [==============================] - 1s 4ms/step - loss: 0.4866 - accuracy: 0.8595 - val_loss: 0.5800 - val_accuracy: 0.7826\n",
            "Epoch 46/100\n",
            "247/247 [==============================] - 1s 4ms/step - loss: 0.4887 - accuracy: 0.8582 - val_loss: 0.5812 - val_accuracy: 0.7940\n",
            "Epoch 47/100\n",
            "247/247 [==============================] - 1s 4ms/step - loss: 0.4869 - accuracy: 0.8601 - val_loss: 0.5799 - val_accuracy: 0.7875\n"
          ],
          "name": "stdout"
        }
      ]
    },
    {
      "cell_type": "code",
      "metadata": {
        "colab": {
          "base_uri": "https://localhost:8080/"
        },
        "id": "971FD-aSuj6N",
        "outputId": "96584484-1125-42ec-ff02-431fc180778b"
      },
      "source": [
        "# load a saved model\n",
        "saved_model = load_model('best.h5')\n",
        "saved_model.evaluate(X_test, y_test)"
      ],
      "execution_count": 135,
      "outputs": [
        {
          "output_type": "stream",
          "text": [
            "22/22 [==============================] - 0s 4ms/step - loss: 0.5731 - accuracy: 0.8015\n"
          ],
          "name": "stdout"
        },
        {
          "output_type": "execute_result",
          "data": {
            "text/plain": [
              "[0.5731400847434998, 0.8014598488807678]"
            ]
          },
          "metadata": {
            "tags": []
          },
          "execution_count": 135
        }
      ]
    },
    {
      "cell_type": "markdown",
      "metadata": {
        "id": "d4bUEcXvN4cL"
      },
      "source": [
        "\r\n",
        "\r\n",
        "*   Accuracy: 0.801460\r\n",
        "*   Precision: 0.786290\r\n",
        "*   Recall: 0.701439\r\n",
        "*   F1 score: 0.741445\r\n",
        "\r\n",
        "\r\n",
        "![image.png](data:image/png;base64,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) ![image.png](data:image/png;base64,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)\r\n",
        "\r\n",
        "\r\n",
        "\r\n"
      ]
    },
    {
      "cell_type": "markdown",
      "metadata": {
        "id": "Lh5PHFENldDg"
      },
      "source": [
        "**(2)LSTM model**"
      ]
    },
    {
      "cell_type": "markdown",
      "metadata": {
        "id": "kbrOhTtwEv4A"
      },
      "source": [
        "Predict a binary outcome using LSTM Model\r\n",
        "\r\n",
        "- Number of hidden nodes = 32\r\n",
        "\r\n",
        "- Dropout rate = 0.2\r\n",
        "\r\n",
        "- Activation Function = \"Sigmoid\"\r\n",
        "\r\n",
        "- Loss Function = \"binary_crossentropy\""
      ]
    },
    {
      "cell_type": "code",
      "metadata": {
        "colab": {
          "base_uri": "https://localhost:8080/"
        },
        "id": "Nz_xMeBmlfU2",
        "outputId": "7f66d6cc-3dcb-4f94-fedb-e087dab45b63"
      },
      "source": [
        "from keras.models import Sequential\n",
        "from keras.layers import LSTM, Embedding, Dense, Dropout\n",
        "from tensorflow.keras.callbacks import EarlyStopping, ModelCheckpoint\n",
        "\n",
        "model_save_folder_path = '/content/gdrive/My Drive/AI Lecture/'\n",
        "if not os.path.exists(model_save_folder_path):\n",
        "  os.mkdir(model_save_folder_path)\n",
        "model_path = model_save_folder_path + 'best_lstm.hdf5'\n",
        "modelckpt = ModelCheckpoint(filepath=model_path, monitor='val_loss', verbose=1, save_best_only=True)\n",
        "\n",
        "model_1 = Sequential()\n",
        "model_1.add(Embedding(max_words, 100))\n",
        "model_1.add(LSTM(32))\n",
        "model_1.add(Dropout(0.2))\n",
        "model_1.add(Dense(1, activation='sigmoid'))\n",
        "model_1.summary()\n",
        "model_1.layers[0].set_weights([embedding_matrix])\n",
        "model_1.layers[0].trainable = False\n",
        "model_1.compile(optimizer='rmsprop',\n",
        "              loss='binary_crossentropy',\n",
        "              metrics=['acc'])\n",
        "history = model_1.fit(X_train, y_train,\n",
        "                    epochs=20,\n",
        "                    batch_size=128,\n",
        "                    validation_split=0.1,\n",
        "                    callbacks=[modelckpt])"
      ],
      "execution_count": 148,
      "outputs": [
        {
          "output_type": "stream",
          "text": [
            "Model: \"sequential_1\"\n",
            "_________________________________________________________________\n",
            "Layer (type)                 Output Shape              Param #   \n",
            "=================================================================\n",
            "embedding_6 (Embedding)      (None, None, 100)         1000000   \n",
            "_________________________________________________________________\n",
            "lstm (LSTM)                  (None, 32)                17024     \n",
            "_________________________________________________________________\n",
            "dropout_6 (Dropout)          (None, 32)                0         \n",
            "_________________________________________________________________\n",
            "dense_6 (Dense)              (None, 1)                 33        \n",
            "=================================================================\n",
            "Total params: 1,017,057\n",
            "Trainable params: 1,017,057\n",
            "Non-trainable params: 0\n",
            "_________________________________________________________________\n",
            "Epoch 1/20\n",
            "38/44 [========================>.....] - ETA: 0s - loss: 0.6827 - acc: 0.5925\n",
            "Epoch 00001: val_loss improved from inf to 0.69131, saving model to /content/gdrive/My Drive/AI Lecture/best_lstm.hdf5\n",
            "44/44 [==============================] - 1s 28ms/step - loss: 0.6818 - acc: 0.5926 - val_loss: 0.6913 - val_acc: 0.5543\n",
            "Epoch 2/20\n",
            "42/44 [===========================>..] - ETA: 0s - loss: 0.6521 - acc: 0.6070\n",
            "Epoch 00002: val_loss improved from 0.69131 to 0.60648, saving model to /content/gdrive/My Drive/AI Lecture/best_lstm.hdf5\n",
            "44/44 [==============================] - 0s 10ms/step - loss: 0.6502 - acc: 0.6101 - val_loss: 0.6065 - val_acc: 0.7358\n",
            "Epoch 3/20\n",
            "43/44 [============================>.] - ETA: 0s - loss: 0.5730 - acc: 0.7342\n",
            "Epoch 00003: val_loss improved from 0.60648 to 0.58766, saving model to /content/gdrive/My Drive/AI Lecture/best_lstm.hdf5\n",
            "44/44 [==============================] - 0s 9ms/step - loss: 0.5736 - acc: 0.7335 - val_loss: 0.5877 - val_acc: 0.7618\n",
            "Epoch 4/20\n",
            "42/44 [===========================>..] - ETA: 0s - loss: 0.5464 - acc: 0.7561\n",
            "Epoch 00004: val_loss improved from 0.58766 to 0.54170, saving model to /content/gdrive/My Drive/AI Lecture/best_lstm.hdf5\n",
            "44/44 [==============================] - 0s 10ms/step - loss: 0.5460 - acc: 0.7566 - val_loss: 0.5417 - val_acc: 0.7439\n",
            "Epoch 5/20\n",
            "43/44 [============================>.] - ETA: 0s - loss: 0.5331 - acc: 0.7653\n",
            "Epoch 00005: val_loss improved from 0.54170 to 0.52728, saving model to /content/gdrive/My Drive/AI Lecture/best_lstm.hdf5\n",
            "44/44 [==============================] - 0s 9ms/step - loss: 0.5334 - acc: 0.7647 - val_loss: 0.5273 - val_acc: 0.7650\n",
            "Epoch 6/20\n",
            "42/44 [===========================>..] - ETA: 0s - loss: 0.5243 - acc: 0.7716\n",
            "Epoch 00006: val_loss did not improve from 0.52728\n",
            "44/44 [==============================] - 0s 8ms/step - loss: 0.5216 - acc: 0.7727 - val_loss: 0.5848 - val_acc: 0.7666\n",
            "Epoch 7/20\n",
            "41/44 [==========================>...] - ETA: 0s - loss: 0.5082 - acc: 0.7816\n",
            "Epoch 00007: val_loss improved from 0.52728 to 0.50132, saving model to /content/gdrive/My Drive/AI Lecture/best_lstm.hdf5\n",
            "44/44 [==============================] - 0s 10ms/step - loss: 0.5100 - acc: 0.7806 - val_loss: 0.5013 - val_acc: 0.7763\n",
            "Epoch 8/20\n",
            "43/44 [============================>.] - ETA: 0s - loss: 0.5016 - acc: 0.7793\n",
            "Epoch 00008: val_loss did not improve from 0.50132\n",
            "44/44 [==============================] - 0s 9ms/step - loss: 0.5024 - acc: 0.7788 - val_loss: 0.5080 - val_acc: 0.7812\n",
            "Epoch 9/20\n",
            "42/44 [===========================>..] - ETA: 0s - loss: 0.4897 - acc: 0.7919\n",
            "Epoch 00009: val_loss improved from 0.50132 to 0.47821, saving model to /content/gdrive/My Drive/AI Lecture/best_lstm.hdf5\n",
            "44/44 [==============================] - 0s 10ms/step - loss: 0.4914 - acc: 0.7903 - val_loss: 0.4782 - val_acc: 0.7828\n",
            "Epoch 10/20\n",
            "43/44 [============================>.] - ETA: 0s - loss: 0.4819 - acc: 0.7954\n",
            "Epoch 00010: val_loss did not improve from 0.47821\n",
            "44/44 [==============================] - 0s 8ms/step - loss: 0.4822 - acc: 0.7956 - val_loss: 0.5001 - val_acc: 0.7861\n",
            "Epoch 11/20\n",
            "43/44 [============================>.] - ETA: 0s - loss: 0.4830 - acc: 0.7863\n",
            "Epoch 00011: val_loss did not improve from 0.47821\n",
            "44/44 [==============================] - 0s 8ms/step - loss: 0.4835 - acc: 0.7864 - val_loss: 0.4927 - val_acc: 0.7763\n",
            "Epoch 12/20\n",
            "41/44 [==========================>...] - ETA: 0s - loss: 0.4690 - acc: 0.7954\n",
            "Epoch 00012: val_loss did not improve from 0.47821\n",
            "44/44 [==============================] - 0s 9ms/step - loss: 0.4715 - acc: 0.7941 - val_loss: 0.4837 - val_acc: 0.7877\n",
            "Epoch 13/20\n",
            "42/44 [===========================>..] - ETA: 0s - loss: 0.4637 - acc: 0.8002\n",
            "Epoch 00013: val_loss did not improve from 0.47821\n",
            "44/44 [==============================] - 0s 9ms/step - loss: 0.4657 - acc: 0.7992 - val_loss: 0.5055 - val_acc: 0.7925\n",
            "Epoch 14/20\n",
            "39/44 [=========================>....] - ETA: 0s - loss: 0.4642 - acc: 0.8003\n",
            "Epoch 00014: val_loss did not improve from 0.47821\n",
            "44/44 [==============================] - 0s 9ms/step - loss: 0.4621 - acc: 0.8001 - val_loss: 0.5164 - val_acc: 0.7812\n",
            "Epoch 15/20\n",
            "43/44 [============================>.] - ETA: 0s - loss: 0.4591 - acc: 0.8054\n",
            "Epoch 00015: val_loss did not improve from 0.47821\n",
            "44/44 [==============================] - 0s 8ms/step - loss: 0.4593 - acc: 0.8053 - val_loss: 0.4784 - val_acc: 0.7909\n",
            "Epoch 16/20\n",
            "43/44 [============================>.] - ETA: 0s - loss: 0.4541 - acc: 0.8070\n",
            "Epoch 00016: val_loss did not improve from 0.47821\n",
            "44/44 [==============================] - 0s 8ms/step - loss: 0.4532 - acc: 0.8076 - val_loss: 0.4963 - val_acc: 0.7666\n",
            "Epoch 17/20\n",
            "42/44 [===========================>..] - ETA: 0s - loss: 0.4464 - acc: 0.8149\n",
            "Epoch 00017: val_loss did not improve from 0.47821\n",
            "44/44 [==============================] - 0s 9ms/step - loss: 0.4489 - acc: 0.8140 - val_loss: 0.4929 - val_acc: 0.7780\n",
            "Epoch 18/20\n",
            "42/44 [===========================>..] - ETA: 0s - loss: 0.4459 - acc: 0.8181\n",
            "Epoch 00018: val_loss did not improve from 0.47821\n",
            "44/44 [==============================] - 0s 9ms/step - loss: 0.4474 - acc: 0.8168 - val_loss: 0.5053 - val_acc: 0.7699\n",
            "Epoch 19/20\n",
            "42/44 [===========================>..] - ETA: 0s - loss: 0.4327 - acc: 0.8183\n",
            "Epoch 00019: val_loss did not improve from 0.47821\n",
            "44/44 [==============================] - 0s 9ms/step - loss: 0.4367 - acc: 0.8163 - val_loss: 0.4843 - val_acc: 0.7666\n",
            "Epoch 20/20\n",
            "42/44 [===========================>..] - ETA: 0s - loss: 0.4258 - acc: 0.8251\n",
            "Epoch 00020: val_loss did not improve from 0.47821\n",
            "44/44 [==============================] - 0s 9ms/step - loss: 0.4243 - acc: 0.8259 - val_loss: 0.6600 - val_acc: 0.7164\n"
          ],
          "name": "stdout"
        }
      ]
    },
    {
      "cell_type": "markdown",
      "metadata": {
        "id": "H4hGn8aiGAS4"
      },
      "source": [
        "When epoch is 9, Model have best accuracy 0.8055"
      ]
    },
    {
      "cell_type": "markdown",
      "metadata": {
        "id": "Oh67_mf5VFop"
      },
      "source": [
        "**(3)SVM model**"
      ]
    },
    {
      "cell_type": "code",
      "metadata": {
        "colab": {
          "base_uri": "https://localhost:8080/"
        },
        "id": "96T0d6lUVIHG",
        "outputId": "0fc2ee41-064e-4a71-90e6-a0dab564a9da"
      },
      "source": [
        "sv = svm.SVC()\n",
        "sv.fit(X_train, y_train)\n",
        "\n",
        "pred= sv.predict(X_test)\n",
        "# print(\"svm accuracy -> \", accuracy_score(pred, y_test)*100)\n",
        "print(classification_report(y_test, pred))"
      ],
      "execution_count": 145,
      "outputs": [
        {
          "output_type": "stream",
          "text": [
            "              precision    recall  f1-score   support\n",
            "\n",
            "         0.0       0.60      0.97      0.74       407\n",
            "         1.0       0.57      0.06      0.10       278\n",
            "\n",
            "    accuracy                           0.60       685\n",
            "   macro avg       0.59      0.51      0.42       685\n",
            "weighted avg       0.59      0.60      0.48       685\n",
            "\n"
          ],
          "name": "stdout"
        }
      ]
    },
    {
      "cell_type": "markdown",
      "metadata": {
        "id": "J4CbxChmzN8w"
      },
      "source": [
        "Hyperparameter tuning\r\n",
        "\r\n",
        "\r\n",
        "1.   Kernel\r\n",
        "2.   C, gamma\r\n",
        "\r\n"
      ]
    },
    {
      "cell_type": "markdown",
      "metadata": {
        "id": "ZJQ9OElbznID"
      },
      "source": [
        "**kernel** : rbf"
      ]
    },
    {
      "cell_type": "code",
      "metadata": {
        "colab": {
          "base_uri": "https://localhost:8080/"
        },
        "id": "3p-wXCUDvJ9S",
        "outputId": "41f358cf-dd3b-460a-d8a5-aa371158265e"
      },
      "source": [
        "#hyperparameter tuning\n",
        "sv = svm.SVC(kernel='RBF')\n",
        "\n",
        "kernel = ['poly', 'rbf', 'sigmoid']\n",
        "\n",
        "param_grid = {'kernel': kernel}\n",
        "  \n",
        "grid = GridSearchCV(sv, param_grid, refit = True, verbose = 3) \n",
        "grid.fit(X_train, y_train) \n",
        "\n",
        "print(grid.best_params_) \n",
        "#print tuned model\n",
        "print(grid.best_estimator_) "
      ],
      "execution_count": null,
      "outputs": [
        {
          "output_type": "stream",
          "text": [
            "Fitting 5 folds for each of 3 candidates, totalling 15 fits\n",
            "[CV] kernel=poly .....................................................\n"
          ],
          "name": "stdout"
        },
        {
          "output_type": "stream",
          "text": [
            "[Parallel(n_jobs=1)]: Using backend SequentialBackend with 1 concurrent workers.\n"
          ],
          "name": "stderr"
        },
        {
          "output_type": "stream",
          "text": [
            "[CV] ......................... kernel=poly, score=0.590, total=   5.1s\n",
            "[CV] kernel=poly .....................................................\n"
          ],
          "name": "stdout"
        },
        {
          "output_type": "stream",
          "text": [
            "[Parallel(n_jobs=1)]: Done   1 out of   1 | elapsed:    5.1s remaining:    0.0s\n"
          ],
          "name": "stderr"
        },
        {
          "output_type": "stream",
          "text": [
            "[CV] ......................... kernel=poly, score=0.588, total=   4.9s\n",
            "[CV] kernel=poly .....................................................\n"
          ],
          "name": "stdout"
        },
        {
          "output_type": "stream",
          "text": [
            "[Parallel(n_jobs=1)]: Done   2 out of   2 | elapsed:   10.0s remaining:    0.0s\n"
          ],
          "name": "stderr"
        },
        {
          "output_type": "stream",
          "text": [
            "[CV] ......................... kernel=poly, score=0.581, total=   4.7s\n",
            "[CV] kernel=poly .....................................................\n",
            "[CV] ......................... kernel=poly, score=0.579, total=   4.7s\n",
            "[CV] kernel=poly .....................................................\n",
            "[CV] ......................... kernel=poly, score=0.572, total=   4.5s\n",
            "[CV] kernel=rbf ......................................................\n",
            "[CV] .......................... kernel=rbf, score=0.596, total=   4.7s\n",
            "[CV] kernel=rbf ......................................................\n",
            "[CV] .......................... kernel=rbf, score=0.591, total=   4.7s\n",
            "[CV] kernel=rbf ......................................................\n",
            "[CV] .......................... kernel=rbf, score=0.577, total=   4.8s\n",
            "[CV] kernel=rbf ......................................................\n",
            "[CV] .......................... kernel=rbf, score=0.586, total=   4.8s\n",
            "[CV] kernel=rbf ......................................................\n",
            "[CV] .......................... kernel=rbf, score=0.587, total=   4.9s\n",
            "[CV] kernel=sigmoid ..................................................\n",
            "[CV] ...................... kernel=sigmoid, score=0.479, total=   3.4s\n",
            "[CV] kernel=sigmoid ..................................................\n",
            "[CV] ...................... kernel=sigmoid, score=0.487, total=   5.0s\n",
            "[CV] kernel=sigmoid ..................................................\n",
            "[CV] ...................... kernel=sigmoid, score=0.502, total=   3.1s\n",
            "[CV] kernel=sigmoid ..................................................\n",
            "[CV] ...................... kernel=sigmoid, score=0.483, total=   3.2s\n",
            "[CV] kernel=sigmoid ..................................................\n",
            "[CV] ...................... kernel=sigmoid, score=0.466, total=   3.5s\n"
          ],
          "name": "stdout"
        },
        {
          "output_type": "stream",
          "text": [
            "[Parallel(n_jobs=1)]: Done  15 out of  15 | elapsed:  1.1min finished\n"
          ],
          "name": "stderr"
        },
        {
          "output_type": "stream",
          "text": [
            "{'kernel': 'rbf'}\n",
            "SVC(C=1.0, break_ties=False, cache_size=200, class_weight=None, coef0=0.0,\n",
            "    decision_function_shape='ovr', degree=3, gamma='scale', kernel='rbf',\n",
            "    max_iter=-1, probability=False, random_state=None, shrinking=True,\n",
            "    tol=0.001, verbose=False)\n"
          ],
          "name": "stdout"
        }
      ]
    },
    {
      "cell_type": "markdown",
      "metadata": {
        "id": "2hYenE4mz10Y"
      },
      "source": [
        "**C & gamma** : 'C'=1, 'gamma'=0.0001"
      ]
    },
    {
      "cell_type": "code",
      "metadata": {
        "id": "9VvHHV-qVzp_",
        "colab": {
          "base_uri": "https://localhost:8080/"
        },
        "outputId": "20b454a2-2b76-4cda-a21c-1b2997538db7"
      },
      "source": [
        "#hyperparameter tuning\n",
        "\n",
        "sv = svm.SVC()\n",
        "\n",
        "param_grid = {'C': [0.1, 1, 10, 100, 1000],  \n",
        "              'gamma': [1, 0.1, 0.01, 0.001, 0.0001], \n",
        "              'kernel': ['rbf']}  \n",
        "  \n",
        "grid = GridSearchCV(sv, param_grid, refit = True, verbose = 3) \n",
        "grid.fit(X_train, y_train) \n",
        "\n",
        "\n",
        "print(grid.best_params_) \n",
        "  \n",
        "print(grid.best_estimator_) \n"
      ],
      "execution_count": 144,
      "outputs": [
        {
          "output_type": "stream",
          "text": [
            "Fitting 5 folds for each of 25 candidates, totalling 125 fits\n",
            "[CV] C=0.1, gamma=1, kernel=rbf ......................................\n"
          ],
          "name": "stdout"
        },
        {
          "output_type": "stream",
          "text": [
            "[Parallel(n_jobs=1)]: Using backend SequentialBackend with 1 concurrent workers.\n"
          ],
          "name": "stderr"
        },
        {
          "output_type": "stream",
          "text": [
            "[CV] .......... C=0.1, gamma=1, kernel=rbf, score=0.590, total=   4.8s\n",
            "[CV] C=0.1, gamma=1, kernel=rbf ......................................\n"
          ],
          "name": "stdout"
        },
        {
          "output_type": "stream",
          "text": [
            "[Parallel(n_jobs=1)]: Done   1 out of   1 | elapsed:    4.8s remaining:    0.0s\n"
          ],
          "name": "stderr"
        },
        {
          "output_type": "stream",
          "text": [
            "[CV] .......... C=0.1, gamma=1, kernel=rbf, score=0.590, total=   4.8s\n",
            "[CV] C=0.1, gamma=1, kernel=rbf ......................................\n"
          ],
          "name": "stdout"
        },
        {
          "output_type": "stream",
          "text": [
            "[Parallel(n_jobs=1)]: Done   2 out of   2 | elapsed:    9.7s remaining:    0.0s\n"
          ],
          "name": "stderr"
        },
        {
          "output_type": "stream",
          "text": [
            "[CV] .......... C=0.1, gamma=1, kernel=rbf, score=0.590, total=   4.8s\n",
            "[CV] C=0.1, gamma=1, kernel=rbf ......................................\n",
            "[CV] .......... C=0.1, gamma=1, kernel=rbf, score=0.590, total=   4.9s\n",
            "[CV] C=0.1, gamma=1, kernel=rbf ......................................\n",
            "[CV] .......... C=0.1, gamma=1, kernel=rbf, score=0.590, total=   4.9s\n",
            "[CV] C=0.1, gamma=0.1, kernel=rbf ....................................\n",
            "[CV] ........ C=0.1, gamma=0.1, kernel=rbf, score=0.590, total=   4.9s\n",
            "[CV] C=0.1, gamma=0.1, kernel=rbf ....................................\n",
            "[CV] ........ C=0.1, gamma=0.1, kernel=rbf, score=0.590, total=   4.8s\n",
            "[CV] C=0.1, gamma=0.1, kernel=rbf ....................................\n",
            "[CV] ........ C=0.1, gamma=0.1, kernel=rbf, score=0.590, total=   4.9s\n",
            "[CV] C=0.1, gamma=0.1, kernel=rbf ....................................\n",
            "[CV] ........ C=0.1, gamma=0.1, kernel=rbf, score=0.590, total=   4.8s\n",
            "[CV] C=0.1, gamma=0.1, kernel=rbf ....................................\n",
            "[CV] ........ C=0.1, gamma=0.1, kernel=rbf, score=0.590, total=   4.9s\n",
            "[CV] C=0.1, gamma=0.01, kernel=rbf ...................................\n",
            "[CV] ....... C=0.1, gamma=0.01, kernel=rbf, score=0.590, total=   4.9s\n",
            "[CV] C=0.1, gamma=0.01, kernel=rbf ...................................\n",
            "[CV] ....... C=0.1, gamma=0.01, kernel=rbf, score=0.590, total=   4.8s\n",
            "[CV] C=0.1, gamma=0.01, kernel=rbf ...................................\n",
            "[CV] ....... C=0.1, gamma=0.01, kernel=rbf, score=0.590, total=   4.8s\n",
            "[CV] C=0.1, gamma=0.01, kernel=rbf ...................................\n",
            "[CV] ....... C=0.1, gamma=0.01, kernel=rbf, score=0.590, total=   4.8s\n",
            "[CV] C=0.1, gamma=0.01, kernel=rbf ...................................\n",
            "[CV] ....... C=0.1, gamma=0.01, kernel=rbf, score=0.590, total=   4.9s\n",
            "[CV] C=0.1, gamma=0.001, kernel=rbf ..................................\n",
            "[CV] ...... C=0.1, gamma=0.001, kernel=rbf, score=0.590, total=   4.9s\n",
            "[CV] C=0.1, gamma=0.001, kernel=rbf ..................................\n",
            "[CV] ...... C=0.1, gamma=0.001, kernel=rbf, score=0.590, total=   4.9s\n",
            "[CV] C=0.1, gamma=0.001, kernel=rbf ..................................\n",
            "[CV] ...... C=0.1, gamma=0.001, kernel=rbf, score=0.590, total=   4.8s\n",
            "[CV] C=0.1, gamma=0.001, kernel=rbf ..................................\n",
            "[CV] ...... C=0.1, gamma=0.001, kernel=rbf, score=0.590, total=   4.9s\n",
            "[CV] C=0.1, gamma=0.001, kernel=rbf ..................................\n",
            "[CV] ...... C=0.1, gamma=0.001, kernel=rbf, score=0.590, total=   4.8s\n",
            "[CV] C=0.1, gamma=0.0001, kernel=rbf .................................\n",
            "[CV] ..... C=0.1, gamma=0.0001, kernel=rbf, score=0.590, total=   4.9s\n",
            "[CV] C=0.1, gamma=0.0001, kernel=rbf .................................\n",
            "[CV] ..... C=0.1, gamma=0.0001, kernel=rbf, score=0.590, total=   4.9s\n",
            "[CV] C=0.1, gamma=0.0001, kernel=rbf .................................\n",
            "[CV] ..... C=0.1, gamma=0.0001, kernel=rbf, score=0.590, total=   5.0s\n",
            "[CV] C=0.1, gamma=0.0001, kernel=rbf .................................\n",
            "[CV] ..... C=0.1, gamma=0.0001, kernel=rbf, score=0.590, total=   4.9s\n",
            "[CV] C=0.1, gamma=0.0001, kernel=rbf .................................\n",
            "[CV] ..... C=0.1, gamma=0.0001, kernel=rbf, score=0.590, total=   4.9s\n",
            "[CV] C=1, gamma=1, kernel=rbf ........................................\n",
            "[CV] ............ C=1, gamma=1, kernel=rbf, score=0.590, total=   4.9s\n",
            "[CV] C=1, gamma=1, kernel=rbf ........................................\n",
            "[CV] ............ C=1, gamma=1, kernel=rbf, score=0.591, total=   4.9s\n",
            "[CV] C=1, gamma=1, kernel=rbf ........................................\n",
            "[CV] ............ C=1, gamma=1, kernel=rbf, score=0.590, total=   4.9s\n",
            "[CV] C=1, gamma=1, kernel=rbf ........................................\n",
            "[CV] ............ C=1, gamma=1, kernel=rbf, score=0.591, total=   4.9s\n",
            "[CV] C=1, gamma=1, kernel=rbf ........................................\n",
            "[CV] ............ C=1, gamma=1, kernel=rbf, score=0.590, total=   4.9s\n",
            "[CV] C=1, gamma=0.1, kernel=rbf ......................................\n",
            "[CV] .......... C=1, gamma=0.1, kernel=rbf, score=0.590, total=   4.9s\n",
            "[CV] C=1, gamma=0.1, kernel=rbf ......................................\n",
            "[CV] .......... C=1, gamma=0.1, kernel=rbf, score=0.590, total=   4.9s\n",
            "[CV] C=1, gamma=0.1, kernel=rbf ......................................\n",
            "[CV] .......... C=1, gamma=0.1, kernel=rbf, score=0.590, total=   4.9s\n",
            "[CV] C=1, gamma=0.1, kernel=rbf ......................................\n",
            "[CV] .......... C=1, gamma=0.1, kernel=rbf, score=0.591, total=   4.9s\n",
            "[CV] C=1, gamma=0.1, kernel=rbf ......................................\n",
            "[CV] .......... C=1, gamma=0.1, kernel=rbf, score=0.591, total=   4.9s\n",
            "[CV] C=1, gamma=0.01, kernel=rbf .....................................\n",
            "[CV] ......... C=1, gamma=0.01, kernel=rbf, score=0.590, total=   4.9s\n",
            "[CV] C=1, gamma=0.01, kernel=rbf .....................................\n",
            "[CV] ......... C=1, gamma=0.01, kernel=rbf, score=0.591, total=   4.9s\n",
            "[CV] C=1, gamma=0.01, kernel=rbf .....................................\n",
            "[CV] ......... C=1, gamma=0.01, kernel=rbf, score=0.591, total=   4.9s\n",
            "[CV] C=1, gamma=0.01, kernel=rbf .....................................\n",
            "[CV] ......... C=1, gamma=0.01, kernel=rbf, score=0.591, total=   4.9s\n",
            "[CV] C=1, gamma=0.01, kernel=rbf .....................................\n",
            "[CV] ......... C=1, gamma=0.01, kernel=rbf, score=0.592, total=   4.9s\n",
            "[CV] C=1, gamma=0.001, kernel=rbf ....................................\n",
            "[CV] ........ C=1, gamma=0.001, kernel=rbf, score=0.593, total=   5.0s\n",
            "[CV] C=1, gamma=0.001, kernel=rbf ....................................\n",
            "[CV] ........ C=1, gamma=0.001, kernel=rbf, score=0.595, total=   5.0s\n",
            "[CV] C=1, gamma=0.001, kernel=rbf ....................................\n",
            "[CV] ........ C=1, gamma=0.001, kernel=rbf, score=0.593, total=   5.0s\n",
            "[CV] C=1, gamma=0.001, kernel=rbf ....................................\n",
            "[CV] ........ C=1, gamma=0.001, kernel=rbf, score=0.595, total=   4.9s\n",
            "[CV] C=1, gamma=0.001, kernel=rbf ....................................\n",
            "[CV] ........ C=1, gamma=0.001, kernel=rbf, score=0.595, total=   4.9s\n",
            "[CV] C=1, gamma=0.0001, kernel=rbf ...................................\n",
            "[CV] ....... C=1, gamma=0.0001, kernel=rbf, score=0.596, total=   5.0s\n",
            "[CV] C=1, gamma=0.0001, kernel=rbf ...................................\n",
            "[CV] ....... C=1, gamma=0.0001, kernel=rbf, score=0.596, total=   5.0s\n",
            "[CV] C=1, gamma=0.0001, kernel=rbf ...................................\n",
            "[CV] ....... C=1, gamma=0.0001, kernel=rbf, score=0.594, total=   5.0s\n",
            "[CV] C=1, gamma=0.0001, kernel=rbf ...................................\n",
            "[CV] ....... C=1, gamma=0.0001, kernel=rbf, score=0.596, total=   5.0s\n",
            "[CV] C=1, gamma=0.0001, kernel=rbf ...................................\n",
            "[CV] ....... C=1, gamma=0.0001, kernel=rbf, score=0.595, total=   5.0s\n",
            "[CV] C=10, gamma=1, kernel=rbf .......................................\n",
            "[CV] ........... C=10, gamma=1, kernel=rbf, score=0.590, total=   5.1s\n",
            "[CV] C=10, gamma=1, kernel=rbf .......................................\n",
            "[CV] ........... C=10, gamma=1, kernel=rbf, score=0.591, total=   5.0s\n",
            "[CV] C=10, gamma=1, kernel=rbf .......................................\n",
            "[CV] ........... C=10, gamma=1, kernel=rbf, score=0.590, total=   5.0s\n",
            "[CV] C=10, gamma=1, kernel=rbf .......................................\n",
            "[CV] ........... C=10, gamma=1, kernel=rbf, score=0.591, total=   5.0s\n",
            "[CV] C=10, gamma=1, kernel=rbf .......................................\n",
            "[CV] ........... C=10, gamma=1, kernel=rbf, score=0.590, total=   5.1s\n",
            "[CV] C=10, gamma=0.1, kernel=rbf .....................................\n",
            "[CV] ......... C=10, gamma=0.1, kernel=rbf, score=0.591, total=   5.0s\n",
            "[CV] C=10, gamma=0.1, kernel=rbf .....................................\n",
            "[CV] ......... C=10, gamma=0.1, kernel=rbf, score=0.590, total=   5.1s\n",
            "[CV] C=10, gamma=0.1, kernel=rbf .....................................\n",
            "[CV] ......... C=10, gamma=0.1, kernel=rbf, score=0.590, total=   5.0s\n",
            "[CV] C=10, gamma=0.1, kernel=rbf .....................................\n",
            "[CV] ......... C=10, gamma=0.1, kernel=rbf, score=0.591, total=   5.0s\n",
            "[CV] C=10, gamma=0.1, kernel=rbf .....................................\n",
            "[CV] ......... C=10, gamma=0.1, kernel=rbf, score=0.591, total=   5.1s\n",
            "[CV] C=10, gamma=0.01, kernel=rbf ....................................\n",
            "[CV] ........ C=10, gamma=0.01, kernel=rbf, score=0.590, total=   5.0s\n",
            "[CV] C=10, gamma=0.01, kernel=rbf ....................................\n",
            "[CV] ........ C=10, gamma=0.01, kernel=rbf, score=0.593, total=   5.1s\n",
            "[CV] C=10, gamma=0.01, kernel=rbf ....................................\n",
            "[CV] ........ C=10, gamma=0.01, kernel=rbf, score=0.591, total=   5.1s\n",
            "[CV] C=10, gamma=0.01, kernel=rbf ....................................\n",
            "[CV] ........ C=10, gamma=0.01, kernel=rbf, score=0.592, total=   5.0s\n",
            "[CV] C=10, gamma=0.01, kernel=rbf ....................................\n",
            "[CV] ........ C=10, gamma=0.01, kernel=rbf, score=0.594, total=   5.0s\n",
            "[CV] C=10, gamma=0.001, kernel=rbf ...................................\n",
            "[CV] ....... C=10, gamma=0.001, kernel=rbf, score=0.591, total=   5.1s\n",
            "[CV] C=10, gamma=0.001, kernel=rbf ...................................\n",
            "[CV] ....... C=10, gamma=0.001, kernel=rbf, score=0.591, total=   5.1s\n",
            "[CV] C=10, gamma=0.001, kernel=rbf ...................................\n",
            "[CV] ....... C=10, gamma=0.001, kernel=rbf, score=0.592, total=   5.1s\n",
            "[CV] C=10, gamma=0.001, kernel=rbf ...................................\n",
            "[CV] ....... C=10, gamma=0.001, kernel=rbf, score=0.596, total=   5.1s\n",
            "[CV] C=10, gamma=0.001, kernel=rbf ...................................\n",
            "[CV] ....... C=10, gamma=0.001, kernel=rbf, score=0.594, total=   5.1s\n",
            "[CV] C=10, gamma=0.0001, kernel=rbf ..................................\n",
            "[CV] ...... C=10, gamma=0.0001, kernel=rbf, score=0.595, total=   5.2s\n",
            "[CV] C=10, gamma=0.0001, kernel=rbf ..................................\n",
            "[CV] ...... C=10, gamma=0.0001, kernel=rbf, score=0.592, total=   5.1s\n",
            "[CV] C=10, gamma=0.0001, kernel=rbf ..................................\n",
            "[CV] ...... C=10, gamma=0.0001, kernel=rbf, score=0.592, total=   5.0s\n",
            "[CV] C=10, gamma=0.0001, kernel=rbf ..................................\n",
            "[CV] ...... C=10, gamma=0.0001, kernel=rbf, score=0.596, total=   5.2s\n",
            "[CV] C=10, gamma=0.0001, kernel=rbf ..................................\n",
            "[CV] ...... C=10, gamma=0.0001, kernel=rbf, score=0.595, total=   6.6s\n",
            "[CV] C=100, gamma=1, kernel=rbf ......................................\n",
            "[CV] .......... C=100, gamma=1, kernel=rbf, score=0.590, total=   5.0s\n",
            "[CV] C=100, gamma=1, kernel=rbf ......................................\n",
            "[CV] .......... C=100, gamma=1, kernel=rbf, score=0.591, total=   4.9s\n",
            "[CV] C=100, gamma=1, kernel=rbf ......................................\n",
            "[CV] .......... C=100, gamma=1, kernel=rbf, score=0.590, total=   5.0s\n",
            "[CV] C=100, gamma=1, kernel=rbf ......................................\n",
            "[CV] .......... C=100, gamma=1, kernel=rbf, score=0.591, total=   5.1s\n",
            "[CV] C=100, gamma=1, kernel=rbf ......................................\n",
            "[CV] .......... C=100, gamma=1, kernel=rbf, score=0.590, total=   5.1s\n",
            "[CV] C=100, gamma=0.1, kernel=rbf ....................................\n",
            "[CV] ........ C=100, gamma=0.1, kernel=rbf, score=0.591, total=   5.0s\n",
            "[CV] C=100, gamma=0.1, kernel=rbf ....................................\n",
            "[CV] ........ C=100, gamma=0.1, kernel=rbf, score=0.590, total=   5.0s\n",
            "[CV] C=100, gamma=0.1, kernel=rbf ....................................\n",
            "[CV] ........ C=100, gamma=0.1, kernel=rbf, score=0.590, total=   5.0s\n",
            "[CV] C=100, gamma=0.1, kernel=rbf ....................................\n",
            "[CV] ........ C=100, gamma=0.1, kernel=rbf, score=0.591, total=   5.0s\n",
            "[CV] C=100, gamma=0.1, kernel=rbf ....................................\n",
            "[CV] ........ C=100, gamma=0.1, kernel=rbf, score=0.591, total=   5.1s\n",
            "[CV] C=100, gamma=0.01, kernel=rbf ...................................\n",
            "[CV] ....... C=100, gamma=0.01, kernel=rbf, score=0.590, total=   5.0s\n",
            "[CV] C=100, gamma=0.01, kernel=rbf ...................................\n",
            "[CV] ....... C=100, gamma=0.01, kernel=rbf, score=0.591, total=   5.0s\n",
            "[CV] C=100, gamma=0.01, kernel=rbf ...................................\n",
            "[CV] ....... C=100, gamma=0.01, kernel=rbf, score=0.591, total=   5.1s\n",
            "[CV] C=100, gamma=0.01, kernel=rbf ...................................\n",
            "[CV] ....... C=100, gamma=0.01, kernel=rbf, score=0.592, total=   5.1s\n",
            "[CV] C=100, gamma=0.01, kernel=rbf ...................................\n",
            "[CV] ....... C=100, gamma=0.01, kernel=rbf, score=0.594, total=   5.0s\n",
            "[CV] C=100, gamma=0.001, kernel=rbf ..................................\n",
            "[CV] ...... C=100, gamma=0.001, kernel=rbf, score=0.591, total=   5.2s\n",
            "[CV] C=100, gamma=0.001, kernel=rbf ..................................\n",
            "[CV] ...... C=100, gamma=0.001, kernel=rbf, score=0.591, total=   5.1s\n",
            "[CV] C=100, gamma=0.001, kernel=rbf ..................................\n",
            "[CV] ...... C=100, gamma=0.001, kernel=rbf, score=0.594, total=   5.1s\n",
            "[CV] C=100, gamma=0.001, kernel=rbf ..................................\n",
            "[CV] ...... C=100, gamma=0.001, kernel=rbf, score=0.595, total=   5.2s\n",
            "[CV] C=100, gamma=0.001, kernel=rbf ..................................\n",
            "[CV] ...... C=100, gamma=0.001, kernel=rbf, score=0.594, total=   5.1s\n",
            "[CV] C=100, gamma=0.0001, kernel=rbf .................................\n",
            "[CV] ..... C=100, gamma=0.0001, kernel=rbf, score=0.594, total=   5.4s\n",
            "[CV] C=100, gamma=0.0001, kernel=rbf .................................\n",
            "[CV] ..... C=100, gamma=0.0001, kernel=rbf, score=0.590, total=   5.2s\n",
            "[CV] C=100, gamma=0.0001, kernel=rbf .................................\n",
            "[CV] ..... C=100, gamma=0.0001, kernel=rbf, score=0.592, total=   5.1s\n",
            "[CV] C=100, gamma=0.0001, kernel=rbf .................................\n",
            "[CV] ..... C=100, gamma=0.0001, kernel=rbf, score=0.595, total=   5.2s\n",
            "[CV] C=100, gamma=0.0001, kernel=rbf .................................\n",
            "[CV] ..... C=100, gamma=0.0001, kernel=rbf, score=0.594, total=   5.4s\n",
            "[CV] C=1000, gamma=1, kernel=rbf .....................................\n",
            "[CV] ......... C=1000, gamma=1, kernel=rbf, score=0.590, total=   5.1s\n",
            "[CV] C=1000, gamma=1, kernel=rbf .....................................\n",
            "[CV] ......... C=1000, gamma=1, kernel=rbf, score=0.591, total=   5.0s\n",
            "[CV] C=1000, gamma=1, kernel=rbf .....................................\n",
            "[CV] ......... C=1000, gamma=1, kernel=rbf, score=0.590, total=   5.0s\n",
            "[CV] C=1000, gamma=1, kernel=rbf .....................................\n",
            "[CV] ......... C=1000, gamma=1, kernel=rbf, score=0.591, total=   5.1s\n",
            "[CV] C=1000, gamma=1, kernel=rbf .....................................\n",
            "[CV] ......... C=1000, gamma=1, kernel=rbf, score=0.590, total=   5.1s\n",
            "[CV] C=1000, gamma=0.1, kernel=rbf ...................................\n",
            "[CV] ....... C=1000, gamma=0.1, kernel=rbf, score=0.591, total=   5.0s\n",
            "[CV] C=1000, gamma=0.1, kernel=rbf ...................................\n",
            "[CV] ....... C=1000, gamma=0.1, kernel=rbf, score=0.590, total=   5.0s\n",
            "[CV] C=1000, gamma=0.1, kernel=rbf ...................................\n",
            "[CV] ....... C=1000, gamma=0.1, kernel=rbf, score=0.590, total=   5.0s\n",
            "[CV] C=1000, gamma=0.1, kernel=rbf ...................................\n",
            "[CV] ....... C=1000, gamma=0.1, kernel=rbf, score=0.591, total=   5.0s\n",
            "[CV] C=1000, gamma=0.1, kernel=rbf ...................................\n",
            "[CV] ....... C=1000, gamma=0.1, kernel=rbf, score=0.591, total=   5.1s\n",
            "[CV] C=1000, gamma=0.01, kernel=rbf ..................................\n",
            "[CV] ...... C=1000, gamma=0.01, kernel=rbf, score=0.590, total=   5.0s\n",
            "[CV] C=1000, gamma=0.01, kernel=rbf ..................................\n",
            "[CV] ...... C=1000, gamma=0.01, kernel=rbf, score=0.591, total=   5.1s\n",
            "[CV] C=1000, gamma=0.01, kernel=rbf ..................................\n",
            "[CV] ...... C=1000, gamma=0.01, kernel=rbf, score=0.591, total=   5.1s\n",
            "[CV] C=1000, gamma=0.01, kernel=rbf ..................................\n",
            "[CV] ...... C=1000, gamma=0.01, kernel=rbf, score=0.592, total=   5.0s\n",
            "[CV] C=1000, gamma=0.01, kernel=rbf ..................................\n",
            "[CV] ...... C=1000, gamma=0.01, kernel=rbf, score=0.594, total=   5.1s\n",
            "[CV] C=1000, gamma=0.001, kernel=rbf .................................\n",
            "[CV] ..... C=1000, gamma=0.001, kernel=rbf, score=0.590, total=   5.2s\n",
            "[CV] C=1000, gamma=0.001, kernel=rbf .................................\n",
            "[CV] ..... C=1000, gamma=0.001, kernel=rbf, score=0.591, total=   5.1s\n",
            "[CV] C=1000, gamma=0.001, kernel=rbf .................................\n",
            "[CV] ..... C=1000, gamma=0.001, kernel=rbf, score=0.594, total=   5.0s\n",
            "[CV] C=1000, gamma=0.001, kernel=rbf .................................\n",
            "[CV] ..... C=1000, gamma=0.001, kernel=rbf, score=0.595, total=   5.0s\n",
            "[CV] C=1000, gamma=0.001, kernel=rbf .................................\n",
            "[CV] ..... C=1000, gamma=0.001, kernel=rbf, score=0.594, total=   5.0s\n",
            "[CV] C=1000, gamma=0.0001, kernel=rbf ................................\n",
            "[CV] .... C=1000, gamma=0.0001, kernel=rbf, score=0.593, total=   5.4s\n",
            "[CV] C=1000, gamma=0.0001, kernel=rbf ................................\n",
            "[CV] .... C=1000, gamma=0.0001, kernel=rbf, score=0.589, total=   5.2s\n",
            "[CV] C=1000, gamma=0.0001, kernel=rbf ................................\n",
            "[CV] .... C=1000, gamma=0.0001, kernel=rbf, score=0.591, total=   5.2s\n",
            "[CV] C=1000, gamma=0.0001, kernel=rbf ................................\n",
            "[CV] .... C=1000, gamma=0.0001, kernel=rbf, score=0.596, total=   5.3s\n",
            "[CV] C=1000, gamma=0.0001, kernel=rbf ................................\n",
            "[CV] .... C=1000, gamma=0.0001, kernel=rbf, score=0.593, total=   6.0s\n"
          ],
          "name": "stdout"
        },
        {
          "output_type": "stream",
          "text": [
            "[Parallel(n_jobs=1)]: Done 125 out of 125 | elapsed: 10.5min finished\n"
          ],
          "name": "stderr"
        },
        {
          "output_type": "stream",
          "text": [
            "{'C': 1, 'gamma': 0.0001, 'kernel': 'rbf'}\n",
            "SVC(C=1, break_ties=False, cache_size=200, class_weight=None, coef0=0.0,\n",
            "    decision_function_shape='ovr', degree=3, gamma=0.0001, kernel='rbf',\n",
            "    max_iter=-1, probability=False, random_state=None, shrinking=True,\n",
            "    tol=0.001, verbose=False)\n"
          ],
          "name": "stdout"
        }
      ]
    },
    {
      "cell_type": "code",
      "metadata": {
        "colab": {
          "base_uri": "https://localhost:8080/"
        },
        "id": "rKh7a4WkAiDA",
        "outputId": "f5bb8377-d85a-4cd8-ee7e-941e1556b138"
      },
      "source": [
        "sv = svm.SVC(C=1, break_ties=False, cache_size=200, class_weight=None, coef0=0.0,\n",
        "    decision_function_shape='ovr', degree=3, gamma=0.0001, kernel='rbf',\n",
        "    max_iter=-1, probability=True, random_state=None, shrinking=True,\n",
        "    tol=0.001, verbose=False)\n",
        "\n",
        "sv.fit(X_train, y_train)\n",
        "\n",
        "pred= sv.predict(X_test)\n",
        "\n",
        "print(classification_report(y_test, pred))"
      ],
      "execution_count": 147,
      "outputs": [
        {
          "output_type": "stream",
          "text": [
            "              precision    recall  f1-score   support\n",
            "\n",
            "         0.0       0.60      1.00      0.75       407\n",
            "         1.0       0.67      0.01      0.03       278\n",
            "\n",
            "    accuracy                           0.60       685\n",
            "   macro avg       0.63      0.50      0.39       685\n",
            "weighted avg       0.62      0.60      0.45       685\n",
            "\n"
          ],
          "name": "stdout"
        }
      ]
    },
    {
      "cell_type": "markdown",
      "metadata": {
        "id": "4GVN-rHL9Sik"
      },
      "source": [
        "**(4)K-NN model**"
      ]
    },
    {
      "cell_type": "code",
      "metadata": {
        "id": "cHgvgUzp9RfV"
      },
      "source": [
        "from sklearn.neighbors import KNeighborsClassifier\n",
        "from sklearn.model_selection import train_test_split\n",
        "\n",
        "training_accuracy = []\n",
        "test_accuracy = []\n",
        "neighbors_settings = range(1, 30)\n",
        "\n",
        "for n_neighbors in neighbors_settings:\n",
        "    clf = KNeighborsClassifier(n_neighbors=n_neighbors)\n",
        "    clf.fit(X_train, y_train)\n",
        "    training_accuracy.append(clf.score(X_train, y_train))\n",
        "    test_accuracy.append(clf.score(X_test, y_test))"
      ],
      "execution_count": 149,
      "outputs": []
    },
    {
      "cell_type": "code",
      "metadata": {
        "id": "GzmdfX-p9iZ1",
        "colab": {
          "base_uri": "https://localhost:8080/"
        },
        "outputId": "fdb49803-06f1-4e6e-b458-702b3b944bec"
      },
      "source": [
        "test_accuracy"
      ],
      "execution_count": 150,
      "outputs": [
        {
          "output_type": "execute_result",
          "data": {
            "text/plain": [
              "[0.5737226277372263,\n",
              " 0.5722627737226277,\n",
              " 0.5708029197080292,\n",
              " 0.5664233576642336,\n",
              " 0.5605839416058395,\n",
              " 0.583941605839416,\n",
              " 0.564963503649635,\n",
              " 0.5751824817518248,\n",
              " 0.564963503649635,\n",
              " 0.5664233576642336,\n",
              " 0.5664233576642336,\n",
              " 0.5635036496350365,\n",
              " 0.5547445255474452,\n",
              " 0.5766423357664233,\n",
              " 0.5693430656934306,\n",
              " 0.5664233576642336,\n",
              " 0.5605839416058395,\n",
              " 0.5708029197080292,\n",
              " 0.5708029197080292,\n",
              " 0.5795620437956205,\n",
              " 0.581021897810219,\n",
              " 0.5664233576642336,\n",
              " 0.5678832116788322,\n",
              " 0.5678832116788322,\n",
              " 0.5620437956204379,\n",
              " 0.5562043795620438,\n",
              " 0.5562043795620438,\n",
              " 0.5591240875912409,\n",
              " 0.5678832116788322]"
            ]
          },
          "metadata": {
            "tags": []
          },
          "execution_count": 150
        }
      ]
    },
    {
      "cell_type": "code",
      "metadata": {
        "id": "rJ4Q6DOr9mnT",
        "colab": {
          "base_uri": "https://localhost:8080/"
        },
        "outputId": "0a8c54d6-9725-4c41-97a6-cd524c763e5e"
      },
      "source": [
        "test_accuracy .index(max(test_accuracy ))"
      ],
      "execution_count": 151,
      "outputs": [
        {
          "output_type": "execute_result",
          "data": {
            "text/plain": [
              "5"
            ]
          },
          "metadata": {
            "tags": []
          },
          "execution_count": 151
        }
      ]
    },
    {
      "cell_type": "code",
      "metadata": {
        "colab": {
          "base_uri": "https://localhost:8080/"
        },
        "id": "bC3RE7EaUWOd",
        "outputId": "ab7a53a7-7766-46ce-afbb-33fef140e3ae"
      },
      "source": [
        "clf = KNeighborsClassifier(n_neighbors=6)\r\n",
        "clf.fit(X_train, y_train)\r\n",
        "knn_acc =clf.score(X_test, y_test)\r\n",
        "print(knn_acc)"
      ],
      "execution_count": 156,
      "outputs": [
        {
          "output_type": "stream",
          "text": [
            "0.583941605839416\n"
          ],
          "name": "stdout"
        }
      ]
    },
    {
      "cell_type": "markdown",
      "metadata": {
        "id": "8z57Iyq3GLwS"
      },
      "source": [
        "When the value of neighbor is 6, this model have best accuracy with 0.5839"
      ]
    },
    {
      "cell_type": "markdown",
      "metadata": {
        "id": "7HP7Avq4UHku"
      },
      "source": [
        "#5.Model ensemble"
      ]
    },
    {
      "cell_type": "code",
      "metadata": {
        "id": "AIHxm-MkksFP"
      },
      "source": [
        "cnn_model = load_model('/content/gdrive/My Drive/AI Lecture/best_cnn.h5')\n",
        "lstm_model = load_model('/content/gdrive/My Drive/AI Lecture/best_lstm.hdf5')"
      ],
      "execution_count": 157,
      "outputs": []
    },
    {
      "cell_type": "markdown",
      "metadata": {
        "id": "HtcPomtR02IR"
      },
      "source": [
        "**Majority voting ensemble** (hard voting) \n",
        "\n",
        " -> Does not perform any better"
      ]
    },
    {
      "cell_type": "code",
      "metadata": {
        "id": "Mrhz7_H5uCrn"
      },
      "source": [
        "def get_pred(model):\n",
        "  pred_prob = saved_model.predict(X_test)\n",
        "  pred_prob = pred_prob[:, 0]\n",
        "  pred_class = []\n",
        "  for i in pred_prob:\n",
        "    if i>=0.5:\n",
        "      pred_class.append(1)\n",
        "    else:\n",
        "      pred_class.append(0)\n",
        "  return pred_class"
      ],
      "execution_count": 207,
      "outputs": []
    },
    {
      "cell_type": "code",
      "metadata": {
        "id": "8btpiWH7uZJF"
      },
      "source": [
        "cnn_pred_class = get_pred(cnn_model)\n",
        "lstm_pred_class = get_pred(lstm_model)\n",
        "knn_pred_class = clf.predict(X_test)\n",
        "sv_pred_class = sv.predict(X_test)"
      ],
      "execution_count": 208,
      "outputs": []
    },
    {
      "cell_type": "code",
      "metadata": {
        "id": "86tBOX9Zu3aX"
      },
      "source": [
        "#hard voting\n",
        "final_pred = []\n",
        "for i in range(len(X_test)):\n",
        "  this_t = [int(cnn_pred_class[i]), int(lstm_pred_class[i]), int(knn_pred_class[i]), int(sv_pred_class[i])]\n",
        "  try:\n",
        "    p = mode(this_t)\n",
        "  except:\n",
        "    p = this_t[0]\n",
        "  final_pred.append(p)"
      ],
      "execution_count": 209,
      "outputs": []
    },
    {
      "cell_type": "code",
      "metadata": {
        "colab": {
          "base_uri": "https://localhost:8080/"
        },
        "id": "KXyb11B7zo0r",
        "outputId": "4e62bc75-f315-473f-9659-eafa26bda2c0"
      },
      "source": [
        "accuracy = accuracy_score(y_test,final_pred)\n",
        "print('Accuracy: %f' % accuracy)\n",
        "\n",
        "precision = precision_score(y_test, final_pred)\n",
        "print('Precision: %f' % precision)\n",
        "\n",
        "recall = recall_score(y_test,final_pred)\n",
        "print('Recall: %f' % recall)\n",
        "\n",
        "f1 = f1_score(y_test,final_pred)\n",
        "print('F1 score: %f' % f1)"
      ],
      "execution_count": 210,
      "outputs": [
        {
          "output_type": "stream",
          "text": [
            "Accuracy: 0.801460\n",
            "Precision: 0.786290\n",
            "Recall: 0.701439\n",
            "F1 score: 0.741445\n"
          ],
          "name": "stdout"
        }
      ]
    },
    {
      "cell_type": "markdown",
      "metadata": {
        "id": "iwORa1Q106Hl"
      },
      "source": [
        "**Weighted average ensemble**"
      ]
    },
    {
      "cell_type": "markdown",
      "metadata": {
        "id": "MBfjN08k2z-q"
      },
      "source": [
        "1.   Weighted average : 0.3, 0.3, 0.2, 0.2\r\n",
        "\r\n",
        "*   Accuracy: 0.877677\r\n",
        "*   Precision: 0.906006\r\n",
        "*   Recall: 0.782574\r\n",
        "*   F1 score: 0.839779\r\n",
        "\r\n",
        "2.   Weighted average : 0.4, 0.4, 0.1, 0.1\r\n",
        "\r\n",
        "*   Accuracy: 0.846690\r\n",
        "*   Precision: 0.865402\r\n",
        "*   Recall: 0.740990\r\n",
        "*   F1 score: 0.798378\r\n",
        "\r\n"
      ]
    },
    {
      "cell_type": "code",
      "metadata": {
        "id": "GSgvqnKM2XcV"
      },
      "source": [
        "def weight_av(X):\n",
        "  cnn_pred = cnn_model.predict(X)\n",
        "  lstm_pred = lstm_model.predict(X)\n",
        "  knn_pred = clf.predict_proba(X)\n",
        "  sv_pred = sv.predict_proba(X)\n",
        "\n",
        "  knn_p = [i[1] for i in knn_pred]\n",
        "  sv_p = [i[1] for i in sv_pred]\n",
        "\n",
        "  final_p = []\n",
        "  for i in range(len(X)):\n",
        "    this_t = [cnn_pred[i], lstm_pred[i], knn_p[i], sv_p[i]]\n",
        "    p = this_t[0]*0.3 + this_t[1]*0.3 + this_t[2]*0.2 + this_t[3]*0.2\n",
        "    if p>=0.5:\n",
        "      final_p.append(1)\n",
        "    else:\n",
        "      final_p.append(0)\n",
        "  return final_p"
      ],
      "execution_count": 247,
      "outputs": []
    },
    {
      "cell_type": "code",
      "metadata": {
        "id": "YyYE0Ei1gWjR"
      },
      "source": [
        "final_p = weight_av(X_train)"
      ],
      "execution_count": 303,
      "outputs": []
    },
    {
      "cell_type": "code",
      "metadata": {
        "colab": {
          "base_uri": "https://localhost:8080/"
        },
        "id": "xKSJ-3HwgadJ",
        "outputId": "d7f3f881-8a0d-4594-990b-6f82ed7d4d48"
      },
      "source": [
        "accuracy = accuracy_score(y_train, final_p)\r\n",
        "print('Accuracy: %f' % accuracy)\r\n",
        "\r\n",
        "precision = precision_score(y_train, final_p)\r\n",
        "print('Precision: %f' % precision)\r\n",
        "\r\n",
        "recall = recall_score(y_train,final_p)\r\n",
        "print('Recall: %f' % recall)\r\n",
        "\r\n",
        "f1 = f1_score(y_train, final_p)\r\n",
        "print('F1 score: %f' % f1)"
      ],
      "execution_count": 265,
      "outputs": [
        {
          "output_type": "stream",
          "text": [
            "Accuracy: 0.877677\n",
            "Precision: 0.906006\n",
            "Recall: 0.782574\n",
            "F1 score: 0.839779\n"
          ],
          "name": "stdout"
        }
      ]
    },
    {
      "cell_type": "code",
      "metadata": {
        "id": "IdgjCt1rXlvt"
      },
      "source": [
        "final_p = weight_av(X_test)"
      ],
      "execution_count": 312,
      "outputs": []
    },
    {
      "cell_type": "code",
      "metadata": {
        "colab": {
          "base_uri": "https://localhost:8080/"
        },
        "id": "n1yrvr1KWgZz",
        "outputId": "326af6d0-c832-4e01-ae89-3547fab1b7cc"
      },
      "source": [
        "accuracy = accuracy_score(y_test, final_p)\r\n",
        "print('Accuracy: %f' % accuracy)\r\n",
        "\r\n",
        "precision = precision_score(y_test, final_p)\r\n",
        "print('Precision: %f' % precision)\r\n",
        "\r\n",
        "recall = recall_score(y_test,final_p)\r\n",
        "print('Recall: %f' % recall)\r\n",
        "\r\n",
        "f1 = f1_score(y_test, final_p)\r\n",
        "print('F1 score: %f' % f1)"
      ],
      "execution_count": 298,
      "outputs": [
        {
          "output_type": "stream",
          "text": [
            "Accuracy: 0.807299\n",
            "Precision: 0.823009\n",
            "Recall: 0.669065\n",
            "F1 score: 0.738095\n"
          ],
          "name": "stdout"
        }
      ]
    },
    {
      "cell_type": "markdown",
      "metadata": {
        "id": "LAMi2z_HA1eg"
      },
      "source": [
        "**Use keyword column**"
      ]
    },
    {
      "cell_type": "code",
      "metadata": {
        "colab": {
          "base_uri": "https://localhost:8080/",
          "height": 378
        },
        "id": "U94y7vCkCwKD",
        "outputId": "9e33a29b-37c7-44d7-ec3e-b0164454cd21"
      },
      "source": [
        "train_data = train_data.fillna('None')\r\n",
        "ag = train_data.groupby('keyword').agg({'text':np.size, 'target':np.mean}).rename(columns={'text':'Count', 'target':'Disaster Probability'})\r\n",
        "ag.sort_values('Disaster Probability', ascending=False).head(10)"
      ],
      "execution_count": 190,
      "outputs": [
        {
          "output_type": "execute_result",
          "data": {
            "text/html": [
              "<div>\n",
              "<style scoped>\n",
              "    .dataframe tbody tr th:only-of-type {\n",
              "        vertical-align: middle;\n",
              "    }\n",
              "\n",
              "    .dataframe tbody tr th {\n",
              "        vertical-align: top;\n",
              "    }\n",
              "\n",
              "    .dataframe thead th {\n",
              "        text-align: right;\n",
              "    }\n",
              "</style>\n",
              "<table border=\"1\" class=\"dataframe\">\n",
              "  <thead>\n",
              "    <tr style=\"text-align: right;\">\n",
              "      <th></th>\n",
              "      <th>Count</th>\n",
              "      <th>Disaster Probability</th>\n",
              "    </tr>\n",
              "    <tr>\n",
              "      <th>keyword</th>\n",
              "      <th></th>\n",
              "      <th></th>\n",
              "    </tr>\n",
              "  </thead>\n",
              "  <tbody>\n",
              "    <tr>\n",
              "      <th>debris</th>\n",
              "      <td>31</td>\n",
              "      <td>1.000000</td>\n",
              "    </tr>\n",
              "    <tr>\n",
              "      <th>derailment</th>\n",
              "      <td>29</td>\n",
              "      <td>1.000000</td>\n",
              "    </tr>\n",
              "    <tr>\n",
              "      <th>wreckage</th>\n",
              "      <td>15</td>\n",
              "      <td>1.000000</td>\n",
              "    </tr>\n",
              "    <tr>\n",
              "      <th>suicide%20bombing</th>\n",
              "      <td>29</td>\n",
              "      <td>0.965517</td>\n",
              "    </tr>\n",
              "    <tr>\n",
              "      <th>suicide%20bomber</th>\n",
              "      <td>26</td>\n",
              "      <td>0.961538</td>\n",
              "    </tr>\n",
              "    <tr>\n",
              "      <th>oil%20spill</th>\n",
              "      <td>24</td>\n",
              "      <td>0.958333</td>\n",
              "    </tr>\n",
              "    <tr>\n",
              "      <th>typhoon</th>\n",
              "      <td>22</td>\n",
              "      <td>0.954545</td>\n",
              "    </tr>\n",
              "    <tr>\n",
              "      <th>outbreak</th>\n",
              "      <td>20</td>\n",
              "      <td>0.950000</td>\n",
              "    </tr>\n",
              "    <tr>\n",
              "      <th>bombing</th>\n",
              "      <td>23</td>\n",
              "      <td>0.913043</td>\n",
              "    </tr>\n",
              "    <tr>\n",
              "      <th>evacuated</th>\n",
              "      <td>34</td>\n",
              "      <td>0.911765</td>\n",
              "    </tr>\n",
              "  </tbody>\n",
              "</table>\n",
              "</div>"
            ],
            "text/plain": [
              "                   Count  Disaster Probability\n",
              "keyword                                       \n",
              "debris                31              1.000000\n",
              "derailment            29              1.000000\n",
              "wreckage              15              1.000000\n",
              "suicide%20bombing     29              0.965517\n",
              "suicide%20bomber      26              0.961538\n",
              "oil%20spill           24              0.958333\n",
              "typhoon               22              0.954545\n",
              "outbreak              20              0.950000\n",
              "bombing               23              0.913043\n",
              "evacuated             34              0.911765"
            ]
          },
          "metadata": {
            "tags": []
          },
          "execution_count": 190
        }
      ]
    },
    {
      "cell_type": "code",
      "metadata": {
        "id": "pKPCUf5ICdfn"
      },
      "source": [
        "disaster = list(ag[(ag['Count']>2) & (ag['Disaster Probability']>=0.9)].index)"
      ],
      "execution_count": 204,
      "outputs": []
    },
    {
      "cell_type": "code",
      "metadata": {
        "colab": {
          "base_uri": "https://localhost:8080/"
        },
        "id": "640YGhjsaWiH",
        "outputId": "fbe7f756-50e1-4efc-fa42-35acd4463e1f"
      },
      "source": [
        "disaster"
      ],
      "execution_count": 216,
      "outputs": [
        {
          "output_type": "execute_result",
          "data": {
            "text/plain": [
              "['bombing',\n",
              " 'debris',\n",
              " 'derailment',\n",
              " 'evacuated',\n",
              " 'nuclear%20disaster',\n",
              " 'oil%20spill',\n",
              " 'outbreak',\n",
              " 'suicide%20bomber',\n",
              " 'suicide%20bombing',\n",
              " 'typhoon',\n",
              " 'wreckage']"
            ]
          },
          "metadata": {
            "tags": []
          },
          "execution_count": 216
        }
      ]
    },
    {
      "cell_type": "code",
      "metadata": {
        "id": "iYoS7D6MA8s6"
      },
      "source": [
        "def use_key(data, pred):\r\n",
        "  cn=0\r\n",
        "  for i in range(len(data)):\r\n",
        "    ind = train_data[train_data['text']==data[i]].index.values\r\n",
        "    this_k = train_data['keyword'][ind].item()\r\n",
        "    if this_k in disaster:\r\n",
        "      pred[i] = 1\r\n",
        "      cn+=1\r\n",
        "  print(cn)\r\n",
        "  return pred"
      ],
      "execution_count": 299,
      "outputs": []
    },
    {
      "cell_type": "code",
      "metadata": {
        "id": "qdRADMo3a2FB"
      },
      "source": [
        "X_train_w,X_test_w,y_train_w,y_test_w=train_test_split(train,Y,test_size=0.10, random_state=42)"
      ],
      "execution_count": 228,
      "outputs": []
    },
    {
      "cell_type": "code",
      "metadata": {
        "colab": {
          "base_uri": "https://localhost:8080/"
        },
        "id": "LI1HYKTzagGP",
        "outputId": "2c08151c-a990-4e4c-c21f-221e57bc3a77"
      },
      "source": [
        "new_final = use_key(X_test_w, final_p)"
      ],
      "execution_count": 313,
      "outputs": [
        {
          "output_type": "stream",
          "text": [
            "21\n"
          ],
          "name": "stdout"
        }
      ]
    },
    {
      "cell_type": "code",
      "metadata": {
        "colab": {
          "base_uri": "https://localhost:8080/"
        },
        "id": "66myAQeEe9an",
        "outputId": "03353944-c5ef-4083-af25-8904947e9b50"
      },
      "source": [
        "accuracy = accuracy_score(y_test, new_final)\r\n",
        "print('Accuracy: %f' % accuracy)\r\n",
        "\r\n",
        "precision = precision_score(y_test, new_final)\r\n",
        "print('Precision: %f' % precision)\r\n",
        "\r\n",
        "recall = recall_score(y_test,new_final)\r\n",
        "print('Recall: %f' % recall)\r\n",
        "\r\n",
        "f1 = f1_score(y_test, new_final)\r\n",
        "print('F1 score: %f' % f1)"
      ],
      "execution_count": 314,
      "outputs": [
        {
          "output_type": "stream",
          "text": [
            "Accuracy: 0.805839\n",
            "Precision: 0.819383\n",
            "Recall: 0.669065\n",
            "F1 score: 0.736634\n"
          ],
          "name": "stdout"
        }
      ]
    },
    {
      "cell_type": "markdown",
      "metadata": {
        "id": "qg0IBEi0kyfU"
      },
      "source": [
        "Accuracy decreases as we adjust keyword on the test set, while it slightly increases on train set.\r\n",
        "\r\n",
        "\r\n",
        "1.   Train data\r\n",
        "\r\n",
        "(without keyword)\r\n",
        "\r\n",
        "Accuracy: 0.877677\r\n",
        "Precision: 0.906006\r\n",
        "Recall: 0.782574\r\n",
        "F1 score: 0.839779\r\n",
        "\r\n",
        "(adjusting keyword)\r\n",
        "\r\n",
        "Accuracy: 0.878164\r\n",
        "Precision: 0.903182\r\n",
        "Recall: 0.786931\r\n",
        "F1 score: 0.841058\r\n",
        "\r\n",
        "2. Test data\r\n",
        "\r\n",
        "(without keyword)\r\n",
        "\r\n",
        "Accuracy: 0.807299\r\n",
        "Precision: 0.823009\r\n",
        "Recall: 0.669065\r\n",
        "F1 score: 0.738095\r\n",
        "\r\n",
        "(Adjusting keyword)\r\n",
        "\r\n",
        "Accuracy: 0.805839\r\n",
        "Precision: 0.819383\r\n",
        "Recall: 0.669065\r\n",
        "F1 score: 0.736634\r\n",
        "\r\n",
        "Meaning that using keyword information might be good on large dataset. However, the change is subtle and our test data is small. We will not adjust keyword data in current evaluation.\r\n"
      ]
    },
    {
      "cell_type": "markdown",
      "metadata": {
        "id": "4u_rN-vdZ0uv"
      },
      "source": [
        "**Result**\r\n",
        "\r\n",
        "\r\n",
        "Evaluation on test data\r\n",
        "\r\n",
        "\r\n",
        "*   Accuracy: 0.807299\r\n",
        "*   Precision: 0.823009\r\n",
        "*   Recall: 0.669065\r\n",
        "*   F1 score: 0.738095\r\n",
        "\r\n",
        "\r\n",
        "\r\n",
        "\r\n",
        "![image.png](data:image/png;base64,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)\r\n",
        "\r\n",
        "\r\n",
        "\r\n",
        "\r\n",
        "\r\n"
      ]
    },
    {
      "cell_type": "markdown",
      "metadata": {
        "id": "gmnlRUIU-PPS"
      },
      "source": [
        "# Submit for kaggle"
      ]
    },
    {
      "cell_type": "code",
      "metadata": {
        "colab": {
          "base_uri": "https://localhost:8080/"
        },
        "id": "Cld9eo1E-OCG",
        "outputId": "98da0bf3-ae77-4685-a1c2-6763cf86dd2f"
      },
      "source": [
        "from keras.preprocessing.text import Tokenizer\n",
        "maxlen = 100\n",
        "max_words = 10000\n",
        "\n",
        "tokenizer=Tokenizer(num_words=max_words)\n",
        "tokenizer.fit_on_texts(test)\n",
        "sequences = tokenizer.texts_to_sequences(test)\n",
        "word_index = tokenizer.word_index\n",
        "print('Found %s unique tokens.' % len(word_index))"
      ],
      "execution_count": null,
      "outputs": [
        {
          "output_type": "stream",
          "text": [
            "Found 7578 unique tokens.\n"
          ],
          "name": "stdout"
        }
      ]
    },
    {
      "cell_type": "code",
      "metadata": {
        "colab": {
          "base_uri": "https://localhost:8080/"
        },
        "id": "ptKD2BqN-hcS",
        "outputId": "feb2e90e-eb15-4089-c85c-a29c173415b4"
      },
      "source": [
        "glove_dir = '/content/gdrive/My Drive/AI Lecture/'\n",
        "embeddings_index = {}\n",
        "f = open(os.path.join(glove_dir, 'glove.6B.100d.txt'))\n",
        "for line in f:\n",
        "  values = line.split()\n",
        "  word = values[0]\n",
        "  coefs = np.asarray(values[1:], dtype='float32')\n",
        "  embeddings_index[word] = coefs\n",
        "f.close()\n",
        "\n",
        "print('Found %s word vectors.' % len(embeddings_index))\n",
        "\n",
        "# preparing the GloVe word-embeddings matrix\n",
        "embedding_dim = 100\n",
        "embedding_matrix = np.zeros((max_words, embedding_dim))\n",
        "for word, i in word_index.items():\n",
        "  embedding_vector = embeddings_index.get(word)\n",
        "  if i < max_words:\n",
        "    if embedding_vector is not None:\n",
        "      embedding_matrix[i] = embedding_vector"
      ],
      "execution_count": null,
      "outputs": [
        {
          "output_type": "stream",
          "text": [
            "Found 400000 word vectors.\n"
          ],
          "name": "stdout"
        }
      ]
    },
    {
      "cell_type": "code",
      "metadata": {
        "id": "M_Ac2CUw-t3G"
      },
      "source": [
        "sample_x = pad_sequences(sequences,maxlen=maxlen,truncating='post',padding='post')"
      ],
      "execution_count": null,
      "outputs": []
    },
    {
      "cell_type": "code",
      "metadata": {
        "colab": {
          "base_uri": "https://localhost:8080/"
        },
        "id": "OuvbUdO2BML4",
        "outputId": "77c95d51-c80d-4219-c752-9c5ab3a4130b"
      },
      "source": [
        "len(sample_x)"
      ],
      "execution_count": null,
      "outputs": [
        {
          "output_type": "execute_result",
          "data": {
            "text/plain": [
              "3263"
            ]
          },
          "metadata": {
            "tags": []
          },
          "execution_count": 197
        }
      ]
    },
    {
      "cell_type": "code",
      "metadata": {
        "id": "nFc830p6_Bwf"
      },
      "source": [
        "cnn_pred = cnn_model.predict(sample_x)\n",
        "lstm_pred = lstm_model.predict(sample_x)\n",
        "knn_pred = kn.predict_proba(sample_x)\n",
        "sv_pred = sv.predict_proba(sample_x)"
      ],
      "execution_count": null,
      "outputs": []
    },
    {
      "cell_type": "code",
      "metadata": {
        "id": "UkTzBSvC_EY0"
      },
      "source": [
        "knn_p = [i[1] for i in knn_pred]\n",
        "sv_p = [i[1] for i in sv_pred]"
      ],
      "execution_count": null,
      "outputs": []
    },
    {
      "cell_type": "code",
      "metadata": {
        "id": "bewRYZrd_GVc"
      },
      "source": [
        "y = []\n",
        "for i in range(len(sample_x)):\n",
        "  this_t = [cnn_pred[i], lstm_pred[i], knn_p[i], sv_p[i]]\n",
        "  p = this_t[0]*0.3 + this_t[1]*0.3 + this_t[2]*0.2 + this_t[3]*0.2\n",
        "  if p>=0.5:\n",
        "    y.append(1)\n",
        "  else:\n",
        "    y.append(0)"
      ],
      "execution_count": null,
      "outputs": []
    },
    {
      "cell_type": "code",
      "metadata": {
        "id": "3jd8nr3n_X1d"
      },
      "source": [
        "import pandas as pd\n",
        "\n",
        "y=np.round(y).astype(int).reshape(3263)\n",
        "sub=pd.DataFrame({'id':test_data['id'].values.tolist(),'target':y})\n",
        "sub.to_csv('/content/gdrive/My Drive/AI Lecture/kaggle_nlp_submission.csv',index=False)"
      ],
      "execution_count": null,
      "outputs": []
    },
    {
      "cell_type": "markdown",
      "metadata": {
        "id": "0F5u6Od6sOco"
      },
      "source": [
        "# Plotting model data"
      ]
    },
    {
      "cell_type": "markdown",
      "metadata": {
        "id": "z20E5xRY8pC3"
      },
      "source": [
        "model architecture"
      ]
    },
    {
      "cell_type": "code",
      "metadata": {
        "id": "aoLIrxmtr-PS"
      },
      "source": [
        "plot_model(model, to_file='model.png')"
      ],
      "execution_count": null,
      "outputs": []
    },
    {
      "cell_type": "markdown",
      "metadata": {
        "id": "xhimaspA8rmh"
      },
      "source": [
        "validation data/ train data graph"
      ]
    },
    {
      "cell_type": "code",
      "metadata": {
        "colab": {
          "base_uri": "https://localhost:8080/",
          "height": 545
        },
        "id": "DH29izris1M8",
        "outputId": "2df2ec65-86a0-4520-cfca-28d6a262527a"
      },
      "source": [
        "\n",
        "acc = history.history['accuracy']\n",
        "val_acc =history.history['val_accuracy']\n",
        "loss = history.history['loss']\n",
        "val_loss =  history.history['val_loss']\n",
        "\n",
        "epochs  = range(1,len(acc)+1)\n",
        "\n",
        "plt.plot(epochs, acc, 'bo', label='Training acc')\n",
        "plt.plot(epochs, val_acc, 'b', label='validation acc')\n",
        "plt.title(\"Training and validation accuracy\")\n",
        "plt.legend()\n",
        "\n",
        "plt.figure()\n",
        "\n",
        "plt.plot(epochs, loss, 'bo', label='Training loss')\n",
        "plt.plot(epochs, val_loss, 'b', label='validation loss')\n",
        "plt.title(\"Training and validation loss\")\n",
        "plt.legend()\n",
        "\n",
        "plt.show()"
      ],
      "execution_count": 136,
      "outputs": [
        {
          "output_type": "display_data",
          "data": {
            "image/png": "[encoded data removed]",
            "text/plain": [
              "<Figure size 432x288 with 1 Axes>"
            ]
          },
          "metadata": {
            "tags": [],
            "needs_background": "light"
          }
        },
        {
          "output_type": "display_data",
          "data": {
            "image/png": "[encoded data removed]",
            "text/plain": [
              "<Figure size 432x288 with 1 Axes>"
            ]
          },
          "metadata": {
            "tags": [],
            "needs_background": "light"
          }
        }
      ]
    },
    {
      "cell_type": "markdown",
      "metadata": {
        "id": "rSvDDuso8lok"
      },
      "source": [
        "Confusion Matrix"
      ]
    },
    {
      "cell_type": "code",
      "metadata": {
        "colab": {
          "base_uri": "https://localhost:8080/"
        },
        "id": "gZG9riiM7Zie",
        "outputId": "cf06d366-48e2-4fc9-a8fd-80ec7a6d1002"
      },
      "source": [
        "from sklearn.metrics import confusion_matrix\n",
        "\n",
        "cf = confusion_matrix(y_test,final_p)\n",
        "cf"
      ],
      "execution_count": 197,
      "outputs": [
        {
          "output_type": "execute_result",
          "data": {
            "text/plain": [
              "array([[367,  40],\n",
              "       [ 92, 186]])"
            ]
          },
          "metadata": {
            "tags": []
          },
          "execution_count": 197
        }
      ]
    },
    {
      "cell_type": "code",
      "metadata": {
        "colab": {
          "base_uri": "https://localhost:8080/",
          "height": 295
        },
        "id": "WcWQeyQ07Npd",
        "outputId": "7f5af40a-df4a-4b86-cb44-8ebbad13477b"
      },
      "source": [
        "import itertools\n",
        "plt.imshow(cf,cmap=plt.cm.Blues,interpolation='nearest')\n",
        "plt.colorbar()\n",
        "plt.title('Confusion Matrix without Normalization')\n",
        "plt.xlabel('Predicted')\n",
        "plt.ylabel('Actual')\n",
        "tick_marks = np.arange(len(set(final_p)))\n",
        "class_labels = ['0','1']\n",
        "tick_marks\n",
        "plt.xticks(tick_marks,class_labels)\n",
        "plt.yticks(tick_marks,class_labels)\n",
        "# plotting text value inside cells\n",
        "thresh = cf.max() / 2.\n",
        "for i,j in itertools.product(range(cf.shape[0]),range(cf.shape[1])):\n",
        "    plt.text(j,i,format(cf[i,j],'d'),horizontalalignment='center',color='white' if cf[i,j] >thresh else 'black')\n",
        "plt.show();"
      ],
      "execution_count": 198,
      "outputs": [
        {
          "output_type": "display_data",
          "data": {
            "image/png": "[encoded data removed]",
            "text/plain": [
              "<Figure size 432x288 with 2 Axes>"
            ]
          },
          "metadata": {
            "tags": [],
            "needs_background": "light"
          }
        }
      ]
    },
    {
      "cell_type": "markdown",
      "metadata": {
        "id": "ybWOVMqFltDf"
      },
      "source": [
        "**Score**"
      ]
    },
    {
      "cell_type": "code",
      "metadata": {
        "id": "OEx2jAFllr_w"
      },
      "source": [
        "pred_prob = saved_model.predict(X_test)\n",
        "pred_prob = pred_prob[:, 0]\n",
        "pred_class = []\n",
        "for i in pred_prob:\n",
        "  if i>=0.5:\n",
        "    pred_class.append(1)\n",
        "  else:\n",
        "    pred_class.append(0)"
      ],
      "execution_count": 137,
      "outputs": []
    },
    {
      "cell_type": "code",
      "metadata": {
        "colab": {
          "base_uri": "https://localhost:8080/"
        },
        "id": "nq08deqMp4k0",
        "outputId": "8b7c7782-da16-4750-bcc7-663beea3e24e"
      },
      "source": [
        "accuracy = accuracy_score(y_test, pred_class)\n",
        "print('Accuracy: %f' % accuracy)\n",
        "\n",
        "precision = precision_score(y_test, pred_class)\n",
        "print('Precision: %f' % precision)\n",
        "\n",
        "recall = recall_score(y_test, pred_class)\n",
        "print('Recall: %f' % recall)\n",
        "\n",
        "f1 = f1_score(y_test, pred_class)\n",
        "print('F1 score: %f' % f1)"
      ],
      "execution_count": 138,
      "outputs": [
        {
          "output_type": "stream",
          "text": [
            "Accuracy: 0.801460\n",
            "Precision: 0.786290\n",
            "Recall: 0.701439\n",
            "F1 score: 0.741445\n"
          ],
          "name": "stdout"
        }
      ]
    },
    {
      "cell_type": "markdown",
      "metadata": {
        "id": "yen7kPPuVEF3"
      },
      "source": [
        "# Trouble Shooting"
      ]
    },
    {
      "cell_type": "markdown",
      "metadata": {
        "id": "ggakPpjrVIcv"
      },
      "source": [
        "![image.png](data:image/png;base64,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)"
      ]
    },
    {
      "cell_type": "markdown",
      "metadata": {
        "id": "MeLVRkEmVt-u"
      },
      "source": [
        "When we make cleaning texts, there are many duplications.\r\n",
        "\r\n",
        "So we think some ways for deaing with this problem\r\n",
        "\r\n",
        "1. When get rid of stopwords, Decrease the range of stopwords\r\n",
        "\r\n",
        "2. After get rid of stop words, we get rid of those duplication sentences"
      ]
    },
    {
      "cell_type": "markdown",
      "metadata": {
        "id": "SbNarmzbWfBr"
      },
      "source": [
        "First we chooese first way. When get rid of stopwords, Decrease the range of stopwords"
      ]
    },
    {
      "cell_type": "markdown",
      "metadata": {
        "id": "jHlrQrszWp4Z"
      },
      "source": [
        "![image.png](data:image/png;base64,iVBORw0KGgoAAAANSUhEUgAAAmoAAAF/CAYAAAD5IeXKAAAgAElEQVR4Ae2915cUR7qvff6nuddcj/bl6FztNaOzZ77ZZyTNyAwjAzIIaRAyGOG9cEIY4b33COE9CNOY7gYaYQTCm0186xdzklVkR3ZkZldkRRVPrlXdVVlRkVG/9814n3wjIut/GTYUQAEUQAEUQAEUQIEoFfhfUbaKRqEACqAACqAACqAAChhADSdAARRAARRAARRAgUgVANQiNQzNQgEUQAEUQAEUQAFADR9AARRAARRAARRAgUgVANQiNQzNQgEUQAEUQAEUQAFADR9AARRAARRAARRAgUgVANQiNQzNQgEUQAEUQAEUQAFADR9AARRAARRAARRAgUgVANQiNQzNQgEUQAEUQAEUQAFADR9AARRAARRAARRAgUgVANQiNQzNQgEUQAEUQAEUQAFADR9AARRAARRAARRAgUgVANQiNQzNQgEUQAEUQAEUQAFADR9AARRAARRAARRAgUgVANQiNQzNQgEUQAEUQAEUQAFADR9AARRAARRAARRAgUgVANQiNQzNQgEUQAEUQAEUQAFADR9AARRAARRAARRAgUgVANQiNQzNQgEUQAEUQAEUQAFADR9AARRAARRAARRAgUgVANQiNQzNQgEUQAEUQAEUQAFADR9AARRAARRAARRAgUgVANQiNQzNQgEUQAEUQAEUQAFADR9AARRAARRAARRAgUgVANQiNQzNQgEUQAEUQAEUQAFADR9AARRAARRAARRAgUgVaFpQ+5//+R/T1dVlTp8+bU6ePGkuXLjwjMR379617+u9U6dOmc7OTnPr1i1b5smTJ+batWvm7Nmz9r3z58+b27dvG9Wp7cGDB/Z9fU6Pixcvmjt37jxTPy9QAAVQAAVQAAVQILQCTQtqgqnvvvvO9O3b17z++utm9OjRT7UScB0/ftx8++235t1337Vlxo8fbw4fPmzL3L9/3yxbtsx89tln5u233zZffvml2bt3r9F+bYI6vf/OO+/Y9ydOnGiOHDliBHhsKIACKIACKIACKFCVAk0Lao8fP7bwtG/fPjN16tRnQE3ZtcWLF5tp06aZy5cv2+yYsm+//vqrzZadO3fOfPHFF2bHjh1G2bTNmzebAQMG2HKCvLVr15qvv/7aZuouXbpkJk+ebOtTFo4NBVAABVAABVAABapSoGlBTdktDVf+/PPPZt68ec+A2qZNm8yCBQvMrl27ng5nCuwEYdevXzfr1q2zEKehz0ePHlkg+/TTT20WTtm0RYsWmUmTJtkMWwJu8+fPN4JCNhRAARRAARRAARSoSoGmBbVEoBs3blgoqx36nDNnjs2yrV+/3kLZhg0b7Hw0zVtThk1DpsuXL7fPVU9HR4cZPny4zbAdOHDALFy40MydOzc5hAU07RPguTbBnDJz27dvt9m4PXv2uIqxDwVQAAVQAAVQAAUKKdCSoDZlyhQzZMgQM2PGDDNhwgQzZswYs2TJEqMhTy0M0PuCuKtXr1qxNFSqOWxbtmyxsCYo09Bpsh09etTCm+DOtSlbp/lvAkTVs3TpUjufTfPoNO+tkQ+1QSAZQ1vSOiibKe3S+2N4rbbpEUNb0m2QZg8fPoyubfhauXMdXyunm84LzoWetZNvsTW/Ai0LalogsHr1ansiK9s1dOhQu0BAUKY5bcqOXblyxVqwFtR+/PFHC2Ua/kw2QZjgbcWKFcku73/BkebFqe5GPjQ0fO/ePaO5do1sh+vYv/zyix2+dr3X6H2az6j2Nbod6ePrQkOZYflu+r1Gv8bXyp3r+Fo53TgX/LrJt9iaX4GWBDVltmbPnm3nnslEuqoYN26cnXumrJrmtAnEBC/aBHKDBw+2Kz+1WlRQphWjybZz5067T3Pf8m6Amr8TAdT8GqXhi+BUXDNpiK8V1y1mX5NNY25fLBctgFreiB13uZYEtW3btlmwUnZMiw40j23kyJF2OFPPdSuOYcOGmWPHjtnsxMGDB837779v2tvbzc2bN+0w6YgRI+xzQd73339v4a6trS23NQE1f2AgePo1AtSKa5TWDFArp2HMIASo5bMpoJY7ZEddsGlBTQClVZiae6b7ob333nt2aPLEiRP2JrW6xYayYitXrrTQpvlqKq/PadhIt9xQ1k3ZM/2fPn26vX2HwE4gp+FRZd5Uv1aA6hYeWmWadwPU/B0JoObXKA0dMQfPWLIIac0AteJ+FjsIxd6+WM4FQC1vxI67XNOCmiZTa86YVnsOGjTIDBw40K7c1MpL3e9MCwBmzZplFxKMHTvWKLsmMNAmWNNwpmBMqz1nzpxpf+FA+7Xp8yqvrJreTxYi2Ddz/gHU/MEBUPNrlIYOQK24ZoBaOc1i9jVALZ9NAbWcATvyYk0LapHraldaspig584EUOtZnzSkEZyK65VoiK8V1w5QK65Z4m9k1GKP0M3VPkAtkL3IqPk7OYKnX6Ok40/+xxw8YwlOiVa1//G11vI12ZZzwW9TMmqBAnzF1QJqgQQH1PydCMHTr1EtbBCciuuV6IevFdcuZhDiXMhnT0AtUICvuFpALZDggJq/IyF4+jVKQCP5H3PwJKNW3J6yq4KpzoXExrH8j9nXpFHM7YvlXADUAgX4iqsF1AIJDqj5gxag5tcoHbQJTsU1k4b4WnHdYvY1QC2fPQG1QAG+4moBtUCCA2r+joTg6dcIUCuuUVozQK2choBaOd3kb2TUAgXW57RaQC2Q4QE1fycHqPk1SkNHzMEzluCU1gxQK+5n0ixmX4u9fbGcC2TUAgX4iqsF1AIJXk9Q69z1g2nv92qpR+cHfzNdH79pOt5/rdTnOwb8w3QePxpk/gygVjyAxhw8YwlOgFpxv3JpFrOvAWr5bAyoBQrwFVcLqAUSvK6gtmGVaX/xN415/P4F03lwH6B2IV/H6Ap49dwXc/AE1Mr5iIKpLlrq6Sf1qCtmX9P3i7l9sZwLgFqgAF9xtYBaIMEBNX/QIqPm1ygdcAlOxTWThvhacd1i9jVALZ89AbVAAb7iagG1QIIDav6OhODp1whQK65RWjNArZyGgFo53eRvZNQCBdbntFpALZDhATV/Jweo+TVKQ0fMwTOW4JTWDFAr7mfSLGZfi719sZwLZNQCBfiKqwXUAgkOqPmDA6Dm1ygNHTEHz1iCU1ozvcbXWsvXALV89gTUAgX4iqsF1AIJDqj5OxKCp1+jNHQAasU1A9TKaRazrwFq+WwKqAUK8BVXC6gFEhxQ83ckgJpfI0CtuEZpzQC1choCauV0k7/Fkl0G1AIF+IqrBdQCCQ6o+Ts5QM2vURo6Yg6esQSntGaAWnE/k2Yx+1rs7YvlXADUAgX4iqsF1AIJDqj5gwOg5tcoDR0xB89YglNaM73G11rL1wC1fPYE1AIF+IqrBdQCCQ6o+TsSgqdfozR0AGrFNQPUymkWs68BavlsCqgFCvAVVwuoBRIcUPN3JICaXyNArbhGac0AtXIaAmrldJO/xZJdBtQCBfiKqwXUAgkOqPk7OUDNr1EaOmIOnrEEp7RmgFpxP5NmMfta7O2L5VwA1AIF+IqrBdQCCQ6o+YMDoObXKA0dMQfPWIJTWjO9xtday9cAtXz2BNQCBfiKqwXUAgkOqPk7EoKnX6M0dABqxTUD1MppFrOvAWr5bAqoBQrwFVcLqAUSHFDzdySAml8jQK24RmnNALVyGgJq5XSTv8WSXQbUAgX4iqttWlB7/PixOXjwoFm9erVZvny52bVrVzfp7ty5Y44ePWoWLVpkzp07Zx49emTL6L/2r1+/3qxcudL88MMPdmhEcKXtxo0b9v0VK1YYPQ4fPmz3dTtADzsANX8nB6j5NUpDR8zBM5bglNYMUCvuZ9IsZl+LvX2xnAuAWg9BuonealpQe/DggVm8eLEZMmSI6du3rxk9evQzsguU1NFMnz7d/PnPfzZbtmwx9+/fNwK8a9eumRkzZpgRI0aYYcOGmYkTJ5off/zRvq/PHTlyxL6v9/RQHdqXgNwzB8p4Aaj5gwOg5tcoDR0xB89YglNaM73G11rL1wC1fPYE1DICdJPtblpQEwidOXPGtLW1mdmzZ3cDtVu3bpn9+/ebzz//3Lz++utmx44dFsTkuMqgCdJOnjxpoW3btm1mwIAB9rmycAsXLrSAdvv2baPHuHHjbFZOz/NugJq/IyF4+jVKQwegVlwzQK2cZjH7GqCWz6aAWt6IHXe5pgU1yaohzOvXr5v58+d3A7Xdu3ebWbNmmX379pl33333acbs0qVLZtq0aWbVqlV2HoGA6vjx4+a9996zw6PHjh2zoLZgwQKbQdP7GloVvKlc3g1Q83ckgJpfI0CtuEZpzQC1choCauV0k7/Fkl0G1PJG7LjLNTWoSVrNJxNU1Q59CsbWrFljs2Aa5vzggw+eglpHR4cZPny42blzp7l586a1jjJzyqhp3tr27dstlGn+WrJp2FSg5poHl5RJ/wfU/J0coObXKA0dMQfPWIJTWjNArbifSbOYfS329sVyLgBq6cjcnK9bDtQ0B23Dhg12EYCyYxrKrAW18+fPm8GDB5u9e/caDY9qO3v2rBk0aJBdnLBx40YLZZs2bXpqUQ2VCtQEca5NUKZ69f7atWvNnj17zJMnTywICkZ6+7iyfZNpf/E3jXm89IK5dvJ4r7+DSwPZRvMGXe81et+9e/es7zS6Ha7ja36mOmDXe43cpzY9fPjQXjw1sh2uY+Nr5fqhWH0tsXGs7YvlXFA/xtb8CrQUqAmONI9MiwO0WEALALRis0+fPjbrpitEZc+0QCCdUfv0009tRm3r1q3dMmrJPn3GtQkOdZw5c+aY8ePHm6VLl1pQU3BI5rn15v8vO7c2BtJe/I3peOm35uaZU3X5HmkNBGkK7On9MbxWAFD7YmhLug0a8r979250bVOb1LZ6+X36e/fmNb727/m2RTWM1deS7xFr+2I5F9SPsTW/Ai0FaspsadhTQ5tvvvmmBbR//OMf5j//8z/NK6+8YleJnjp1ykyZMsWsW7fOXLlyxQLViRMnzDvvvGMzawIuZc90Sw+Bnx66hYf2aWg078bQp3+4RVfF6nBdQ1WN3pdkrBrdjvTxYx6OimW4J62ZXuNr/vMxrVvMvqa2xty+WM4F9WNsza9AS4GazKHsluaeXb161T46OzvtQgENSSbpcmXIRo0aZVd9ap+GLPv372/Ly7EFZYI9XRXpMWHCBLsvmdOWx+yAmj8wEDz9GjVT8IwlOKU102t8rbV8DVDLZ09ALU+0jr9M04KahsyUFRNEacWmbsGh55rwXwtUGoapnaOmz12+fNlMnTrV3nZjzJgxZvLkyWbz5s1G4/kCLN3WQytDx44dax8qq32CwLwboObvSAiefo3S0EEWobhmgFo5zWL2NUAtn00BtbwRO+5yTQtqmpugW2/olwmUAdPKT/2KgIYxBWfJJjDTCk5l1vQZbfqvIc7aXybQbT4EV9oEEJrfptty6HHo0CG7z76Z8w+g5u9IADW/RoBacY3SmgFq5TQE1MrpJn+LJbsMqOUM2JEXa1pQi1xXC31dXV11mX/VuWFVwxYTtP/+BdN5cF9dvkc6gAJqxQNBzMEzluCU9jNArbifSbOYfS329sVyLgBqsZNCvvYBavl0KlyKjJo/OABqfo3S0BFz8IwlOKU102t8rbV8DVDLZ09ArXDojvIDgFogswBq/o6E4OnXKA0dgFpxzQC1cprF7GuAWj6bAmqBAnzF1QJqgQQH1PwdCaDm1whQK65RWjNArZyGgFo53eRvsWSXAbVAAb7iagG1QIIDav5ODlDza5SGjpiDZyzBKa0ZoFbcz6RZzL4We/tiORcAtUABvuJqAbVAggNq/uAAqPk1SkNHzMEzluCU1kyv8bXW8jVALZ89AbVAAb7iagG1QIIDav6OhODp1ygNHYBacc0AtXKaxexrgFo+mwJqgQJ8xdUCaoEEB9T8HQmg5tcIUCuuUVozQK2choBaOd3kb7FklwG1QAG+4moBtUCCA2r+Tg5Q82uUho6Yg2cswSmtGaBW3M+kWcy+Fnv7YjkXALVAAb7iagG1QIIDav7gAKj5NUpDR8zBM5bglNZMr/G11vI1QC2fPQG1QAG+4moBtUCCA2r+joTg6dcoDR2AWnHNALVymsXsa4BaPpsCaoECfMXVAmqBBAfU/B0JoObXCFArrlFaM0CtnIaAWjnd5G+xZJcBtUABvuJqAbVAggNq/k4OUPNrlIaOmINnLMEprRmgVtzPpFnMvhZ7+2I5FwC1QAG+4moBtUCCA2r+4ACo+TVKQ0fMwTOW4JTWTK/xtdbyNUAtnz0BtUABvuJqAbVAggNq/o6E4OnXKA0dgFpxzQC1cprF7GuAWj6bAmqBAnzF1QJqgQQH1PwdCaDm1whQK65RWjNArZyGgFo53eRvsWSXAbVAAb7iagG1QIIDav5ODlDza5SGjpiDZyzBKa0ZoFbcz6RZzL4We/tiORcAtUABvuJqAbVAggNq/uAAqPk1SkNHzMEzluCU1kyv8bXW8jVALZ89AbVAAb7iagG1QIIDav6OhODp1ygNHYBacc0AtXKaxexrgFo+mwJqgQJ8xdUCaoEEB9T8HQmg5tcIUCuuUVozQK2choBaOd3kb7FklwG1QAG+4moBtUCCA2r+Tg5Q82uUho6Yg2cswSmtGaBW3M+kWcy+Fnv7YjkXALVAAb7iagG1QIIDav7gAKj5NUpDR8zBM5bglNZMr/G11vI1QC2fPQG1QAG+4moBtUCCA2r+joTg6dcoDR2AWnHNALVymsXsa4BaPpsCaoECfMXVAmqBBAfU/B0JoObXCFArrlFaM0CtnIaAWjnd5G+xZJcBtUABvuJqmxbUHj9+bA4ePGhWr15tli9fbnbt2vVUurNnz5pt27aZlStXmjVr1pitW7eay5cvG31GmyDq9OnTZtOmTWbFihXd3r9165Y5deqU/bze37t3r7ly5crT+vM8AdT8nRyg5tcoDR0xB89YglNaM0CtuJ9Js5h9Lfb2xXIuAGp5onX8ZZoW1B48eGAWL15shgwZYvr27WtGjx79VO0dO3aYqVOnmpEjR9r9w4cPN9onMBBACcS+//57M2rUKDNs2DAzduxYs27dOnPnzh1bx8mTJ828efNs3Xp/4sSJZs+ePebhw4dPj+F7Aqj5gwOg5tcoDR0xB89YglNaM73G11rL1wC1fPYE1HyRujneb1pQEwidOXPGtLW1mdmzZz8DaufOnTNdXV0WygR0S5YsMd9++63NwN27d8+cOHHCDBw40L4WtAnC3nnnHZuufvTokVm2bJkZPHiwfa3PT5s2zYLdpUuXclsVUPN3JARPv0Zp6ADUimsGqJXTLGZfA9Ty2RRQyx2yoy7YtKAmVQVV169fN/Pnz38G1JT5SoY5VWb37t1mxowZZufOnebatWsWxAR3HR0dFuYEe4MGDTKHDh2y4Ldo0SIzZcoUW8eTJ0/s0OiCBQtsVi6vNQE1f0cCqPk1AtSKa5TWDFArpyGgVk43+Vss2WVALW/EjrtcU4OapL1x44YRRNUOfdZKrozYnDlzbEZMmTRl2gRtmtumk0mbgE3DoNu3b7fz0RYuXGjhL6lHc+G0T59xbYLCY8eOGQGesm8qJ8C7ffu20YnS28f1H7eY9hd/05BHx0svmBttJ3v9HVwaKLsp+7jea/S++/fvG7Wv0e1IH18ZYF2IaJg+/V6jX6tNujBSGxvdlvTx8bXi/VDMvib7xty+WM4F9WNsza9AS4OaThZBluaqCcKUwdFVorJl69evN1evXrUW1BXQ+PHjzZYtW2zWTFCm+W/JdvToUQtqWrTg2pQ9O3/+vD3G2rVr7VCqQO3mzZv2mDpubx5Xtm9qCKRZOHzpBXPt5PFetT/ru8s+6kiy3m/kfgV2ta+Rbcg6dgK3We83ar+CpyBSF0+NakPWcfG1cn1QrL6W2DnW9sVyLqgfY2t+BVoW1AQAWrmpDNfMmTNNe3u7tZbmmU2fPt2uBq3NqCkjJ5jTMGnRjJrLDRj69A8bqLNV1tE1VNXofepo1b5GtyN9/JiHo2IZ7klrptf4mv98TOsWs6+prTG3L5ZzQf0YW/Mr0JKgJkgSpGnu2hdffGGHOLVPm26zoWyZVn3qZFfmS7fz+Pzzz82BAwfs5wRqAjy9p023+tDwqv7n3QA1f2AgePo1aqbgGUtwSmum1/haa/mabAqo+W0KqOWN2HGXa0lQU/Zs1qxZdt5ZZ2ennTeTmOHu3bt2PpnATIsHNM9Bqz7fffddo2ybMnFaJarbfmjhgVLrWjEqsFNdeTdAzd+JEDz9GqWhg+BUXDNArZxmMfsaoJbPpoBa3ogdd7mmBTXNhdG9zyZMmGDee+898/rrr9vnuvGtsmHvv/++hS/dA01z0pRF001uBVCaOyaQ02d1DzWV0S05NI9FWbTjx48/veXHuHHjbDmtGC0yMRNQ83ckgJpfI0CtuEZpzQC1choCauV0k7/Fkl0G1OIGsLyta1pQ0+qyffv22RWWGqrU0KR+RUArO7UoQBP/9dAKTD10w1udQNoEURoa3bhx49NfJtBq0OSWHsqy6aa3qk91KOPGLxOU77RcgZPgWU7PmINnLMHJ5W9cFBT3t5h9TTaOuX2xnAuAWl4Uirtc04Ja3LL+GwYFf66gUXRf54ZVjVv1+fsXTOfBfXX5HunvTfBsreAZS3BK+5le42ut5WuyKaDmtymgFjsp5GsfoJZPp8KlGPr0dyIET79GaeggOBXXDFArp1nMvgao5bMpoFY4dEf5AUAtkFkANX9HAqj5NQLUimuU1gxQK6choFZON/lbLNllQC1QgK+4WkAtkOCAmr+TA9T8GqWhI+bgGUtwSmsGqBX3M2kWs6/F3r5YzgVALVCAr7haQC2Q4ICaPzgAan6N0tARc/CMJTilNdNrfK21fA1Qy2dPQC1QgK+4WkAtkOCAmr8jIXj6NUpDB6BWXDNArZxmMfsaoJbPpoBaoABfcbWAWiDBnxdQ6zx31nSeOlHqcb2zw/x6+VKpz9pjtp0OshpVQUAdnEAyDUqNfh1z8CSjli94pn0IXyunG+eCXzdALVCAr7haQC2Q4M8LqHVMG2va//C7Uo+OP75oOl/+j1Kf1TE7+r8ZDKQInv4gkAYOQK24ZtIQXyunG6Dm1w1QCxTgK64WUAsk+HMDamMHN+4eb2++DKhd8HfWaaAK9RpQK2cLQK2cboCaXzdALVCAr7haQC2Q4IDab8IDnAfUOhbOMh1jB5d6/PzNCNM1aXipz+qYuklxCCAiOPmDk0t35kMW1y1mX5ONY25fLBctgFqgAF9xtYBaIMEBtcaDWnu/V8PD4ovu7ylYcwFDb/cRnIoDhzQH1IrrFrOvAWr57AmoBQrwFVcLqAUSHFBzA0x7BtiU2u/JqAFq+Trz3sJj8vlYsghJe2r/A2rFfQFQK65Z4nOxnAuAWqAAX3G1gFogwQE1QC3ptOv5P+bgGUtwcukNqBWHjph9TTaOuX2xnAuAWqAAX3G1gFogwQE1QM0FDL3dR3AqDhzSHFArrlvMvgao5bMnoBYowFdcLaAWSHBADVDrLZS5Ph9z8Iwli+DSDVDLF9hrtYvZ19TOmNsXy7kAqAUK8BVXC6gFEhxQA9Rqg169nhOcigOHtAfUiusWs68BavnsCagFCvAVVwuoBRIcUAPU6gVntfXEHDxjySLU6pU8B9TyBfZEL/2P2ddib18s5wKgFijAV1wtoBZIcEANUKsNevV6HnPwjCU4ubQG1AA1l1+E2hfLuQCoBQrwFVcLqAUSHFAD1EIEAUCtOHDIDoBacd1i9jXZNOb2AWqBAutzWi2gFsjwgBqgBqgVh4MQmgFq5ewQMwgBavlsSkYtUICvuFpALZDggBqgFgI6Yg6esWQRXLqTUcsX2Gu1i9nXALV89gTUAgX4iqsF1AIJDqgBarVBr17PYw6egFq+4Jn2BQVTgWR6f6Nfx+xr0ibm9sVyLgBqgQJ8xdUCaoEEB9QAtRCBluBUDobIqBXXLWZfA9Ty2RNQCxTgK662aUHt0aNHZuPGjWbKlClm/PjxZsWKFU+le/DggTlw4ICZOXOmmThxopk1a5Y5e/asefz4sS2jz27fvt2+P3nyZLNkyRJz+fLlp+/rauiHH36wn9Xnt2zZYrSvyAaoAWqAWr5gEkKndJ2AWnFbAGrFNUv8joxakWhJWZ8CTQ9qgrAvvvjCjB49+ul3PXXqlIWvqVOnmmXLlplJkyaZdevW2VS5IO78+fN239y5c82CBQssyC1evNjcuXPHCOJ+/PFH+/6iRYuMHt98843dp/fyboAaoJZ02vX8H3PwjCU4ufQG1IpDR8y+JhvH3L5YzgUyankjdtzlmhbUBEKdnZ0WugRctaC2cuVKo3379++34LVjxw4zY8YMs3v3bjsXZMOGDWbChAmmra3N3Lx500JY//79bdbs2rVrZuHChWbs2LHm7t275t69ezZrJ2C7fv16bmsCaoCaCxh6u4/gVBw4pDmgVly3mH0NUMtnT0Atd8iOumDTglqi6o0bN2xWrBbUBGGCrVu3bpknT55YGBszZowdHtUJruHMTZs2GUGZNmXg3n33XQtuGjLVZ5cuXZocwqxZs8buO3jw4NN96SfKtt2/f9+Cnf4L1DScqs6ut48LG1eb9hcrAB/XMX7/grlwaH/md+gcN7hhbet46+XMdknzjn6vNaxt0qW3dnd9/tKlS/YC4urVq0Hqdx0z774rV67Yc6Crqyu6tiWglve7VFlO/ZTaV+Ux8xwrZl9T+2NuXyznAqCWjtTN+bolQW3EiBEWrARL2vRf+5QV07Dn0KFDbXYtcWLNXxs4cKA5dOiQnY8mUNP8t2Tbtm2brU+ZOdcmSFO2TgD4+eefm++++84CorJxysr19nFz9/aGAUfHS781t86dyfwOV6eOaljbLr3958x2SfOu/m82rG3Spbd2z/p8clGQ9X6j9usCRfbyH78AACAASURBVPNA6+X39fwemvIg3epZZ73qevjwoVH76lVfPeuJ1deS7xhr+2I5F+RbbM2vQEuC2vDhwy1Y1ZqnFtS++uors3fvXptxUxmB2qBBg4wyZgI0gZoybsmmhQXapwUIrk1ZO2XnlJk7evSorU9wqH26surto2vL+oYBR/tLL5ifjx/J/A4XJwxrWNs6//Ffme2S5p0f/K1hbZMuvbW76/PKpCkIKAPjer+R+9QmAUe9/L6e30UXZQru9ayzXnVpbqzaV6/66lVPzL6m7xhz+2I5F+RbbM2vQEuCmoY5BVYKGtoU2EaNGmWHMzs6OszIkSMtdOlk0qa5apqj9tNPP9n5avqshjuTLYG3PXv2JLu8/wVqGgLq7Zwkfb5zw6qGAUf7718wnQf3ZX6PjrGNG/psf/PlzHZJt/Z+rzZMN+lSD9un69CQTwIc6fca/TqWCdQuHXSu3759O4hNXMcrsk+QpvYV+UwVZWP2NX3/mNsXy7mQjBp5AxYFolagJUFNt+WYN2+encMgYBKcaVhy/fr1dt6YVorqlhya46DUsLJg7733nmlvb7dZMYHanDlz7DCOhnI0ZKp9p0+fzm1MQK2COXWAWlTBPZbg5IIYQC3f5PNa7WIGIUAtnz0BtdwhO+qCTQ1qyphpwr6gSkObyjQIvDZv3mxXfSoTplWdy5cvt2UOHz5shzs1n2zYsGFGr7VyVKtAP/vsM7uqU/NrdKsOva/Uuh7K0Gmf3su7AWqAWm3Qq9fzmIMnoJYveKZ9gYxaOd04F/y6AWp5I3bc5ZoW1ARpugXHJ598Yv7617+aP//5z3b4UvdL01CmbtGhBQIff/yxhbBdu3bZoQ8BlJxXWTfNS9OQp4ZCtZBAdWq+2YkTJ+yCgA8//NDoMX36dLtP7+XdADVALR2Q6/Ga4OQPTi6dyagV1y1mX5ONY25fLBctgFreiB13uaYFNYGQVnAeOXLELgzQ/DEtBkiWbCvTduzYMQtgx48fN7qNhz6jTcOZyqRpyFOApkUAmr+SvK8JmHpf9emhodOikzIBNUDNBQy93UdwKg4c0hxQK65bzL4GqOWzJ6AWN4DlbV3TglreL9iocoAaoNZbKHN9PubgGUsWwaUboJYvsNdqF7OvqZ0xty+WcwFQaxQB1Pe4gFp99XxaG6AGqNUGvXo9JzgVBw5pD6gV1y1mXwPU8tkTUHsakpv6CaAWyHyAGqBWLzirrSfm4BlLFqFWr+Q5oJYvsCd66X/MvhZ7+2I5FwC1QAG+4moBtUCCA2qAWm3Qq9fzmINnLMHJpTWgBqi5/CLUvljOBUAtUICvuFpALZDggBqgFiIIAGrFgUN2ANSK6xazr8mmMbcPUAsUWJ/TagG1QIYH1AA1QK04HITQDFArZ4eYQQhQy2dTMmqBAnzF1QJqgQQH1AC1ENARc/CMJYvg0p2MWr7AXqtdzL4GqOWzJ6AWKMBXXC2gFkhwQA1Qqw169Xoec/AE1PIFz7QvKJgKJNP7G/06Zl+TNjG3L5ZzAVALFOArrhZQCyQ4oAaohQi0BKdyMERGrbhuMfsaoJbPnoBaoABfcbWAWiDBATVADVDLF0xC6JSuE1ArbgtArbhmid+RUQsUWJ/TagG1QIYH1AC1pNOu5/+Yg2cswcmlN6BWHDpi9jXZOOb2xXIukFELFOArrhZQCyQ4oAaouYCht/sITsWBQ5oDasV1i9nXALV89gTUAgX4iqsF1AIJDqgBar2FMtfnYw6esWQRXLoBavkCe612Mfua2hlz+2I5FwC1QAG+4moBtUCCA2qAWm3Qq9dzglNx4JD2gFpx3WL2NUAtnz0BtUABvuJqAbVAggNqgFq94Ky2npiDZyxZhFq9kueAWr7Anuil/zH7Wuzti+VcANQCBfiKqwXUAgkOqAFqtUGvXs9jDp6xBCeX1oAaoObyi1D7YjkXALVAAb7iagG1QIIDaoBaiCAAqBUHDtkBUCuuW8y+JpvG3D5ALVBgfU6rBdQCGR5QA9QAteJwEEIzQK2cHWIGIUAtn03JqAUK8BVXC6gFEhxQA9RCQEfMwTOWLIJLdzJq+QJ7rXYx+xqgls+egFqgAF9xtYBaIMEBNUCtNujV63nMwRNQyxc8076gYCqQTO9v9OuYfU3axNy+WM4FQC1QgK+4WkAtkOCAGqCWFWg7z501HdPGmo6xgws/OscNNlenjjIXJwwr/NnkeJ17dmZCQefBfaXrvThhqLk6dbTpHDekXB2ThpvOUycy25alZ579ZNSKQ2TMIASo5bMnoBYowFdcLaAWSHBADVDLAgjBSPsffmfaX6xAI8cxOpfNz4Shzg2rGtau9t+/YASKWbr1Zj+gli+w12oMqBXXLNGPjFqgwPqcVtvSoPbkyRPz8OFDc+/ePXP37l37X6+16b0HDx483a/n2pdsAq379+8/fV+fq30/KZf1H1CrAELefLnHoN7e79WGQYeyV0mnnf4PqGX4BqCW6TNpH6riNaAGqGXFN/ZXq0BLg5quotesWWO+/PJL869//csMHz7cLF++3MLbtWvXzJw5c8zAgQPNoEGDzIwZM+w8EcHY48ePTUdHh5kwYYL59NNPzWeffWbWrVtnbt68mds6gFpGMHZkeEpnlgC1UiBKRq18AA4BSMxRK2ePmEGSjFruUEnBHAq0LKgpQ3bs2DELWdu3bzcHDx40ixcvNlOnTjX79+83ixYtMvPmzTMbN240W7duNePHjzc7duywsKYOQPsFart27TKrVq2yZTdt2pRD0n8XAdQAtaygTkYtwzfIqJFRu5Af2gA1v1bMUcsdsqMu2LKgpqHOPXv2mH/84x+283v06JHZtm2bBTKB2SeffGJhTFk3ZddWrlxppk+fbs6fP29BbubMmWbDhg126FNXR4I6wVzeDVDLCMZk1OyEeeaoOfwDUAPUALW6+gCgljdix12uZUFN88uOHDliPv74Y5sxO3z4sFm4cKH55ptvbHatT58+Zu/evXbemeaw/fTTT+arr76y/5U5Gzt2rDl37pwR4Am6lI3TEKpepzcNl964ccO0t7ebtrY2e6LpM1evXjWCvN4+urasKzXEVXpIsRamXnrBXD52OPM7aKVfXY5Te8yczzv/8X8y2yXNOz/4W8PaJl2y7H753BnT8cfGLSa4tGpRZtti9rUsPfPsV8DSxVueslWXuXPnjlH7qj6u73hXrlyx83R1Mesr24j3Y27f9evX7RzoesWAsvrevn07Ha543YQKtCyoyRY6kZUJe+ONN8yrr75qPvroIzN79mxz6dIl88EHH1hgUzktFOjs7DQDBgwwAjoNdX799dc20ybg0rZixQozdOhQc+vWLQtuduf/+yN407DpyJEjTf/+/c2UKVMsAAoWBYG9ffy654eGAUfHS781d9rPZn4H3Y6hUaB26e3/L7Nd0rzr4zcb1jbpkmX3u1evmM6X/6NhbbuxeU1m22L2tSw98+zXOa7zNE/ZqsuoXWpf1cf1HU/9l+brahqJr2wj3o+5fdJM2tUrBpTV15VYqI1dPG8OBVoW1NTxnThxwgwZMsTCl+YLaWGB5p1t3rzZvPfee3UDNZlaJ5IWG+hKKoE5XQUJCnv7uLhpTcOCum6ZcPHwgczvoHtmNQrUOt76P5ntkuYd77/WsLZJl0y7t51u6O05LqxYmNm2mH0tU88c55gy3spc9aaOUJ9Vf6H2haq/bL1dXV22X9PUkLJ1hPxczO1TJk2Qdvny5YZqJ99ia34FWhbUBEmaizZmzJinmbHjx4+b+fPn27lof//7358Z+hTUaWhTZbSQQJ/TfDVdkWhoMxn6FADm2Zij5piDlHNIMzf4seqzFIiy6tM/CTtrIUiI/Rr21PBiiLp7U2fMk/X1vWJun+KPLt4Fqr2xQW8/yxy1PNE6/jItC2o6QdavX2/nnemKULClOWu6JYcWCnz44YfdFhNMmzbNwtm+fftsmfRiAmXj8m6AGqCW1cmy6jPDN1hM0NCgnvbXmEFIbY25fYBa3khJuTwKtCyoaRhy9+7d9j5p+q+MmVZ26vYcul2H5qopu/bDDz+YnTt32hWdW7ZssUOXuoea7ps2ceJEc+jQIbv68/vvvzdr167No6ktA6hlBON6ZtXIqJFRy7lKUBkrTaxOw0gMr8molctwAmp+3cio5Q7ZURdsWVCT6lpMIMDSBP9+/frZoU0NYWqip+YQKIP2/vvv2+yaoEzzywRYemjYc8SIEaZv3772fd0oV5193g1QA9SyIICMWoZvkFGLCiRjBiEyan5Ik0aAWt6IHXe5lgY1rbrRVbQATMOfAi1NKNYwqEBKEy21X+8rA6d9yaa5adqXvK/P1b6flMv6D6hlBGMyatxHLcsHADVALWeGFFAD1LJibyvub2lQa6TBADVAjYxaQR8A1AA1QK2uPkBGrZEUUL9jA2r10/KZmgC1gkE6K8vS037mqDFHLWdgZ45avgxM7cUFQ5/FNUv0YzHBM+GQF71UAFDrpYBZHwfUALWk007/Z45ahm+QUatrNiXtd0VfA2qAWlZ8Y3+1CgBqgfQG1DKCcU8ZsqLvkVEjo0ZGLRjcAWqAWqDwSLUFFQDUCgqWtzigBqhlZTDIqGX4Bhm1YNCV5Ys97QfUALW88Y5yYRUA1ALpC6hlBOOiWbOeypNRI6NGRi0Y3AFqgFqg8Ei1BRUA1AoKlrc4oAaoZWUryKhl+IYno9a5YZXpGDu41KNr0nBzZcrIUp+1x5w7PRgQccPbckAUM0iymCBvpKRcHgUAtTwqlSgDqGUE454yZEXfI6P2XGXUBEy5fwe2qC/5ynt8LQvK8+wH1AC1PH5Spgy35ygRvCP8CKAWyCiAGqCW1bGSUcvwDU9GDVArBzRZfujbH3PGSm2PuX1k1AIF1ue0WkAtkOEBtYxg7MtcFHnfk+Vo7/dqwzIwgoqsQAioZfgGoJbpM1m+FHJ/zCAEqOWDdjJqgQJ8xdUCaoEEB9QygnEREPOVBdRKgWjnsvmZQKB5YA0bXgTUMu0SEsiy6gbU8sGQSz8yaoEC63NaLaAWyPCAGqDm6sC1j4xahm8AaoBazlW8Oo9iBklALVBgfU6rBdQCGR5QywjGvixZkffJqJXKfpFRK+GbHl/LgvI8+1lMUC5zBaj5dWPoM1CAr7haQC2Q4IBaiWBYBNJU1hM8maPmtgGg5talxyFfj6/lAbKsMoCaHzhc2gFqft0AtUABvuJqAbVAggNqJYIhoFYqQ9YjYDg0BdRK+CagFtWwrMANUAPUAoXv6KoF1AKZBFArEQwdUNEjhHiCJxk1tw0ANbcuvfE1V8Yn7z4yan7gcGkJqPl1I6MWKMBXXC2gFkhwQK1EMATUyKgd3JeZueE+av7A7AKasvtiBiF9p5jbx2KCQIH1Oa0WUAtkeEANUMsKkKz6zPANVn1mQmqWL4XcHzMIAWr5oJ2MWqAAX3G1gFogwQG1jGBcNGvWU3mGPktl4Bj6LOGbHl/rDTAx9JkPOtIaxwySZNQCBdbntFpALZDhAbUSwbAnKHO95wmezFFz2wBQc+vCHLVngSlmECKj9qyt0hCbvCajFijAV1wtoBZIcECtRDB0wVhP+wA1Mmo9+Uc93/P4WhIYy/wno5YPOtLaxgySZNQCBdbntFpALZDhATVALR1YktfMUcvwDeaoMUeNXyaoqw+QUQsU4CuutqVB7cmTJ+bRo0fW8dva2szp06dNe3u7uXv3rt1/+fJlk+w/f/68efDggdFntOm5rtj0mVOnThmV1b68G6CWEYwrzHIw9Om2AUOfbl0Y+nw2sxVzxkoXPTG3j4xa3khJuTwKtDSoCdIEWBMnTjT9+/c37733nhk+fLiFrytXrpjvvvvOfPjhh6Zfv35m8ODBFuIePnxoBFkdHR1mwoQJ9j19bs6cOfb9PKKqDKBWIhgWhTjPcBSg5rYBoObWBVAD1JKsd2//A2p5IyXl8ijQ0qB26dIlM336dLN06dKncCZAu3r1qlm+fLn5/vvvze7du+17c+fONQsWLLDZN8Hd5s2bzdChQ83Zs2fN8ePHjd7/9ttv82hqywBqJYIhoFZqzlmPgOHQFFAr4Zuei4LeBHbmqD0LiHm1JKPm142hz9whO+qCLQtqjx8/Nj/99JPNpGnoMhm2FEDdvn3bDBs2zGzYsMFcu3bNDoUeOXLEfPXVV+bYsWNGz+fNm2dWrFhhy967d8/C3ogRI+xr1eHbALUSwdABFT1CiCd4klFz2wBQc+vSG1/LCxeucoCaHzhcugFqft0ANV+kbo73WxbU7ty5Y/bs2WPeeecdC2QbN240W7dutfAm5+3bt6/ZuXOnnasmqLp+/brdt3//frNjxw4zZcoUc/DgwaeAt3btWjNy5Eg7L0IQWLvp85rjtn37dqNyOq7mut28edP88ssvvX5c2b6pkkyLM1C99IK5dvJ45nfomjS8YW270OdPme2S7hc//HvD2iZdsmx/vbPDdPzxxYa17ee1yzLbhq+5Ic7na1m2zrNfF4Lqr/KUrbqMLnATkKz62HmOF2v7pJmm0dy4caOhdpVvsTW/Ai0LajrJBWZ9+vSx0DVp0iQzbtw4O9ypBQJvvPGG2bt371MLaoHBP//5T7Nv3z77Oc1rO3HihD3ZVGjTpk3282fOnLFw9/SDxhiB2+HDh+08tvHjx9vsm0BNna+yd719/LJza8OCesdLvzU3z5zK/A5XpoxsWNsu/vPPme2S5pf6v9GwtkmXLLv/evmS6Xz5PxrWtusbVma2DV9zg5rP17JsnWe/YOP+/fuZNslTR6gymuervjFU/b2tN9b2JQvW6hUDyuqUjCTVxiueN58CLQtqypCtW7fO/Nd//ZfNcMnRlSHTnDU9XnnllWdATe8L1ARvArw0qCkjN3bsWHPu3LluoOYyO0Of7oDnzNoVHfJMyjP0WQr2GPos4ZseX3MNzeXdl2Ss8pavqlzMQ4vSIOb2sZjAFRXZV1aBlgU1XdFoocBbb71lurq67CpMLS7QvLTPP//cvPnmm3aIU1eyuipTmQ8++MDCnD43Y8YMOzSq97WtWrXKzmvTnDZBmG8D1EoEwwTA8v73BE/mqLltAKi5denxIsLja72BJ0DNP9fKpS+g5tdNvsXW/Aq0LKgJlDR0qdtyaOWmUsBaVLBo0SKj4UnNN9NqUM0t0zwCDW1qv+6rpuHNZcuW2SFTObrgbP78+TajpnkHeTZArUQwzAtoSTlP8ATU3DYA1Ny6AGrPBv6YQYiM2rO2coGs9gFqeaJ1/GVaFtQkvW7FoVtu6KHbcegWG7p3mjJmesyePdvMmjXLLFy40A51ajGA5rbJuQ8cOGBhbvHixXZem8pq+DPvBqiVCIYJgOX9D6gx9JnXV3pbzuNrWYEyz371N+p38pStsgyglg+GXDZh6DNvpKRcHgVaGtSURdMvEWgYU/PLtJJTqzKTVVZ6riza6NGjLcAJ7JIVnbrX2pIlS+x7o0aNMuvXr7fgl0dUlQHUADVXB659/IRUhm/wE1JRwRqgBqjljXeUC6tAS4NaWOl6rh1QywjGvc1s1H7ek+Vg6NNtA4Y+3bow9PksmABqz+qRdeHl2k9Gref4yLvFFADUiumVuzSgViIY1kJYnueAGkOfefykHmU8vuYK1nn3MfRZDohiBklALXeopGAOBQC1HCKVKQKoAWpZgZqhzwzfYOiToc8L+aENUPNrxWKCMtE7vs8AaoFsAqhlBON6ZDeSOjxZDoY+3TZg6NOtC0Ofzwb+mEFIF0Ext4+MWqDA+pxWC6gFMjygViIYJgCW9z+gxtBnXl/pbTmPr2VlT/PsZ+jzWUDMoxmglk8zMmqBAnzF1QJqgQQH1AC1rIDD0GeGbzTx0GfnmTa7mle2Lfq42XXR6Pdfi37uaflzZ4MMmcacsQLUALVAoTvKagG1QGYB1DKCcW8zG7Wf92Q5GPp024ChT7cuvRn67BjU17T/4XelHp0vv2g6/vhiqc/qmB3TxgJqBea2ZV1A1XM/Q5+BAutzWi2gFsjwgFqJYFgLYXmeA2oMfebxk3qUaVJf6w18kFHLl7VyaQyoBQqsz2m1gFogwwNqgJqrA9c+DVnZ7Es9AKJEHWTUSvhmk4Ja57mzNuPWMXawKfroHDfYXJ06ylycMKzwZ5Njde7ZGSTbp/MoZpAE1AIF1ue0WkAtkOEBtRLBsCh0NGvwBNTcmcAmnqPGMLv7fO/poiDrQibvfkDNn/FjMUGgAF9xtYBaIMEBNXfH3eM8IEDNDTBFdfGU7yl4dm5YVUkbnH4AqJXSXtmrLLiJOXub1ea8+wE1QC1Q+I6uWkAtkEkANUAtK+DEHDwBtQy/JXtbCiJ7uijIOj/y7gfUALVA4Tu6agG1QCYB1DICnifb48y0ZH2G4Fn34AmoZfgtvlZ3X8sLZFnlADVALVD4jq5aQC2QSQC1jICXBV1l9hM86x48AbUMv8XX6u5rWQCWdz+gBqgFCt/RVQuoBTIJoJYR8MoAWdZnCJ51D56AWobf4mt197W8QJZVDlAD1AKF7+iqBdQCmQRQywh4WdBVZj/Bs+7BE1DL8Ft8re6+lgVgefcDaoBaoPAdXbWAWiCTAGoZAa8MkGV9huBZ9+AJqGX4Lb5Wd1/LC2RZ5QA1QC1Q+I6uWkAtkEkAtYyAlwVdZfYTPOsePAG1DL/F1+rua1kAlnc/oAaoBQrf0VULqAUyCaCWEfDKAFnWZwiedQ+egFqG3+Jr9fe1g/tK/+KB7h3Xq19OmDTc/kJIXigsWo5fJggUWJ/TagG1QIYH1DICXhZ0ldlP8Kx/8OSGt25N8TW3Lp7ztqf7qMV8UVAUzNLlAbVAgfU5rRZQC2R4QA1QS3feyWtueJvhG/wyQSkYatZfJogZ1PQbqTpPyz4unztj7l69Yi61nS5eR9vpzF+aSPqQvP/5CalAAb7iagG1QIIDahnB2HMFzg1vw+vWrFkOAUkh/8DXLCS0/+F3DdOtaX1t2lhjdZN2JR4df/yd6Xz5P8p9tv+bgFqguNys1QJqgSwHqIUHjnaGo0oF4KYNnoCa095k1Er0NU2cvc2bTVM5MmqBAnzF1T4XoPbkyROzf/9+s3HjRnPo0CGj13fu3DF79+41q1evNmvWrDG7du0yd+/etfLr/V9++cVs377drFq1yr7/008/mXv37uU2D6BWovMsmgEB1JyB25d1AtRK+Ca+hq8V7Z/Klvf4GqCWOwy3TMGWBzVB17Vr18yUKVPMgAEDzMyZM83jx4+NwGv69Olm2LBhZvjw4WbMmDHm7Nmz5sGDBxbiDh8+bPfrvSFDhpiFCxeaM2fO5DY8oFYiGBbt2DwdWnu/V0sFFx/o5HmfLEcJ+zdxlgNfc9ubiwK3Lj32IZ5+DVDLHYZbpmDLg5rAS1mzyZMnm6FDh1pQu3//vpkwYYJZtmyZ6ejoMJcuXTJTp041S5cuNV1dXebkyZMWzL799ltz69Ytc+LECTN37lwzZ86c3IYH1Ep0UIBaJWBJ8Czhm57gCai5NcXX3LoAarlDKQWNMS0Nag8fPrTgNWrUKLN8+XILWsqo3b592/Tr18/8+OOPRmUEYxoGVblTp07ZIc9JkyaZI0eO2AybYG/BggUW9PJ6DaBWooMC1AC1g/syJ1KzmMB9TpG9devSIww1cfaWjFreKNw65Voa1HQvm3nz5pn169ebffv2mfnz55sZM2bYodD333/fzluTKQViGvb87LPPzNGjR826desstCm7pmFSbcq2DR482M5j03Bq7aYyx44dM4sWLTLTpk2zGTyVERBqMmdvH9d/3FJJAHd1bB0vvWButJ3M/A4/fzOiYW27+M8/ZbZLml/66PWGtU26ZNn9ZtdF0/nyiw1r27UNKzLbhq+5gz6+5tbF1WfU7sPXiuvm87WsfsW1X6NHbM2vQMuCmpz24MGDZvz48XZ4s62tzYKaQEoA98EHH9j3ZUJl1To7O+0cNs1N0wKCr7/+2gKdMmPaVqxYYTNqyr4l+xLz6/X58+dtJm7t2rVmz549dsHCzZs37aIELUzozePK9k0NC+rtL71grp08ntn+rknDG9a2C33+lNku6X3xw783rG3SJcvm1zs7TMcfGwdqP69dltk2fM0dWPE1ty61UOZ6jq8V183na1n9imt/kQVwSTzjf3wKtCyoCZw03Dly5Ehz4MABs2XLFjsvTa+18vPdd9+1+2USZdTOnTtnBg4caDNqWgU6YsQIO2yaZNQ0ny0ro+YyK0OfxTsoV0ff4z7mDZUCUeYNlfBNfA1fKzo1o2x5j68x9OmKuK29r2VBTUOYmmf21ltvmT59+pjXX3/d/OUvfzF/+9vfzOjRo81rr71mdu/ebYc2dasOwZxWeGrhwNatW83EiRPN8ePHbbZNGTet+vzqq69yewOgViIYFu3YPB0aE7zdNgDU3LpwUVBCF885i6+V0NTTrwFqucNwyxRsWVBTlkzDn1evXrUPZdG0ilOrP69cuWJhTcOZcnqt+tTcNc0xu3jxor11hxYPzJ492y400AIDrfr87rvvchseUCvRQXk6/W6B1NOhAWpuGxA83bp0869af8TXyKjV+kPI5x5fA9Ryh+GWKdiyoJa2kIZCtZgguY+awE33UVN2bdy4cfY+agIyjekL8JIMm+a4abhU4KZsW94NUCsRDIt2fp4ODVBz2wBQc+sCqJXQxXPO4mslNPX0a4Ba3ijcOuWeG1C7ceOGXZmZ9csEO3fufLqiU5CliZm1v0ygYdAiEzMBtRIdlKfT7xZIPR0aoOa2AcHTrUs3/6r1R3yNjFqtP4R87vE1QK11ACzvN3luQC2vIPUqB6iVCIZFOz9PhwaouW0AqLl1AdRK6OI5Z/G1Epp6+jVArV5RunnqAdQC2QpQK9FBeTr9boHU06EBam4bEDzdunTzr1p/xNfIqNX6Q8jnHl8D1AIF7YirBdQCGQdQKxEMi3Z+f1yEeQAAIABJREFUng4NUHPbAFBz6wKoldDFc87iayU09fRrgFqgoB1xtYBaIOMAaiU6KE+n3y2Qejo0QM1tA4KnW5du/lXrj/gaGbVafwj53ONrgFqgoB1xtYBaIOMAaiWCYdHOz9OhAWpuGwBqbl0AtRK6eM5ZfK2Epp5+DVALFLQjrhZQC2QcQK1EB+Xp9LsFUk+HBqi5bUDwdOvSzb9q/RFfI6NW6w8hn3t8DVALFLQjrhZQC2QcQK1EMCza+Xk6NEDNbQNAza0LoFZCF885i6+V0NTTrwFqgYJ2xNUCaoGMA6iV6KA8nX63QOrp0AA1tw0Inm5duvlXrT/ia2TUav0h5HOPrwFqgYJ2xNUCaoGMA6iVCIZFOz9PhwaouW0AqLl1AdRK6OI5Z/G1Epp6+jVALVDQjrhaQC2QcQC1Eh2Up9PvFkg9HRqg5rYBwdOtSzf/qvVHfI2MWq0/hHzu8TVALVDQjrhaQC2QcQC1EsGwaOfn6dAANbcNADW3LoBaCV085yy+VkJTT78GqAUK2hFXC6gFMg6gVqKD8nT63QKpp0MD1Nw2IHi6denmX7X+iK+RUav1h5DPPb4GqAUK2hFXC6gFMg6gViIYFu38PB0aoOa2AaDm1gVQK6GL55zF10po6unXALVAQTviagG1QMYB1Ep0UJ5Ov1sg9XRogJrbBgRPty7d/KvWH/E1Mmq1/hDyucfXALVAQTviagG1QMYB1EoEw6Kdn6dDA9TcNgDU3LoAaiV08Zyz+FoJTT39GqAWKGhHXC2gFsg4gFqJDsrT6XcLpJ4ODVBz24Dg6dalm3/V+iO+Rkat1h9CPvf4GqAWKGhHXC2gFsg4gFqJYFi08/N0aICa2waAmlsXQK2ELp5zFl8roamnXwPUAgXtiKsF1AIZB1Ar0UF5Ov1ugdTToQFqbhsQPN26dPOvWn/E18io1fpDyOceXwPUAgXtiKsF1AIZB1ArEQyLdn6eDg1Qc9sAUHPrAqiV0MVzzuJrJTT19GuAWqCgHXG1gFog4wBqJTooT6ffLZB6OjRAzW0Dgqdbl27+VeuP+BoZtVp/CPnc42uAWqCgHXG1gFog4wBqJYJh0c7P06EBam4bAGpuXQC1Erp4zll8rYSmnn4NUAsUtCOuFlALZBxArUQH5en0uwVST4cGqLltQPB069LNv2r9EV8jo1brDyGfe3wNUAsUtCOuFlALZBxArUQwLNr5eTo0QM1tA0DNrQugVkIXzzmLr5XQ1NOvAWqBgnbE1bYsqD148MCcO3fOzJo1y3zzzTf2sXz5cnPixAlrjvv375vNmzeb6dOn2/cWLFhgrl27ZgRY2q5fv27WrFljpkyZYiZPnmy2bt1q9+W1JaBWooPydPrdAqmnQwPU3DYgeLp16eZftf6Ir5FRq/WHkM89vgao5Y3CrVOuZUHt7t27pq2tzSxatMisWLHCCNJmzJhh5s6da3755Rdz4MABM2fOHAtyCxcuNJMmTTI//PCDfe/WrVvm4MGDZuTIkfbz8+bNs2U3bdqU2/KAWolgWLTz83RogJrbBoCaWxdArYQunnMWXyuhqadfA9Ryh+GWKdiyoKaMmoDs0qVL5vHjx+bRo0dm5cqVZtiwYebkyZM2i7ZkyRJz9uxZW27dunVm4sSJ5syZMzYTJ7DT65s3b5orV66Y+fPnm7Fjx9p68lgfUCvRQXk6/W6B1NOhAWpuGxA83bp0869af8TXyKjV+kPI5x5fA9TyRODWKtOyoJY205MnT8yWLVvMhAkTzN69e02/fv1sBu3evXsWvgR0H374oc2k7d6923z77bdm586dRkOk2gR5Q4cOtcOfyfBo+hi1rwG1EsGwaOfn6dAANbcNADW3LoBaCV085yy+VkJTT78GqNVG2ufj+XMDar/++qvNig0ZMsR0dXWZPn36mD179hgBnDYNd7799ttm3759Ztu2bXYo9Pjx4+bhw4f2/Y0bN9qMmua9Jft6chFArUQH5en0uwVST4cGqLltQPB069LNv2r9EV8jo1brDyGfe3wNUOsp8rbme88FqAmsVq1aZeeobdiwwQjaBGrKrCWb5rT985//tKCmhQMa9tTCgwTKND9t3LhxdmhUw6i1m4ZWjx07ZuezTZs2zaxevdoC4O3bt+2xdLzePK7/uKVUJ9lj4MnZ0XS89IK50XYys/0/fzOiYW27+M8/ZbZLel/66PWGtU26ZNn8ZtdF0/nyiw1r27UNKzLbhq+5IQ5fc+vi62PwteK6+Xwtq19x7U9GhGrjFc+bT4GWBzWBlhYJCKA0D03zze7cuWOHPjW0KehS9kurPPv27Wv2799vduzYYVd7akGB5rppW7t2rV1ckMx5qzW1Pn/+/Hmzfft2Wy7J1Gl+m+bJ9fZxZfumhgX19pdeMNdOHs/8Dl2ThjesbRf6/CmzXdL84od/b1jbpEuW3a93dpiOPzYO1H5euyyzbfiaO7Dia25dfKCGrxXXzedrWf2Ka7+m9rA1vwItDWpy0tOnT5sxY8aYpUuXmo6ODmsx7R88eLDRcKacW69/+ukn8/nnn9vM2OHDh+0qT2XGBHWCNX1++PDhdohUYObbGPos3kH5Ov1u73uGCBj6dNuAoU+3Lt38qzbrjK+VuujB1+rvawx9+qJv673fsqAmUNJ8sq+//toOY2qlp4Y3lQoWmGnF5/fff28XDwjgkltwdHZ22pWi69evN5rPpgyaVoLqVh66H1veDVAr0UHVBsY8zwmeBM88flKPMvgavlYPP8pTh8fXALW8Ubh1yrUsqOnmtRrqfPnll+0igQEDBpiBAwea8ePH26zZxYsXzcyZM82nn35q9J6gTPddE8hpOFSQpzlpn3zyifnoo4/s/dZOnTqV2/KAGqCW1aF2njph2v/wu1KBr8esT54g8OJvDFmOEr7pCZ5kb92a4mtuXXo8jz2+ltWvuPZr3hpb8yvQsqCm4crLly8b3Wrj0KFDRsOZegi2bty4YYczlUk7evSo3a+MmzJtySpQPResJZ9TWWXk8m6AWokOKidoPO3kPB0awdNtA4KnW5enfuXyQ3yt1IUFvlZ/X3MBWdY+QC1vxI67XMuCWqNlB9RKdFCuANnTPoInwbMn/6jne/gavlZPf+qpLo+vZUGZaz+g1mgSqM/xAbX66NitFkANUHN1nNrH0GeGb/z+BdN5cJ/J0q1j7OBSsNBjpqyngFn7nid4kr1125SMmluXHn3S42tZ54drP6DWLTQ35Q5ALZDZALUSHVRtYMzz3NOhETzdNiB4unXpTfDE19ya4mtuXXrjay4gy9oHqAUK8BVXC6gFEhxQK9FB5YGz2jKAWqkME8GzhG/ia/habd8T8rnH17KgzLUfUAsU4CuuFlALJDigViIYFu38PB0aWQ63DQA1ty69yXLga25N8TW3Lr3xNReQZe0D1AIF+IqrBdQCCQ6oleigALVSWYseO32HpgTPEr7JRUEp38TX6u9rWVDm2g+oBQrwFVcLqAUSHFAr0UE5oKJHCCF4EjyL+kzZ8vgavlbWd4p+zuNrLiDL2geoBQrwFVcLqAUSHFAD1LI6T1Z9ZvgGqz5LwZBWw+JrGT6VBUlN7GtZtnbtB9QCBfiKqwXUAgkOqBXsOLM61J72e648mTfktgHDUW5dyN6W0KWn85NfwSgF3u2efs0FZFn7ALVAAb7iagG1QIIDavXv9LsFUk+HBqi5bQCouXXp5l+1EIKvlYIOfK3+vpYFZa79gFqgAF9xtYBaIMEBtRIdVG1gzPOc4EnwzOMn9SiDr+Fr9fCjPHV4fM0FZFn7ALVAAb7iagG1QIIDaoBaVufJHLUM32jieUNkb902JaPm1qU32dusfsW1H1ALFOArrhZQCyQ4oFaig8pztVlbxnPlSfB024Dg6dalN8ETX3Nriq+5demNr7mALGsfoBYowFdcLaAWSHBArUQHVQtheZ4DagxH5fGTepTB1/C1evhRnjo8vpYFZa79gFqgAF9xtYBaIMEBNUDN1XFqH0OfGb7B0GcpGOL2HBn+1BMUNbGvZfUrrv2AWqAAX3G1gFogwQG1Ep1nTx2r6z3PlSfDUW4bMBzl1qU3w1H4mltTfM2tS298zQVkWfsAtUABvuJqAbVAggNqJTooF4z1tA9QK5WBIXiW8E18DV/rqS+q53seX8uCMtd+QC1QgK+4WkAtkOCAWolgWLSz83RoZDncNgDU3Lr0JsuBr7k1xdfcuvTG11xAlrUPUAsU4CuuFlALJDigVqKDAtRKZS167PQdmhI8S/gmFwWlfBNfq7+vZUGZaz+gFijAV1wtoBZIcECtRAflgIoeIYTgSfAs6jNly+Nr+FpZ3yn6OY+vuYAsax+gFijAV1wtoBZIcEANUMvqPFn1meEbTbwSj6FPt03JqLl16c0FaFa/4toPqAUK8BVXC6gFEhxQK9FB1fnKk+DptgHB061Lb4InvubWFF9z69IbX3MBWdY+QC1QgK+4WkAtkOCAWokOClArNbzUY6fv0JTgWcI3PcNRgJpbU3zNrUuP56zH17KgzLUfUAsU4CuuFlALJDigVqKDckBFbzo0gqfbBgRPty74WgldPOcsvlZCU0AtUFRu3moBtR5sJ9hqb283ixYtMhMmTDAzZ840u3fvNvfv3+/hU/9+C1Ar0UF5Ov1ugdTToQFqbhsQPN26dPOvWn/E10ple/G1+vuaK3OWtY+MmjdUN0UBQK0HMwnI5syZY7777juzcOFC8/3335tx48aZixcvmkePHvXwSWMAtRIdVG1gzPOc4EnwzOMn9SiDr+Fr9fCjPHV4fC0Lylz7AbUew3TTvAmoZZjq8ePH5urVq+aTTz4xO3bsMLdv3zZtbW1m0KBBNqvmOwEANUDN1XFqH6s+M3yDVZ+lYIjf+szwp56gqIl9Latfce33xamM8MfuyBQA1DIMcufOHXP48GHz9ddfmxMnTthSV65csZm1+fPnG50UtZsybMrA3bt3z/4XqF2+fNlm35SB683jwpZ1puN//7Yxjz++aC4eOZjZ/guTRzamXf/7t6az7yuZ7ZLenZ/0aVjbpEumzdtOm87/+1Lj2rZ6SWbb8DX3eYavuXXx9UsX8LXC57nP1zL7FUecAdRqo3TzPgfUMmx38+ZN88MPP5iJEyeaM2fO2FK//PKLWb9+vZk+fbo5d+7c008K0jR3TWU///xzO1T65MkTo6yc3uv14+5d86jrQmMely+aRw/uZ3+HX280pl3S49qV7HZJ9+tXG9c26ZJl+4cPzaOfuxrXtju3s9uGr7ntgq+5dfH1S/hacd18vpbVrzj2K2HA1vwKAGoZNhSobd261UyePNmcPXvWlhKobdy40UybNu0ZUBOUXbt2zZw6dcocPXr0afmMqivd3dXVZWbNmmVu3bpV6XHzHOzgwYNm9erVeYpWXmbDhg1G7Ytte/DggVFGV4tcYtvwtXIWwdfK6ca5UE43PtV8CgBqGTYT2ChLNnr0aAtgKiYYW7lypZk9e7bp6OjI+GRcuzWvrn///ub69etxNcwYs3btWjN+/Pjo2qUGCcbVvtg2Da0ra6sLgtg2fK2cRfC1crpxLpTTjU81nwKAWobNNN9MGbIvv/zSzlXTMOalS5dsAF+1apX5+eefMz4Z126CZzl7EDyL64avFddMn8DXyukGqJXTjU81nwKAWg8200rPTz/91GhoQgsDtLjgo48+MsePH7eLBnr4aDRvaX6dvoOGbWPbNN9v0qRJsTXLtkf3zFP7YtsUnAYPHmyOHTsWW9PsXE58rbhZ8LXimukTnAvldONTzacAoNaDzTQZfOfOnWbkyJEW0HRrDt1LTfPXNC+tGTbdYkTDtVrFGtum1bTbt2+PrVm2PRr2Tlb7xtTAhw8fmnXr1tnsbkztUlvwtXIWwdfK6ca5UE43PtV8CgBqPdhMMCYo0xCoJpYri6HhTw2DNsumzky3FYlx9Y/gMcZMn2wru8cIt8nCFU2kjm3D18pZBF8rpxvnQjnd+FTzKQCoNZ/NaDEKoAAKoAAKoMBzogCg9pwYmq+JAiiAAiiAAijQfAoAas1ns6ctVupf8+g0rKmHnmu1qvaz5VdAQ9kxDg3n/wbPltR30bBtI/1Amia/1KFh2qrbIg002bzq4z5rieZ7JVupH4llkx3Vprt37z79xZdY2kY7UKAqBQC1qpSu83HUgelebz/++KOdxK2J3HquG/TysyH5xVYA0PzD2l+ayP/pOEtqTmXfvn3tff8a1UKtkJ46dar54osvjFY1Vn3DZd0QWIuANP+LLb8CCxcujGqBj242vmjRIvOvf/3L/vLL+fPn838ZSqJAiygAqDWpIXXVq4UNuiHvyZMn7e1DNm3aZIYNG2Zu3LjRpN+q2mYr26LFDPrlBv0KRatsWvTy3//933YRSaO+k1ZHf/vtt3bVtIJt1VkaZRR/+uknowUObPkV0I28tfgolm3Lli22j9PqcK3C1i2T8mw6t8mm5lGKMs2gAKDWDFZytFG/NKDbbrz11ltmypQp9qpT2TTdQkT3/9Jd9fVzV7V3sFdWQ0E8eX/z5s32x7mrDqL6OroXndq3Zs0a+1AnXPUqS31vBYABAwaYr7/+2rZH2TU9BL36eSsFis7OzuCgobboNg26Z5+OK9skgLNjxw7bnj179tj3dHuOCxcu2NXHGmJU1kigqf3Kqi5fvrwSUFNWV/fp07F1E2i1WXC0b98+M3DgQJtN03c5ffp05cAk2FiyZIn1KV24HDlyxLZv27ZtVkO1OfSviyj7Iz+vPY726RzU/v3799vzVBrt3bvXXmxJU2XH9V6SPZKN1X6dI6FXScvX1L4kY6/zQ32J2qjnapveq2KT34wbN8688847ZvHixfY+ljpHkn5D/3V/S8G4/h86dMjs2rXLnrOyc63u9WyvAFB9lY4ln9dvQqsf03+dD8omJ5rpB9Slqexde9Ege6f31bON1NVaCgBqTWpPdUy6o/lf//pX89lnn9lhHg0z9evXz3zzzTe2g1N2TcNO6lTUuapj0DCCfjxeHaCycQpYjbiCVgendo4dO9a247vvvrO/X1lVEJDZNfdFAUCB4P3337c331UmSDfhHTNmjBk1apT9iaulS5daGAp5ha62yDbJsfXTWgsWLLDH1Q1uBT5z5syx7ZK9ZTcFbcG3On21VfacMWOGtW3ojJrsJEDU747Kl3R8/VcWbe7cuebtt9827777rr2IUEDTfLUqt9qsooBH58Enn3xi9ZFOQ4YMsfCreWyhNgGrhhJrf4pMQCs7CiInTJhg7akhWg0T65yQHwjIdPElG2vTPv1s3bJly4L/jrD6DNlUuihTL7uqfToflHmWllVd2AnK9HNpr776qm2HdJNmia/rvy5sBI8CWfmeLrikncrWXqTW08byfR1zxIgR9mJEx1VbvvrqK2tXncfSS/2xYFL6yQ/UZ6sPUVZQfbAuqEL6Xz2/M3U1VgFArbH6lz66Om/Nw1E2SFdw6gSUYXvllVdsBkPvK3OmzkRZDs3FEtgJTPSbpQrwutKbPn26vTIs3ZCSH9Tx9RBEqu36Hrq5cJUBPelwBRgKoAIPZdCGDh1qNVMneuDAAdOnT5+nmpb8ut6PqQPX8dWJSxdl9TTPTHPnBGayo+aeya6yoQKRgpMCp37mTNk02VVX9AocoUFN/qTjC36U/ZHddCEg4BWgCIQEmlVnSROh06CmAK95TspEK0MljQQ/Iecmaq6obCX/kq/puGqHHgrS0kjtkUbSSoFeP00nHRsNavIlgaEuXBI4U0ZI50TIC5bEfsl/tUEXKgIjwbZsJn2kmfzu448/tpk0+aJGFNSPqD+R3qG2pN/Qealj6ng6HwSVAl0Bpmyv7Pbw4cPtxYFATVk++YAyf7qgUv/LhgJ5FADU8qgUYRkXqOnqUp2HOll1puowBGLqENTZKhAIOpSd0UM/h6Wf/BGcVL2pbcoeqR0K9n/5y1/MihUrKv3x+KTDTUBNHa4yewoOXV1dVkPpps5WGoac+6cgKLDWlbk0EfAIugU90kcBSmWUzRDQqp0aClX25Y033rDDPHpPgVTvhwY1AYaGwwQ80kj+pjmTCkCCXkFRTKAmsFVQTQK4fE2ZI13khNp0LGVUlB2VRgIMZc6URVbWUZk2BXiV07Ci2qcLA0FHo0FNFws6RwVCusDTc50fVUKa7JKAmgBWGSplHXUeSjNd2HzwwQf2QlO66RyRnUMvptKxk4yasu2CL12oyH4CMl0s6bX+6zxQmwXsGkFQv61zRv4nn2BDgTwKAGp5VIqwjAvUNK9KV+kJUGhITJ2CQEydhiBAgVTBKXkoeFQ59KlOTvOrBBoKlOpg1U5dCSsjWHVb1OEmoCY4E9hqvknSDs1P0zCGroZDzQ8SXGk+jobkBD/KpilDpmFsDRtKG2mlTTAmvZRd0Huy32uvvfY0iArmpGloUEsyLgIOaaRNwVSBUsFVcBkTqM2bN8+eC7ahxlgbq33KyoTcZB8NhSlQy2Ya8lRbNIyo81K21ya4FhAJvjVkJ6CrHfrUZwUFmrcYckuGPgUf8ncBmoBSx1dfokyl+p6qtlpQE/ToPBREalNWTRc0Og/k89JVmcrQWdwE1NQvqM/SJjCT/QRgGumo7Z/lY7oIE7BrOFkXx8q2Jba3FfAHBXpQAFDrQZyY31LA1kTVDz/80AZ2Xe2mV33WgpogRB2Frvh0JapNHY46NXUyVW0KAApEGv5RtkEdmtqu76FOWc+r2pQdENQKkNTBCtoUDJMskTRWxkodq+ApVABQ4FGwUcZT2qgDV+BR9lOZPEFPLagpy6Y2Kri3tbXZYKXhFLVP30GwFxrU5EPKAkk7aSStBBHKPgpANAwUE6hJP8FGsgk+tC80qAl2ZCdlupXBlmY6L3UeCtaU/RFcqz3SUvZUpkXnqi4YdL7IPzT3SsOQVYFa0jfIp3RhpSxpMq8q1HmQ2Kb2fwJq8muBkc5TtScBIWkqG8r/BWoCp9DtS0AtucBTexNQ0/G1iCFpny6ykotinbPSUJlBnTNsKJBXAUAtr1KRlVNnoayGIEKdfNL564o4nVHTlbk6L3VkClYKHMrg6OpOHYY6wao2tVtzrZQxUJZBx9fVpVavKvNQJajpO2voSZ2ngqYgSVpqPpiGK5Q9UGZLK2kVHAQjITbZRiAoyNFx1Q4BoyZRayVZT6Cm4UZdySfZIQGftA0NagpEmt8lf1O2QJkjAZqCkPxK3wVQ+/fFUHJfO8051LCmfFznpOBLQK59ydCsoEwQrGE0+aTmlyrQ9+/f376uCtR0saBjqe16yC/VxipAqPYcS0BNQ+06NzW8qQs8nSMCWcGt+jJpGDOoKdusCyhNZ1AWWuctGwrkVQBQy6tUhOUULHWVJljTlaWGBtRxJRkzBQF1CsrKqOPVcJ4AQOU0t0NDa3o/dOeflk7AoyCudghCtCpKAV5z7NShVb0pW6DjK+uhQKCHXmtYRSCi4aiQWUdl9pKVYLoCVzZKoKNJ1Dq22qIhM23KsAjqZDe9p2yMhh7VTn1WmUqB25tvvhkcwGVHBXANt0srLWoQtAl+NcdKvhY6u5HlKwKcRANlOKSfMlLJpmCvfcrEhN6U+VaGTMP9yTCxMty6aNIcMJ2HGnLXhUGyaYhPIKdMs2yriwdBS+h5TcpaSRdd7ClDr75FbZBvyabqQ3SxVdUmuFH/IIDVQ5lInadqk84TaSZ/04WCLvx0YaXXITedrwJHwbT8XZv6YoG1YFIXdcl5qXNXUCnNBJNapa/XDHuGtFDr1Q2oNbFN1WGo89LwijoO/RekJR2pOg8BgDoFlVWQV+BUOWXj9NDnQ2WKepJW7UrarTbruTpYtbHqLdFEbUgCQqKRApYgTfqF3GQz6ZDYUcdVG3Rs/a8FHtlV7UzaJfupvD6rOvSesqSJH4Rst3xLx5YvqZ2yobTSkJ7aHFq3rO+mQJloIH3UFvlcsqnd2ictQ28azlRGrHb4PBnSlM2S87C2LYmuel/6yq5qb+hzNTmO7KY2JOeB2iGbVuFTtfbQd1abdFw99FptUnv0X5qprfqv9xL/q60jxHO1RXokUKg26LzTa9lIr/U/aaP+64JZwCvY1ftsKJBXAUAtr1KUQwEUQIECCiiQazhYqzyVUas6G1WgqRQNqICmdyibKx9QJlcAzIYCRRQA1IqoRVkUQAEUyKmAMjyaX6bhOP2vzZjlrIJiLaCAht61iETQnmR5W+Br8RUqVABQq1BsDoUCKIACKIACKIACRRQA1IqoRVkUQAEUQAEUQAEUqFABQK1CsTkUCqAACqAACqAAChRRAFArohZlUQAFUAAFUAAFUKBCBQC1CsXmUCiAAiiAAiiAAihQRAFArYhalEUBFEABFEABFECBChUA1CoUm0OhAAqgAAqgAAqgQBEFALUialEWBVAABVAABVAABSpUAFCrUGwOhQIogAIogAIogAJFFADUiqhFWRRAARRAARRAARSoUAFArUKxORQKoAAKoAAKoAAKFFEAUCuiFmVRAAVQAAVQAAVQoEIFALUKxeZQKIACKIACKIACKFBEAUCtiFqURQEUQAEUQAEUQIEKFQDUKhSbQ6EACqAACqAACqBAEQUAtSJqURYFUAAFUAAFUAAFKlQAUKtQbA6FAiiAAiiAAiiAAkUUANSKqEVZFEABFEABFEABFKhQAUCtQrE5FAqgAAqgAAqgAAoUUQBQK6IWZVEABVAABVAABVCgQgUAtQrF5lAogAIogAIogAIoUEQBQK2IWpRFARRAARRAARRAgQoVANQqFJtDoQAKoAAKoAAKoEARBQC1ImpRFgVQAAVQAAVQAAUqVABQq1BsDoUCKIACKIACKIACRRQA1IqoRVkUQAEUQAEUQAEUqFABQK1CsTkUCqAACqAACqAAChRRAFArohZlUQAFUAAFUAAFUKBCBQC1CsXmUCiAAiiAAiiAAihQRAFZZ9fGAAAB/UlEQVRArYhalEUBFEABFEABFECBChUA1CoUm0OhAAqgAAqgAAqgQBEFALUialEWBVAABVAABVAABSpUAFCrUGwOhQIogAIogAIogAJFFADUiqhFWRRAARRAARRAARSoUAFArUKxORQKoAAKoAAKoAAKFFEAUCuiFmVRAAVQAAVQAAVQoEIFALUKxeZQKIACKIACKIACKFBEAUCtiFqURQEUQAEUQAEUQIEKFQDUKhSbQ6EACqAACqAACqBAEQUAtSJqURYFUAAFUAAFUAAFKlQAUKtQbA6FAiiAAiiAAiiAAkUUANSKqEVZFEABFEABFEABFKhQAUCtQrE5FAqgAAqgAAqgAAoUUQBQK6IWZVEABVAABVAABVCgQgUAtQrF5lAogAIogAIogAIoUEQBQK2IWpRFARRAARRAARRAgQoVANQqFJtDoQAKoAAKoAAKoEARBQC1ImpRFgVQAAVQAAVQAAUqVABQq1BsDoUCKIACKIACKIACRRQA1IqoRVkUQAEUQAEUQAEUqFABQK1CsTkUCqAACqAACqAAChRRAFArohZlUQAFUAAFUAAFUKBCBQC1CsXmUCiAAiiAAiiAAihQRAFArYhalEUBFEABFEABFECBChUA1CoUm0OhAAqgAAqgAAqgQBEFALUialEWBVAABVAABVAABSpU4P8HLW9Op+gmaTwAAAAASUVORK5CYII=)"
      ]
    },
    {
      "cell_type": "markdown",
      "metadata": {
        "id": "TNMIHNgxWsU3"
      },
      "source": [
        "We get rid of only some stopwords that have most frequency\r\n",
        "[\"the\",\"a\",\"to\",\"and\",\"of\"]\r\n",
        "\r\n",
        "But this situation is not improved\r\n",
        "\r\n",
        "Therefore, we choose number 2 way\r\n",
        "\r\n",
        "-> After get rid of stop words, we get rid of those duplication sencences"
      ]
    },
    {
      "cell_type": "markdown",
      "metadata": {
        "id": "xrntdjToZbTe"
      },
      "source": [
        "# References"
      ]
    },
    {
      "cell_type": "markdown",
      "metadata": {
        "id": "4PHh4Zc-IC2D"
      },
      "source": [
        "preprocessing:  https://www.kaggle.com/shahules/basic-eda-cleaning-and-glove\n",
        "\n",
        "preprocessing:https://medium.com/analytics-vidhya/text-preprocessing-for-nlp-natural-language-processing-beginners-to-master-fd82dfecf95\n",
        "\n",
        "spelling correction: https://colab.research.google.com/github/JohnSnowLabs/spark-nlp-workshop/blob/master/tutorials/streamlit_notebooks/SPELL_CHECKER_EN.ipynb#scrollTo=uAiXj3DOfyZ-\n",
        "\n",
        "second cnn model(multi input) : https://www.kaggle.com/au1206/text-classification-using-cnn  \n",
        "https://cezannec.github.io/CNN_Text_Classification/ \n",
        "\n",
        "cnn text classification : https://medium.com/voice-tech-podcast/text-classification-using-cnn-9ade8155dfb9\n",
        "\n",
        "tuning a model : https://machinelearningmastery.com/grid-search-hyperparameters-deep-learning-models-python-keras/\n",
        "\n",
        "ensemble method : https://www.toptal.com/machine-learning/ensemble-methods-machine-learning#:~:text=Majority%20Voting,stable%20prediction%20for%20this%20instance.\n",
        "\n",
        "knn : https://www.ritchieng.com/machine-learning-k-nearest-neighbors-knn/\n",
        "\n",
        "using keyword : https://www.kaggle.com/bandits/using-keywords-for-prediction-improvement"
      ]
    },
    {
      "cell_type": "markdown",
      "metadata": {
        "id": "K9h3oQ_tA3y8"
      },
      "source": [
        "#Contribution"
      ]
    },
    {
      "cell_type": "markdown",
      "metadata": {
        "id": "-NFANw-zA61o"
      },
      "source": [
        "\r\n",
        "\r\n",
        "*   Choi Woo Seok: Embedding , LSTM Model , K-NN Model\r\n",
        "*   Nam Da Young : CNN Model, SVM Model, Model ensemble, plotting model data\r\n",
        "\r\n"
      ]
    },
    {
      "cell_type": "markdown",
      "metadata": {
        "id": "zmAyP479A7WB"
      },
      "source": [
        "#git repository"
      ]
    },
    {
      "cell_type": "markdown",
      "metadata": {
        "id": "jt2KuDjPnTX8"
      },
      "source": [
        ""
      ]
    }
  ]
}